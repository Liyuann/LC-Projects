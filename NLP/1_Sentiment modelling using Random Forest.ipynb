{
  "cells": [
    {
      "cell_type": "code",
      "execution_count": null,
      "id": "25eac0ad",
      "metadata": {
        "colab": {
          "base_uri": "https://localhost:8080/"
        },
        "id": "25eac0ad",
        "outputId": "c3a3100b-2673-4f1e-8100-6c326c4a3e3e"
      },
      "outputs": [
        {
          "output_type": "stream",
          "name": "stdout",
          "text": [
            "Looking in indexes: https://pypi.org/simple, https://us-python.pkg.dev/colab-wheels/public/simple/\n",
            "Collecting tweet-preprocessor\n",
            "  Downloading tweet_preprocessor-0.6.0-py3-none-any.whl (27 kB)\n",
            "Installing collected packages: tweet-preprocessor\n",
            "Successfully installed tweet-preprocessor-0.6.0\n"
          ]
        }
      ],
      "source": [
        "!pip install tweet-preprocessor"
      ]
    },
    {
      "cell_type": "code",
      "execution_count": null,
      "id": "6c968296",
      "metadata": {
        "colab": {
          "base_uri": "https://localhost:8080/"
        },
        "id": "6c968296",
        "outputId": "5fc54f44-ce8f-45a7-f97e-62d38cf18b7c"
      },
      "outputs": [
        {
          "output_type": "stream",
          "name": "stdout",
          "text": [
            "Looking in indexes: https://pypi.org/simple, https://us-python.pkg.dev/colab-wheels/public/simple/\n",
            "Requirement already satisfied: nltk in /usr/local/lib/python3.9/dist-packages (3.8.1)\n",
            "Requirement already satisfied: regex>=2021.8.3 in /usr/local/lib/python3.9/dist-packages (from nltk) (2022.10.31)\n",
            "Requirement already satisfied: tqdm in /usr/local/lib/python3.9/dist-packages (from nltk) (4.65.0)\n",
            "Requirement already satisfied: joblib in /usr/local/lib/python3.9/dist-packages (from nltk) (1.1.1)\n",
            "Requirement already satisfied: click in /usr/local/lib/python3.9/dist-packages (from nltk) (8.1.3)\n"
          ]
        }
      ],
      "source": [
        "!pip install nltk"
      ]
    },
    {
      "cell_type": "code",
      "execution_count": null,
      "id": "ef5dcb96",
      "metadata": {
        "colab": {
          "base_uri": "https://localhost:8080/"
        },
        "id": "ef5dcb96",
        "outputId": "7675f700-a499-4899-a050-f771a201cbb9"
      },
      "outputs": [
        {
          "output_type": "stream",
          "name": "stderr",
          "text": [
            "[nltk_data] Downloading package wordnet to /root/nltk_data...\n",
            "[nltk_data] Downloading package stopwords to /root/nltk_data...\n",
            "[nltk_data]   Unzipping corpora/stopwords.zip.\n"
          ]
        }
      ],
      "source": [
        "import pandas as pd\n",
        "import numpy as np\n",
        "import matplotlib.pyplot as plt\n",
        "import seaborn as sns\n",
        "import preprocessor as p\n",
        "import re\n",
        "import warnings\n",
        "warnings.filterwarnings(\"ignore\")\n",
        "from bs4 import BeautifulSoup\n",
        "import string\n",
        "import html\n",
        "import requests\n",
        "from sklearn.model_selection import train_test_split\n",
        "from sklearn.feature_extraction.text import TfidfVectorizer, CountVectorizer\n",
        "from sklearn import metrics\n",
        "from sklearn.linear_model import LogisticRegression\n",
        "from sklearn.svm import LinearSVC\n",
        "from sklearn.neighbors import KNeighborsClassifier\n",
        "from sklearn.naive_bayes import MultinomialNB\n",
        "from sklearn.ensemble import RandomForestClassifier\n",
        "from sklearn.tree import DecisionTreeClassifier\n",
        "import nltk\n",
        "from nltk import word_tokenize, FreqDist\n",
        "from nltk.corpus import stopwords\n",
        "from nltk.stem import WordNetLemmatizer\n",
        "nltk.download\n",
        "nltk.download('wordnet')\n",
        "nltk.download('stopwords')\n",
        "from nltk.tokenize import TweetTokenizer\n",
        "from sklearn.model_selection import GridSearchCV\n",
        "from sklearn.svm import SVC\n",
        "import xgboost as xgb\n",
        "from google.colab import files"
      ]
    },
    {
      "cell_type": "code",
      "source": [
        "uploaded = files.upload()"
      ],
      "metadata": {
        "colab": {
          "base_uri": "https://localhost:8080/",
          "height": 74
        },
        "id": "dTfO-4Ngv1mW",
        "outputId": "b38db3f8-e876-4a15-954a-7f8363758dcd"
      },
      "id": "dTfO-4Ngv1mW",
      "execution_count": null,
      "outputs": [
        {
          "output_type": "display_data",
          "data": {
            "text/plain": [
              "<IPython.core.display.HTML object>"
            ],
            "text/html": [
              "\n",
              "     <input type=\"file\" id=\"files-df569ff1-bf67-4d67-8392-70600718bb8a\" name=\"files[]\" multiple disabled\n",
              "        style=\"border:none\" />\n",
              "     <output id=\"result-df569ff1-bf67-4d67-8392-70600718bb8a\">\n",
              "      Upload widget is only available when the cell has been executed in the\n",
              "      current browser session. Please rerun this cell to enable.\n",
              "      </output>\n",
              "      <script>// Copyright 2017 Google LLC\n",
              "//\n",
              "// Licensed under the Apache License, Version 2.0 (the \"License\");\n",
              "// you may not use this file except in compliance with the License.\n",
              "// You may obtain a copy of the License at\n",
              "//\n",
              "//      http://www.apache.org/licenses/LICENSE-2.0\n",
              "//\n",
              "// Unless required by applicable law or agreed to in writing, software\n",
              "// distributed under the License is distributed on an \"AS IS\" BASIS,\n",
              "// WITHOUT WARRANTIES OR CONDITIONS OF ANY KIND, either express or implied.\n",
              "// See the License for the specific language governing permissions and\n",
              "// limitations under the License.\n",
              "\n",
              "/**\n",
              " * @fileoverview Helpers for google.colab Python module.\n",
              " */\n",
              "(function(scope) {\n",
              "function span(text, styleAttributes = {}) {\n",
              "  const element = document.createElement('span');\n",
              "  element.textContent = text;\n",
              "  for (const key of Object.keys(styleAttributes)) {\n",
              "    element.style[key] = styleAttributes[key];\n",
              "  }\n",
              "  return element;\n",
              "}\n",
              "\n",
              "// Max number of bytes which will be uploaded at a time.\n",
              "const MAX_PAYLOAD_SIZE = 100 * 1024;\n",
              "\n",
              "function _uploadFiles(inputId, outputId) {\n",
              "  const steps = uploadFilesStep(inputId, outputId);\n",
              "  const outputElement = document.getElementById(outputId);\n",
              "  // Cache steps on the outputElement to make it available for the next call\n",
              "  // to uploadFilesContinue from Python.\n",
              "  outputElement.steps = steps;\n",
              "\n",
              "  return _uploadFilesContinue(outputId);\n",
              "}\n",
              "\n",
              "// This is roughly an async generator (not supported in the browser yet),\n",
              "// where there are multiple asynchronous steps and the Python side is going\n",
              "// to poll for completion of each step.\n",
              "// This uses a Promise to block the python side on completion of each step,\n",
              "// then passes the result of the previous step as the input to the next step.\n",
              "function _uploadFilesContinue(outputId) {\n",
              "  const outputElement = document.getElementById(outputId);\n",
              "  const steps = outputElement.steps;\n",
              "\n",
              "  const next = steps.next(outputElement.lastPromiseValue);\n",
              "  return Promise.resolve(next.value.promise).then((value) => {\n",
              "    // Cache the last promise value to make it available to the next\n",
              "    // step of the generator.\n",
              "    outputElement.lastPromiseValue = value;\n",
              "    return next.value.response;\n",
              "  });\n",
              "}\n",
              "\n",
              "/**\n",
              " * Generator function which is called between each async step of the upload\n",
              " * process.\n",
              " * @param {string} inputId Element ID of the input file picker element.\n",
              " * @param {string} outputId Element ID of the output display.\n",
              " * @return {!Iterable<!Object>} Iterable of next steps.\n",
              " */\n",
              "function* uploadFilesStep(inputId, outputId) {\n",
              "  const inputElement = document.getElementById(inputId);\n",
              "  inputElement.disabled = false;\n",
              "\n",
              "  const outputElement = document.getElementById(outputId);\n",
              "  outputElement.innerHTML = '';\n",
              "\n",
              "  const pickedPromise = new Promise((resolve) => {\n",
              "    inputElement.addEventListener('change', (e) => {\n",
              "      resolve(e.target.files);\n",
              "    });\n",
              "  });\n",
              "\n",
              "  const cancel = document.createElement('button');\n",
              "  inputElement.parentElement.appendChild(cancel);\n",
              "  cancel.textContent = 'Cancel upload';\n",
              "  const cancelPromise = new Promise((resolve) => {\n",
              "    cancel.onclick = () => {\n",
              "      resolve(null);\n",
              "    };\n",
              "  });\n",
              "\n",
              "  // Wait for the user to pick the files.\n",
              "  const files = yield {\n",
              "    promise: Promise.race([pickedPromise, cancelPromise]),\n",
              "    response: {\n",
              "      action: 'starting',\n",
              "    }\n",
              "  };\n",
              "\n",
              "  cancel.remove();\n",
              "\n",
              "  // Disable the input element since further picks are not allowed.\n",
              "  inputElement.disabled = true;\n",
              "\n",
              "  if (!files) {\n",
              "    return {\n",
              "      response: {\n",
              "        action: 'complete',\n",
              "      }\n",
              "    };\n",
              "  }\n",
              "\n",
              "  for (const file of files) {\n",
              "    const li = document.createElement('li');\n",
              "    li.append(span(file.name, {fontWeight: 'bold'}));\n",
              "    li.append(span(\n",
              "        `(${file.type || 'n/a'}) - ${file.size} bytes, ` +\n",
              "        `last modified: ${\n",
              "            file.lastModifiedDate ? file.lastModifiedDate.toLocaleDateString() :\n",
              "                                    'n/a'} - `));\n",
              "    const percent = span('0% done');\n",
              "    li.appendChild(percent);\n",
              "\n",
              "    outputElement.appendChild(li);\n",
              "\n",
              "    const fileDataPromise = new Promise((resolve) => {\n",
              "      const reader = new FileReader();\n",
              "      reader.onload = (e) => {\n",
              "        resolve(e.target.result);\n",
              "      };\n",
              "      reader.readAsArrayBuffer(file);\n",
              "    });\n",
              "    // Wait for the data to be ready.\n",
              "    let fileData = yield {\n",
              "      promise: fileDataPromise,\n",
              "      response: {\n",
              "        action: 'continue',\n",
              "      }\n",
              "    };\n",
              "\n",
              "    // Use a chunked sending to avoid message size limits. See b/62115660.\n",
              "    let position = 0;\n",
              "    do {\n",
              "      const length = Math.min(fileData.byteLength - position, MAX_PAYLOAD_SIZE);\n",
              "      const chunk = new Uint8Array(fileData, position, length);\n",
              "      position += length;\n",
              "\n",
              "      const base64 = btoa(String.fromCharCode.apply(null, chunk));\n",
              "      yield {\n",
              "        response: {\n",
              "          action: 'append',\n",
              "          file: file.name,\n",
              "          data: base64,\n",
              "        },\n",
              "      };\n",
              "\n",
              "      let percentDone = fileData.byteLength === 0 ?\n",
              "          100 :\n",
              "          Math.round((position / fileData.byteLength) * 100);\n",
              "      percent.textContent = `${percentDone}% done`;\n",
              "\n",
              "    } while (position < fileData.byteLength);\n",
              "  }\n",
              "\n",
              "  // All done.\n",
              "  yield {\n",
              "    response: {\n",
              "      action: 'complete',\n",
              "    }\n",
              "  };\n",
              "}\n",
              "\n",
              "scope.google = scope.google || {};\n",
              "scope.google.colab = scope.google.colab || {};\n",
              "scope.google.colab._files = {\n",
              "  _uploadFiles,\n",
              "  _uploadFilesContinue,\n",
              "};\n",
              "})(self);\n",
              "</script> "
            ]
          },
          "metadata": {}
        },
        {
          "output_type": "stream",
          "name": "stdout",
          "text": [
            "Saving sentiment_analysis.csv to sentiment_analysis.csv\n"
          ]
        }
      ]
    },
    {
      "cell_type": "code",
      "execution_count": null,
      "id": "94fccf0f",
      "metadata": {
        "colab": {
          "base_uri": "https://localhost:8080/",
          "height": 206
        },
        "id": "94fccf0f",
        "outputId": "6d2d8360-fb85-47fe-eb15-06e01f27d1d5"
      },
      "outputs": [
        {
          "output_type": "execute_result",
          "data": {
            "text/plain": [
              "                                                text  label\n",
              "0  Josh Jenkins is looking forward to TAB Breeder...      1\n",
              "1  RT @MianUsmanJaved: Congratulations Pakistan o...      1\n",
              "2  RT @PEPalerts: This September, @YESmag is taki...      1\n",
              "3  RT @david_gaibis: Newly painted walls, thanks ...      1\n",
              "4  RT @CedricFeschotte: Excited to announce: as o...      1"
            ],
            "text/html": [
              "\n",
              "  <div id=\"df-29134da8-2a63-4f9d-86b4-763d74b441fa\">\n",
              "    <div class=\"colab-df-container\">\n",
              "      <div>\n",
              "<style scoped>\n",
              "    .dataframe tbody tr th:only-of-type {\n",
              "        vertical-align: middle;\n",
              "    }\n",
              "\n",
              "    .dataframe tbody tr th {\n",
              "        vertical-align: top;\n",
              "    }\n",
              "\n",
              "    .dataframe thead th {\n",
              "        text-align: right;\n",
              "    }\n",
              "</style>\n",
              "<table border=\"1\" class=\"dataframe\">\n",
              "  <thead>\n",
              "    <tr style=\"text-align: right;\">\n",
              "      <th></th>\n",
              "      <th>text</th>\n",
              "      <th>label</th>\n",
              "    </tr>\n",
              "  </thead>\n",
              "  <tbody>\n",
              "    <tr>\n",
              "      <th>0</th>\n",
              "      <td>Josh Jenkins is looking forward to TAB Breeder...</td>\n",
              "      <td>1</td>\n",
              "    </tr>\n",
              "    <tr>\n",
              "      <th>1</th>\n",
              "      <td>RT @MianUsmanJaved: Congratulations Pakistan o...</td>\n",
              "      <td>1</td>\n",
              "    </tr>\n",
              "    <tr>\n",
              "      <th>2</th>\n",
              "      <td>RT @PEPalerts: This September, @YESmag is taki...</td>\n",
              "      <td>1</td>\n",
              "    </tr>\n",
              "    <tr>\n",
              "      <th>3</th>\n",
              "      <td>RT @david_gaibis: Newly painted walls, thanks ...</td>\n",
              "      <td>1</td>\n",
              "    </tr>\n",
              "    <tr>\n",
              "      <th>4</th>\n",
              "      <td>RT @CedricFeschotte: Excited to announce: as o...</td>\n",
              "      <td>1</td>\n",
              "    </tr>\n",
              "  </tbody>\n",
              "</table>\n",
              "</div>\n",
              "      <button class=\"colab-df-convert\" onclick=\"convertToInteractive('df-29134da8-2a63-4f9d-86b4-763d74b441fa')\"\n",
              "              title=\"Convert this dataframe to an interactive table.\"\n",
              "              style=\"display:none;\">\n",
              "        \n",
              "  <svg xmlns=\"http://www.w3.org/2000/svg\" height=\"24px\"viewBox=\"0 0 24 24\"\n",
              "       width=\"24px\">\n",
              "    <path d=\"M0 0h24v24H0V0z\" fill=\"none\"/>\n",
              "    <path d=\"M18.56 5.44l.94 2.06.94-2.06 2.06-.94-2.06-.94-.94-2.06-.94 2.06-2.06.94zm-11 1L8.5 8.5l.94-2.06 2.06-.94-2.06-.94L8.5 2.5l-.94 2.06-2.06.94zm10 10l.94 2.06.94-2.06 2.06-.94-2.06-.94-.94-2.06-.94 2.06-2.06.94z\"/><path d=\"M17.41 7.96l-1.37-1.37c-.4-.4-.92-.59-1.43-.59-.52 0-1.04.2-1.43.59L10.3 9.45l-7.72 7.72c-.78.78-.78 2.05 0 2.83L4 21.41c.39.39.9.59 1.41.59.51 0 1.02-.2 1.41-.59l7.78-7.78 2.81-2.81c.8-.78.8-2.07 0-2.86zM5.41 20L4 18.59l7.72-7.72 1.47 1.35L5.41 20z\"/>\n",
              "  </svg>\n",
              "      </button>\n",
              "      \n",
              "  <style>\n",
              "    .colab-df-container {\n",
              "      display:flex;\n",
              "      flex-wrap:wrap;\n",
              "      gap: 12px;\n",
              "    }\n",
              "\n",
              "    .colab-df-convert {\n",
              "      background-color: #E8F0FE;\n",
              "      border: none;\n",
              "      border-radius: 50%;\n",
              "      cursor: pointer;\n",
              "      display: none;\n",
              "      fill: #1967D2;\n",
              "      height: 32px;\n",
              "      padding: 0 0 0 0;\n",
              "      width: 32px;\n",
              "    }\n",
              "\n",
              "    .colab-df-convert:hover {\n",
              "      background-color: #E2EBFA;\n",
              "      box-shadow: 0px 1px 2px rgba(60, 64, 67, 0.3), 0px 1px 3px 1px rgba(60, 64, 67, 0.15);\n",
              "      fill: #174EA6;\n",
              "    }\n",
              "\n",
              "    [theme=dark] .colab-df-convert {\n",
              "      background-color: #3B4455;\n",
              "      fill: #D2E3FC;\n",
              "    }\n",
              "\n",
              "    [theme=dark] .colab-df-convert:hover {\n",
              "      background-color: #434B5C;\n",
              "      box-shadow: 0px 1px 3px 1px rgba(0, 0, 0, 0.15);\n",
              "      filter: drop-shadow(0px 1px 2px rgba(0, 0, 0, 0.3));\n",
              "      fill: #FFFFFF;\n",
              "    }\n",
              "  </style>\n",
              "\n",
              "      <script>\n",
              "        const buttonEl =\n",
              "          document.querySelector('#df-29134da8-2a63-4f9d-86b4-763d74b441fa button.colab-df-convert');\n",
              "        buttonEl.style.display =\n",
              "          google.colab.kernel.accessAllowed ? 'block' : 'none';\n",
              "\n",
              "        async function convertToInteractive(key) {\n",
              "          const element = document.querySelector('#df-29134da8-2a63-4f9d-86b4-763d74b441fa');\n",
              "          const dataTable =\n",
              "            await google.colab.kernel.invokeFunction('convertToInteractive',\n",
              "                                                     [key], {});\n",
              "          if (!dataTable) return;\n",
              "\n",
              "          const docLinkHtml = 'Like what you see? Visit the ' +\n",
              "            '<a target=\"_blank\" href=https://colab.research.google.com/notebooks/data_table.ipynb>data table notebook</a>'\n",
              "            + ' to learn more about interactive tables.';\n",
              "          element.innerHTML = '';\n",
              "          dataTable['output_type'] = 'display_data';\n",
              "          await google.colab.output.renderOutput(dataTable, element);\n",
              "          const docLink = document.createElement('div');\n",
              "          docLink.innerHTML = docLinkHtml;\n",
              "          element.appendChild(docLink);\n",
              "        }\n",
              "      </script>\n",
              "    </div>\n",
              "  </div>\n",
              "  "
            ]
          },
          "metadata": {},
          "execution_count": 5
        }
      ],
      "source": [
        "df = pd.read_csv('sentiment_analysis.csv')\n",
        "df = df.drop(['ID'], axis=1)\n",
        "df.head()"
      ]
    },
    {
      "cell_type": "code",
      "execution_count": null,
      "id": "81536070",
      "metadata": {
        "id": "81536070"
      },
      "outputs": [],
      "source": [
        "def clean_text(_sentence):\n",
        "\n",
        "    #removes emojis, pictographs, map symbols and flags\n",
        "    emoji_pattern = re.compile(pattern = \"[\"\n",
        "          u\"\\U0001F600-\\U0001F64F\"\n",
        "          u\"\\U0001F300-\\U0001F5FF\"\n",
        "          u\"\\U0001F680-\\U0001F6FF\"\n",
        "          u\"\\U0001F1E0-\\U0001F1FF\"\n",
        "                            \"]+\", flags = re.UNICODE)\n",
        "    _sentence = emoji_pattern.sub(r'',_sentence)\n",
        "\n",
        "    #emoves tags and attributes\n",
        "    _sentence = re.sub('(<[^>]*>)','',_sentence)\n",
        "\n",
        "    #converts character code to string\n",
        "    _sentence = html.unescape(_sentence)\n",
        "\n",
        "    #removes urls\n",
        "    _sentence = re.sub(\"(\\w+:\\/\\/\\S+)|(http[^\\s]+)|(www.[^\\s]+)\",'',_sentence, flags=re.MULTILINE)\n",
        "\n",
        "    #removes RT\n",
        "    _sentence = re.sub(\"RT\",'',_sentence)\n",
        "\n",
        "    #converts the sentence to a lower case\n",
        "    _sentence = _sentence.lower()\n",
        "\n",
        "    #removes punctuation\n",
        "    _sentence = re.sub(r'\\@\\w+|\\#\\w+','', _sentence)\n",
        "    _sentence = _sentence.translate(str.maketrans('', '', (string.punctuation)))\n",
        "\n",
        "    #checks for stop words\n",
        "    stop_words = set(stopwords.words('english'))\n",
        "    _sentence = [word for word in str(_sentence).split() if word not in stop_words]\n",
        "\n",
        "    #joins the word and returns a sentence\n",
        "    return \" \".join(_sentence)\n",
        "\n",
        "#function to preprocess tweets\n",
        "def preprocess_tweets(tweets_df):\n",
        "\n",
        "    #apply clean text in a vectorized format\n",
        "    vfunc_clean_text = np.vectorize(clean_text)\n",
        "    tweets_df['text'] = vfunc_clean_text(tweets_df['text']) #create a new column that consists of preprocessed tweets\n",
        "\n",
        "    return tweets_df"
      ]
    },
    {
      "cell_type": "code",
      "execution_count": null,
      "id": "66fcf3cc",
      "metadata": {
        "id": "66fcf3cc"
      },
      "outputs": [],
      "source": [
        "df = preprocess_tweets(df)"
      ]
    },
    {
      "cell_type": "code",
      "execution_count": null,
      "id": "8dd393e8",
      "metadata": {
        "colab": {
          "base_uri": "https://localhost:8080/",
          "height": 424
        },
        "id": "8dd393e8",
        "outputId": "cd497b27-b317-441b-ec9e-85947896a391"
      },
      "outputs": [
        {
          "output_type": "execute_result",
          "data": {
            "text/plain": [
              "                                                     text  label\n",
              "0       josh jenkins looking forward tab breeders crow...      1\n",
              "1            congratulations pakistan becoming world odds      1\n",
              "2       september taking maine mendoza’s surprise than...      1\n",
              "3       newly painted walls thanks million custodial p...      1\n",
              "4       excited announce july 2017 feschotte lab reloc...      1\n",
              "...                                                   ...    ...\n",
              "550386                           cant stop watching hermm      0\n",
              "550387  poor old tom odell doesnt look like would know...      0\n",
              "550388                  smashed 7 ants awesome gamehjfjfi      1\n",
              "550389                            morning girls wonderful      1\n",
              "550390  bixbeat mixtape vol2 great artiste join moveme...      1\n",
              "\n",
              "[550391 rows x 2 columns]"
            ],
            "text/html": [
              "\n",
              "  <div id=\"df-8029ad90-3e33-4690-8f87-777ccd8480ac\">\n",
              "    <div class=\"colab-df-container\">\n",
              "      <div>\n",
              "<style scoped>\n",
              "    .dataframe tbody tr th:only-of-type {\n",
              "        vertical-align: middle;\n",
              "    }\n",
              "\n",
              "    .dataframe tbody tr th {\n",
              "        vertical-align: top;\n",
              "    }\n",
              "\n",
              "    .dataframe thead th {\n",
              "        text-align: right;\n",
              "    }\n",
              "</style>\n",
              "<table border=\"1\" class=\"dataframe\">\n",
              "  <thead>\n",
              "    <tr style=\"text-align: right;\">\n",
              "      <th></th>\n",
              "      <th>text</th>\n",
              "      <th>label</th>\n",
              "    </tr>\n",
              "  </thead>\n",
              "  <tbody>\n",
              "    <tr>\n",
              "      <th>0</th>\n",
              "      <td>josh jenkins looking forward tab breeders crow...</td>\n",
              "      <td>1</td>\n",
              "    </tr>\n",
              "    <tr>\n",
              "      <th>1</th>\n",
              "      <td>congratulations pakistan becoming world odds</td>\n",
              "      <td>1</td>\n",
              "    </tr>\n",
              "    <tr>\n",
              "      <th>2</th>\n",
              "      <td>september taking maine mendoza’s surprise than...</td>\n",
              "      <td>1</td>\n",
              "    </tr>\n",
              "    <tr>\n",
              "      <th>3</th>\n",
              "      <td>newly painted walls thanks million custodial p...</td>\n",
              "      <td>1</td>\n",
              "    </tr>\n",
              "    <tr>\n",
              "      <th>4</th>\n",
              "      <td>excited announce july 2017 feschotte lab reloc...</td>\n",
              "      <td>1</td>\n",
              "    </tr>\n",
              "    <tr>\n",
              "      <th>...</th>\n",
              "      <td>...</td>\n",
              "      <td>...</td>\n",
              "    </tr>\n",
              "    <tr>\n",
              "      <th>550386</th>\n",
              "      <td>cant stop watching hermm</td>\n",
              "      <td>0</td>\n",
              "    </tr>\n",
              "    <tr>\n",
              "      <th>550387</th>\n",
              "      <td>poor old tom odell doesnt look like would know...</td>\n",
              "      <td>0</td>\n",
              "    </tr>\n",
              "    <tr>\n",
              "      <th>550388</th>\n",
              "      <td>smashed 7 ants awesome gamehjfjfi</td>\n",
              "      <td>1</td>\n",
              "    </tr>\n",
              "    <tr>\n",
              "      <th>550389</th>\n",
              "      <td>morning girls wonderful</td>\n",
              "      <td>1</td>\n",
              "    </tr>\n",
              "    <tr>\n",
              "      <th>550390</th>\n",
              "      <td>bixbeat mixtape vol2 great artiste join moveme...</td>\n",
              "      <td>1</td>\n",
              "    </tr>\n",
              "  </tbody>\n",
              "</table>\n",
              "<p>550391 rows × 2 columns</p>\n",
              "</div>\n",
              "      <button class=\"colab-df-convert\" onclick=\"convertToInteractive('df-8029ad90-3e33-4690-8f87-777ccd8480ac')\"\n",
              "              title=\"Convert this dataframe to an interactive table.\"\n",
              "              style=\"display:none;\">\n",
              "        \n",
              "  <svg xmlns=\"http://www.w3.org/2000/svg\" height=\"24px\"viewBox=\"0 0 24 24\"\n",
              "       width=\"24px\">\n",
              "    <path d=\"M0 0h24v24H0V0z\" fill=\"none\"/>\n",
              "    <path d=\"M18.56 5.44l.94 2.06.94-2.06 2.06-.94-2.06-.94-.94-2.06-.94 2.06-2.06.94zm-11 1L8.5 8.5l.94-2.06 2.06-.94-2.06-.94L8.5 2.5l-.94 2.06-2.06.94zm10 10l.94 2.06.94-2.06 2.06-.94-2.06-.94-.94-2.06-.94 2.06-2.06.94z\"/><path d=\"M17.41 7.96l-1.37-1.37c-.4-.4-.92-.59-1.43-.59-.52 0-1.04.2-1.43.59L10.3 9.45l-7.72 7.72c-.78.78-.78 2.05 0 2.83L4 21.41c.39.39.9.59 1.41.59.51 0 1.02-.2 1.41-.59l7.78-7.78 2.81-2.81c.8-.78.8-2.07 0-2.86zM5.41 20L4 18.59l7.72-7.72 1.47 1.35L5.41 20z\"/>\n",
              "  </svg>\n",
              "      </button>\n",
              "      \n",
              "  <style>\n",
              "    .colab-df-container {\n",
              "      display:flex;\n",
              "      flex-wrap:wrap;\n",
              "      gap: 12px;\n",
              "    }\n",
              "\n",
              "    .colab-df-convert {\n",
              "      background-color: #E8F0FE;\n",
              "      border: none;\n",
              "      border-radius: 50%;\n",
              "      cursor: pointer;\n",
              "      display: none;\n",
              "      fill: #1967D2;\n",
              "      height: 32px;\n",
              "      padding: 0 0 0 0;\n",
              "      width: 32px;\n",
              "    }\n",
              "\n",
              "    .colab-df-convert:hover {\n",
              "      background-color: #E2EBFA;\n",
              "      box-shadow: 0px 1px 2px rgba(60, 64, 67, 0.3), 0px 1px 3px 1px rgba(60, 64, 67, 0.15);\n",
              "      fill: #174EA6;\n",
              "    }\n",
              "\n",
              "    [theme=dark] .colab-df-convert {\n",
              "      background-color: #3B4455;\n",
              "      fill: #D2E3FC;\n",
              "    }\n",
              "\n",
              "    [theme=dark] .colab-df-convert:hover {\n",
              "      background-color: #434B5C;\n",
              "      box-shadow: 0px 1px 3px 1px rgba(0, 0, 0, 0.15);\n",
              "      filter: drop-shadow(0px 1px 2px rgba(0, 0, 0, 0.3));\n",
              "      fill: #FFFFFF;\n",
              "    }\n",
              "  </style>\n",
              "\n",
              "      <script>\n",
              "        const buttonEl =\n",
              "          document.querySelector('#df-8029ad90-3e33-4690-8f87-777ccd8480ac button.colab-df-convert');\n",
              "        buttonEl.style.display =\n",
              "          google.colab.kernel.accessAllowed ? 'block' : 'none';\n",
              "\n",
              "        async function convertToInteractive(key) {\n",
              "          const element = document.querySelector('#df-8029ad90-3e33-4690-8f87-777ccd8480ac');\n",
              "          const dataTable =\n",
              "            await google.colab.kernel.invokeFunction('convertToInteractive',\n",
              "                                                     [key], {});\n",
              "          if (!dataTable) return;\n",
              "\n",
              "          const docLinkHtml = 'Like what you see? Visit the ' +\n",
              "            '<a target=\"_blank\" href=https://colab.research.google.com/notebooks/data_table.ipynb>data table notebook</a>'\n",
              "            + ' to learn more about interactive tables.';\n",
              "          element.innerHTML = '';\n",
              "          dataTable['output_type'] = 'display_data';\n",
              "          await google.colab.output.renderOutput(dataTable, element);\n",
              "          const docLink = document.createElement('div');\n",
              "          docLink.innerHTML = docLinkHtml;\n",
              "          element.appendChild(docLink);\n",
              "        }\n",
              "      </script>\n",
              "    </div>\n",
              "  </div>\n",
              "  "
            ]
          },
          "metadata": {},
          "execution_count": 8
        }
      ],
      "source": [
        "df"
      ]
    },
    {
      "cell_type": "code",
      "execution_count": null,
      "id": "9949d119",
      "metadata": {
        "id": "9949d119"
      },
      "outputs": [],
      "source": [
        "X = df.loc[:, ['text']]\n",
        "y = df['label']\n",
        "\n",
        "X_train, X_test, y_train, y_test = train_test_split(X, y, test_size=0.2, stratify=y, random_state=1)"
      ]
    },
    {
      "cell_type": "code",
      "execution_count": null,
      "id": "edc90276",
      "metadata": {
        "colab": {
          "base_uri": "https://localhost:8080/"
        },
        "id": "edc90276",
        "outputId": "46d1a799-677e-47dd-aead-d32867166240"
      },
      "outputs": [
        {
          "output_type": "stream",
          "name": "stdout",
          "text": [
            "(440312, 1) (110079, 1)\n"
          ]
        }
      ],
      "source": [
        "vectorizer = CountVectorizer(binary=False,ngram_range=(1,1))\n",
        "X_train_ = vectorizer.fit_transform(X_train['text'])\n",
        "X_test_ = vectorizer.transform(X_test['text'])\n",
        "print (X_train.shape, X_test.shape)"
      ]
    },
    {
      "cell_type": "markdown",
      "id": "32f7b6c6",
      "metadata": {
        "id": "32f7b6c6"
      },
      "source": [
        "TV = TfidfVectorizer(max_features = 1000)   \n",
        "X_train = TV.fit_transform(X_train['text'])\n",
        "X_test = TV.fit_transform(X_test['text'])\n",
        "print(np.shape(X_train))\n",
        "print(np.shape(X_test))"
      ]
    },
    {
      "cell_type": "code",
      "execution_count": null,
      "id": "f70c6684",
      "metadata": {
        "id": "f70c6684"
      },
      "outputs": [],
      "source": [
        "from sklearn.metrics import classification_report, confusion_matrix"
      ]
    },
    {
      "cell_type": "code",
      "execution_count": null,
      "id": "7233a75e",
      "metadata": {
        "id": "7233a75e"
      },
      "outputs": [],
      "source": [
        "def model_training(model, X_train, y_train, X_test, y_test):\n",
        "    model.fit(X_train,y_train)\n",
        "    y_pred_train = model.predict(X_train)\n",
        "    y_pred_test = model.predict(X_test)\n",
        "\n",
        "    acc_train = metrics.accuracy_score(y_train, y_pred_train)\n",
        "    acc_test = metrics.accuracy_score(y_test, y_pred_test)\n",
        "\n",
        "    #Print Accuracies for comparison\n",
        "    print(\"The accuracy score for the Train set is: {}\".format(acc_train))\n",
        "    print(\"The accuracy score for the Test set is: {}\".format(acc_test))\n",
        "    print(classification_report(y_test, y_pred_test))\n",
        "    print(confusion_matrix(y_test, y_pred_test, labels=[0, 1]))\n",
        "\n",
        ""
      ]
    },
    {
      "cell_type": "code",
      "execution_count": null,
      "id": "8f9560a4",
      "metadata": {
        "id": "8f9560a4"
      },
      "outputs": [],
      "source": [
        "KNN_model = KNeighborsClassifier()\n",
        "print(\"Results when KNN model is used:\\n\")\n",
        "model_training(KNN_model, X_train_, y_train,  X_test_, y_test)"
      ]
    },
    {
      "cell_type": "code",
      "execution_count": null,
      "id": "f6950305",
      "metadata": {
        "colab": {
          "base_uri": "https://localhost:8080/"
        },
        "id": "f6950305",
        "outputId": "e0635972-fa8d-4b9d-a613-22ae6f566743"
      },
      "outputs": [
        {
          "output_type": "stream",
          "name": "stdout",
          "text": [
            "Results when Logistic Regression is used:\n",
            "\n",
            "The accuracy score for the Train set is: 0.9834617271389379\n",
            "The accuracy score for the Test set is: 0.973310077308115\n",
            "              precision    recall  f1-score   support\n",
            "\n",
            "           0       0.96      0.96      0.96     35810\n",
            "           1       0.98      0.98      0.98     74269\n",
            "\n",
            "    accuracy                           0.97    110079\n",
            "   macro avg       0.97      0.97      0.97    110079\n",
            "weighted avg       0.97      0.97      0.97    110079\n",
            "\n",
            "[[34457  1353]\n",
            " [ 1585 72684]]\n"
          ]
        }
      ],
      "source": [
        "LR_model = LogisticRegression()\n",
        "print(\"Results when Logistic Regression is used:\\n\")\n",
        "model_training(LR_model, X_train_, y_train,  X_test_, y_test)"
      ]
    },
    {
      "cell_type": "code",
      "execution_count": null,
      "id": "451c0276",
      "metadata": {
        "colab": {
          "base_uri": "https://localhost:8080/"
        },
        "id": "451c0276",
        "outputId": "a4bc3f12-c271-4159-b92e-09231205f222"
      },
      "outputs": [
        {
          "output_type": "stream",
          "name": "stdout",
          "text": [
            "Results when SVC model is used:\n",
            "\n",
            "The accuracy score for the Train set is: 0.9910472573992987\n",
            "The accuracy score for the Test set is: 0.971429609643983\n",
            "              precision    recall  f1-score   support\n",
            "\n",
            "           0       0.95      0.96      0.96     35810\n",
            "           1       0.98      0.98      0.98     74269\n",
            "\n",
            "    accuracy                           0.97    110079\n",
            "   macro avg       0.97      0.97      0.97    110079\n",
            "weighted avg       0.97      0.97      0.97    110079\n",
            "\n",
            "[[34348  1462]\n",
            " [ 1683 72586]]\n"
          ]
        }
      ],
      "source": [
        "SVC_model = LinearSVC()\n",
        "print(\"Results when SVC model is used:\\n\")\n",
        "model_training(SVC_model, X_train_, y_train,  X_test_, y_test)"
      ]
    },
    {
      "cell_type": "code",
      "execution_count": null,
      "id": "e5bd3f57",
      "metadata": {
        "colab": {
          "base_uri": "https://localhost:8080/"
        },
        "id": "e5bd3f57",
        "outputId": "5b4bc594-bc41-410d-b404-7f57a008f998"
      },
      "outputs": [
        {
          "output_type": "stream",
          "name": "stdout",
          "text": [
            "Results when Naive Bayes model is used:\n",
            "\n",
            "The accuracy score for the Train set is: 0.964629626265012\n",
            "The accuracy score for the Test set is: 0.9534243588695391\n",
            "              precision    recall  f1-score   support\n",
            "\n",
            "           0       0.94      0.91      0.93     35810\n",
            "           1       0.96      0.97      0.97     74269\n",
            "\n",
            "    accuracy                           0.95    110079\n",
            "   macro avg       0.95      0.94      0.95    110079\n",
            "weighted avg       0.95      0.95      0.95    110079\n",
            "\n",
            "[[32681  3129]\n",
            " [ 1998 72271]]\n"
          ]
        }
      ],
      "source": [
        "MultinomialNB_model = MultinomialNB()\n",
        "print(\"Results when Naive Bayes model is used:\\n\")\n",
        "model_training(MultinomialNB_model, X_train_, y_train,  X_test_, y_test)"
      ]
    },
    {
      "cell_type": "code",
      "execution_count": null,
      "id": "18737717",
      "metadata": {
        "colab": {
          "base_uri": "https://localhost:8080/"
        },
        "id": "18737717",
        "outputId": "053bc2b1-9e9d-41c2-c91f-49b7d73419b4"
      },
      "outputs": [
        {
          "output_type": "stream",
          "name": "stdout",
          "text": [
            "Results when Random Forest model is used:\n",
            "\n"
          ]
        }
      ],
      "source": [
        "randomforest_model = RandomForestClassifier()\n",
        "print(\"Results when Random Forest model is used:\\n\")\n",
        "model_training(randomforest_model, X_train_, y_train,  X_test_, y_test)"
      ]
    },
    {
      "cell_type": "code",
      "execution_count": null,
      "id": "4450158f",
      "metadata": {
        "id": "4450158f"
      },
      "outputs": [],
      "source": [
        "decisiontree_model = DecisionTreeClassifier()\n",
        "print(\"Results when Decision Tree model is used:\\n\")\n",
        "model_training(decisiontree_model, X_train_, y_train,  X_test_, y_test)"
      ]
    },
    {
      "cell_type": "markdown",
      "source": [
        "Random forest classification"
      ],
      "metadata": {
        "id": "f1uIVfxBAAL4"
      },
      "id": "f1uIVfxBAAL4"
    },
    {
      "cell_type": "code",
      "source": [
        "from sklearn.ensemble import RandomForestClassifier\n",
        "from sklearn.metrics import accuracy_score, confusion_matrix, precision_score, recall_score, ConfusionMatrixDisplay\n",
        "from sklearn.model_selection import RandomizedSearchCV, train_test_split, cross_val_score\n",
        "from scipy.stats import randint"
      ],
      "metadata": {
        "id": "rY3dp1cEgQ0u"
      },
      "id": "rY3dp1cEgQ0u",
      "execution_count": null,
      "outputs": []
    },
    {
      "cell_type": "code",
      "source": [
        "X_train1, X_test1, y_train1, y_test1 = train_test_split(X, y, test_size=0.2, stratify=y, random_state=42)"
      ],
      "metadata": {
        "id": "C_hqnuJbf5IU"
      },
      "id": "C_hqnuJbf5IU",
      "execution_count": null,
      "outputs": []
    },
    {
      "cell_type": "code",
      "source": [
        "vectorizer = CountVectorizer(binary=False,ngram_range=(1,1))\n",
        "X_train1_ = vectorizer.fit_transform(X_train1['text'])\n",
        "X_test1_ = vectorizer.transform(X_test1['text'])"
      ],
      "metadata": {
        "id": "cNyEOVXqmGkB"
      },
      "id": "cNyEOVXqmGkB",
      "execution_count": null,
      "outputs": []
    },
    {
      "cell_type": "code",
      "source": [
        "from sklearn.ensemble import RandomForestClassifier\n",
        "from sklearn.model_selection import cross_val_score\n",
        "\n",
        "rf = RandomForestClassifier()\n",
        "scores = cross_val_score(rf,X_train1_,y_train1.values.ravel(),cv=5)"
      ],
      "metadata": {
        "id": "5mdDMXcUgFne"
      },
      "id": "5mdDMXcUgFne",
      "execution_count": null,
      "outputs": []
    },
    {
      "cell_type": "code",
      "source": [
        "from sklearn.model_selection import GridSearchCV\n",
        "\n",
        "rf = RandomForestClassifier()\n",
        "parameters = {\n",
        "    'n_estimators': [5,50,100],\n",
        "    'max_depth': [2,10,20,None]\n",
        "}\n",
        "\n",
        "cv = GridSearchCV(rf,parameters)\n",
        "cv.fit(X_train1_,y_train1.values.ravel())\n",
        "cv.best_estimator_"
      ],
      "metadata": {
        "id": "As6pPxxumxrM"
      },
      "id": "As6pPxxumxrM",
      "execution_count": null,
      "outputs": []
    },
    {
      "cell_type": "code",
      "source": [
        "X_train1, X_test1, y_train1, y_test1 = train_test_split(X, y, test_size=0.2, stratify=y, random_state=42)\n",
        "\n",
        "# Convert text column to list\n",
        "X_train1_text = X_train1['text'].tolist()\n",
        "X_test1_text = X_test1['text'].tolist()\n",
        "\n",
        "# Fit CountVectorizer and transform text data\n",
        "vectorizer = CountVectorizer(binary=False, ngram_range=(1, 1))\n",
        "X_train1_ = vectorizer.fit_transform(X_train1_text)\n",
        "X_test1_ = vectorizer.transform(X_test1_text)\n",
        "\n",
        "# Create DMatrix object with categorical feature enabled\n",
        "dtrain = xgb.DMatrix(data=X_train1_, label=y_train1, enable_categorical=True)\n",
        "dtest = xgb.DMatrix(data=X_test1_, enable_categorical=True)\n",
        "\n",
        "# Train XGBoost model\n",
        "params = {'max_depth': 3, 'eta': 0.1, 'objective': 'binary:logistic'}\n",
        "xgb_model = xgb.train(params=params, dtrain=dtrain)\n",
        "\n",
        "# Make predictions\n",
        "y_predictions_train = xgb_model.predict(dtrain)\n",
        "y_predictions_test = xgb_model.predict(dtest)\n",
        "\n",
        "# Convert predicted probabilities to binary values using a threshold of 0.5\n",
        "y_pred_train = (y_predictions_train > 0.5).astype(int)\n",
        "y_pred_test = (y_predictions_test > 0.5).astype(int)\n",
        "\n",
        "# Calculate accuracies\n",
        "acc_train = metrics.accuracy_score(y_train1, y_pred_train, normalize=True, sample_weight=None)\n",
        "acc_test = metrics.accuracy_score(y_test1, y_pred_test, normalize=True, sample_weight=None)\n",
        "\n",
        "# Print accuracies and other metrics\n",
        "print(\"The accuracy score for the Train set is: {}\".format(acc_train))\n",
        "print(\"The accuracy score for the Test set is: {}\".format(acc_test))\n",
        "print(classification_report(y_test, y_pred_test))\n",
        "print(confusion_matrix(y_test, y_pred_test, labels=[0, 1]))\n",
        "\n"
      ],
      "metadata": {
        "colab": {
          "base_uri": "https://localhost:8080/"
        },
        "id": "P2fsrCRI-pFR",
        "outputId": "0621bb05-6ca6-49d1-ef28-29cd1826f02a"
      },
      "id": "P2fsrCRI-pFR",
      "execution_count": null,
      "outputs": [
        {
          "output_type": "stream",
          "name": "stdout",
          "text": [
            "The accuracy score for the Train set is: 0.6749009793055833\n",
            "The accuracy score for the Test set is: 0.674951625650669\n",
            "              precision    recall  f1-score   support\n",
            "\n",
            "           0       0.33      0.00      0.00     35810\n",
            "           1       0.67      1.00      0.81     74269\n",
            "\n",
            "    accuracy                           0.67    110079\n",
            "   macro avg       0.50      0.50      0.40    110079\n",
            "weighted avg       0.56      0.67      0.54    110079\n",
            "\n",
            "[[   17 35793]\n",
            " [   34 74235]]\n"
          ]
        }
      ]
    }
  ],
  "metadata": {
    "kernelspec": {
      "display_name": "Python 3 (ipykernel)",
      "language": "python",
      "name": "python3"
    },
    "language_info": {
      "codemirror_mode": {
        "name": "ipython",
        "version": 3
      },
      "file_extension": ".py",
      "mimetype": "text/x-python",
      "name": "python",
      "nbconvert_exporter": "python",
      "pygments_lexer": "ipython3",
      "version": "3.9.13"
    },
    "colab": {
      "provenance": []
    }
  },
  "nbformat": 4,
  "nbformat_minor": 5
}