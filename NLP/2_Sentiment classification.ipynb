{
 "cells": [
  {
   "cell_type": "code",
   "execution_count": 3,
   "id": "811842d3",
   "metadata": {},
   "outputs": [
    {
     "name": "stdout",
     "output_type": "stream",
     "text": [
      "Collecting tweet-preprocessor\n",
      "  Downloading tweet_preprocessor-0.6.0-py3-none-any.whl (27 kB)\n",
      "Installing collected packages: tweet-preprocessor\n",
      "Successfully installed tweet-preprocessor-0.6.0\n"
     ]
    }
   ],
   "source": [
    "!pip install tweet-preprocessor"
   ]
  },
  {
   "cell_type": "code",
   "execution_count": 1,
   "id": "a3587709",
   "metadata": {},
   "outputs": [
    {
     "name": "stdout",
     "output_type": "stream",
     "text": [
      "Requirement already satisfied: nltk in c:\\users\\owner\\appdata\\local\\programs\\python\\python36\\lib\\site-packages (3.6.7)\n",
      "Requirement already satisfied: joblib in c:\\users\\owner\\appdata\\local\\programs\\python\\python36\\lib\\site-packages (from nltk) (1.0.0)\n",
      "Requirement already satisfied: click in c:\\users\\owner\\appdata\\local\\programs\\python\\python36\\lib\\site-packages (from nltk) (7.1.2)\n",
      "Requirement already satisfied: tqdm in c:\\users\\owner\\appdata\\local\\programs\\python\\python36\\lib\\site-packages (from nltk) (4.64.1)\n",
      "Requirement already satisfied: regex>=2021.8.3 in c:\\users\\owner\\appdata\\local\\programs\\python\\python36\\lib\\site-packages (from nltk) (2022.10.31)\n",
      "Requirement already satisfied: colorama in c:\\users\\owner\\appdata\\local\\programs\\python\\python36\\lib\\site-packages (from tqdm->nltk) (0.4.5)\n",
      "Requirement already satisfied: importlib-resources in c:\\users\\owner\\appdata\\local\\programs\\python\\python36\\lib\\site-packages (from tqdm->nltk) (5.4.0)\n",
      "Requirement already satisfied: zipp>=3.1.0 in c:\\users\\owner\\appdata\\local\\programs\\python\\python36\\lib\\site-packages (from importlib-resources->tqdm->nltk) (3.6.0)\n"
     ]
    }
   ],
   "source": [
    "!pip install nltk"
   ]
  },
  {
   "cell_type": "code",
   "execution_count": 1,
   "id": "58fe07f0",
   "metadata": {},
   "outputs": [
    {
     "name": "stderr",
     "output_type": "stream",
     "text": [
      "[nltk_data] Downloading package wordnet to\n",
      "[nltk_data]     /Users/Liyuannnnn/nltk_data...\n",
      "[nltk_data]   Package wordnet is already up-to-date!\n",
      "[nltk_data] Downloading package stopwords to\n",
      "[nltk_data]     /Users/Liyuannnnn/nltk_data...\n",
      "[nltk_data]   Package stopwords is already up-to-date!\n",
      "[nltk_data] Downloading package vader_lexicon to\n",
      "[nltk_data]     /Users/Liyuannnnn/nltk_data...\n",
      "[nltk_data] Downloading package punkt to\n",
      "[nltk_data]     /Users/Liyuannnnn/nltk_data...\n",
      "[nltk_data]   Unzipping tokenizers/punkt.zip.\n"
     ]
    }
   ],
   "source": [
    "import pandas as pd\n",
    "import numpy as np \n",
    "import matplotlib.pyplot as plt\n",
    "import seaborn as sns\n",
    "#import preprocessor as p\n",
    "import re\n",
    "import warnings\n",
    "warnings.filterwarnings(\"ignore\")\n",
    "from bs4 import BeautifulSoup\n",
    "import string\n",
    "import html\n",
    "import requests\n",
    "from sklearn.model_selection import train_test_split\n",
    "from sklearn.feature_extraction.text import TfidfVectorizer, CountVectorizer\n",
    "from sklearn import metrics\n",
    "from sklearn.linear_model import LogisticRegression\n",
    "from sklearn.svm import LinearSVC\n",
    "from sklearn.neighbors import KNeighborsClassifier\n",
    "from sklearn.naive_bayes import MultinomialNB\n",
    "from sklearn.ensemble import RandomForestClassifier\n",
    "from sklearn.tree import DecisionTreeClassifier\n",
    "import nltk\n",
    "from nltk import word_tokenize, FreqDist\n",
    "from nltk.corpus import stopwords\n",
    "from nltk.stem import WordNetLemmatizer\n",
    "from nltk.sentiment.vader import SentimentIntensityAnalyzer\n",
    "from nltk.tokenize import word_tokenize, RegexpTokenizer\n",
    "from nltk.corpus import stopwords\n",
    "nltk.download\n",
    "nltk.download('wordnet')\n",
    "nltk.download('stopwords')\n",
    "nltk.download('vader_lexicon')\n",
    "nltk.download('punkt')\n",
    "from nltk.tokenize import TweetTokenizer\n",
    "from sklearn.model_selection import GridSearchCV\n",
    "from sklearn.svm import SVC\n",
    "import os\n",
    "import pickle\n",
    "from sklearn.metrics import classification_report, accuracy_score"
   ]
  },
  {
   "cell_type": "code",
   "execution_count": 2,
   "id": "961eb556",
   "metadata": {},
   "outputs": [],
   "source": [
    "def clean_text(_sentence):\n",
    "\n",
    "    #removes emojis, pictographs, map symbols and flags\n",
    "    emoji_pattern = re.compile(pattern = \"[\"\n",
    "          u\"\\U0001F600-\\U0001F64F\" \n",
    "          u\"\\U0001F300-\\U0001F5FF\" \n",
    "          u\"\\U0001F680-\\U0001F6FF\" \n",
    "          u\"\\U0001F1E0-\\U0001F1FF\" \n",
    "                            \"]+\", flags = re.UNICODE)\n",
    "    _sentence = emoji_pattern.sub(r'',_sentence)\n",
    "\n",
    "    #emoves tags and attributes\n",
    "    _sentence = re.sub('(<[^>]*>)','',_sentence)\n",
    "\n",
    "    #converts character code to string\n",
    "    _sentence = html.unescape(_sentence)\n",
    "\n",
    "    #removes urls\n",
    "    _sentence = re.sub(\"(\\w+:\\/\\/\\S+)|(http[^\\s]+)|(www.[^\\s]+)\",'',_sentence, flags=re.MULTILINE)\n",
    "    \n",
    "    #removes RT\n",
    "    _sentence = re.sub(\"RT\",'',_sentence)\n",
    "    \n",
    "    #converts the sentence to a lower case\n",
    "    _sentence = _sentence.lower()\n",
    "\n",
    "    #removes punctuation\n",
    "    _sentence = re.sub(r'\\@\\w+|\\#\\w+','', _sentence)\n",
    "    _sentence = _sentence.translate(str.maketrans('', '', (string.punctuation)))\n",
    "    \n",
    "    #checks for stop words\n",
    "    stop_words = set(stopwords.words('english'))\n",
    "    _sentence = [word for word in str(_sentence).split() if word not in stop_words]\n",
    "\n",
    "    #joins the word and returns a sentence\n",
    "    return \" \".join(_sentence)\n",
    "\n",
    "#function to preprocess tweets\n",
    "def preprocess_tweets(tweets_df,column):\n",
    "\n",
    "    #apply clean text in a vectorized format\n",
    "    vfunc_clean_text = np.vectorize(clean_text)\n",
    "    tweets_df[column] = vfunc_clean_text(tweets_df[column]) #create a new column that consists of preprocessed tweets\n",
    "    \n",
    "    return tweets_df"
   ]
  },
  {
   "cell_type": "code",
   "execution_count": 3,
   "id": "d198533c",
   "metadata": {},
   "outputs": [],
   "source": [
    "files = os.listdir('./tweet_data')"
   ]
  },
  {
   "cell_type": "code",
   "execution_count": 4,
   "id": "c1e08260",
   "metadata": {},
   "outputs": [
    {
     "data": {
      "text/plain": [
       "['tweet_putin_jun.csv',\n",
       " 'tweet_putin_jul.csv',\n",
       " 'tweet_ukraine_jun.csv',\n",
       " '.DS_Store',\n",
       " 'tweet_ukrainewar_jun.csv',\n",
       " 'tweet_russia_may.csv',\n",
       " 'tweet_ukrainewar_jul.csv',\n",
       " 'tweet_ukraine_jul.csv',\n",
       " 'tweet_putin_may.csv',\n",
       " 'tweet_ukrainewar_may.csv',\n",
       " 'tweet_ukraine_may.csv',\n",
       " 'tweet_russia_jun.csv',\n",
       " 'tweet_russia_jul.csv',\n",
       " 'tweet_russiawar_may.csv',\n",
       " 'tweet_zelensky_may.csv',\n",
       " 'tweet_russiawar_jun.csv',\n",
       " 'tweet_russiawar_jul.csv',\n",
       " 'tweet_zelensky_jun.csv',\n",
       " 'tweet_zelensky_jul.csv']"
      ]
     },
     "execution_count": 4,
     "metadata": {},
     "output_type": "execute_result"
    }
   ],
   "source": [
    "files"
   ]
  },
  {
   "cell_type": "markdown",
   "id": "78964d6a",
   "metadata": {},
   "source": [
    "## Reading Comments Into DataFrame"
   ]
  },
  {
   "cell_type": "code",
   "execution_count": 15,
   "id": "dcb27dd6",
   "metadata": {},
   "outputs": [
    {
     "name": "stdout",
     "output_type": "stream",
     "text": [
      "Number of tweets for #putin in May to July 2022: 506000\n",
      "Number of tweets for #ukrainewar in May to July 2022: 506000\n",
      "Number of tweets for #russia in May to July 2022: 506000\n",
      "Number of tweets for #zelensky in May to July 2022: 506000\n",
      "Number of tweets for #ukraine in May to July 2022: 506000\n",
      "Number of tweets for #russiawar in May to July 2022: 506000\n"
     ]
    }
   ],
   "source": [
    "col = [\"Unnamed:0\", \"ID\", \"Date\", \"Tweet\"]\n",
    "df_putin = pd.DataFrame(columns=col)\n",
    "df_ukrainewar = pd.DataFrame(columns=col)\n",
    "df_russia = pd.DataFrame(columns=col)\n",
    "df_zelensky = pd.DataFrame(columns=col)\n",
    "df_ukraine = pd.DataFrame(columns=col)\n",
    "df_russiawar = pd.DataFrame(columns=col)\n",
    "\n",
    "for file in files:\n",
    "    if \".csv\" in file:\n",
    "        file_path = \"./tweet_data/\" + file\n",
    "        df_temp = pd.read_csv(file_path)\n",
    "        if \"putin_\" in file:\n",
    "            df_putin = pd.concat([df_putin, df_temp])\n",
    "        elif \"ukrainewar_\" in file:\n",
    "            df_ukrainewar = pd.concat([df_ukrainewar, df_temp])\n",
    "        elif \"russia_\" in file:\n",
    "            df_russia = pd.concat([df_russia, df_temp])\n",
    "        elif \"zelensky_\" in file:\n",
    "            df_zelensky = pd.concat([df_zelensky, df_temp])\n",
    "        elif \"ukraine_\" in file:\n",
    "            df_ukraine = pd.concat([df_ukraine, df_temp])\n",
    "        elif \"russiawar_\" in file:\n",
    "            df_russiawar = pd.concat([df_russiawar, df_temp])\n",
    "\n",
    "print(\"Number of tweets for #putin in May to July 2022: {}\".format(len(df_putin)))\n",
    "print(\"Number of tweets for #ukrainewar in May to July 2022: {}\".format(len(df_ukrainewar)))\n",
    "print(\"Number of tweets for #russia in May to July 2022: {}\".format(len(df_russia)))\n",
    "print(\"Number of tweets for #zelensky in May to July 2022: {}\".format(len(df_zelensky)))\n",
    "print(\"Number of tweets for #ukraine in May to July 2022: {}\".format(len(df_ukraine)))\n",
    "print(\"Number of tweets for #russiawar in May to July 2022: {}\".format(len(df_russiawar)))"
   ]
  },
  {
   "cell_type": "code",
   "execution_count": 17,
   "id": "1e1cf25c",
   "metadata": {},
   "outputs": [],
   "source": [
    "data_df_putin = preprocess_tweets(df_putin,'Tweet')\n",
    "data_df_ukrainewar = preprocess_tweets(df_ukrainewar,'Tweet')\n",
    "data_df_russia = preprocess_tweets(df_russia,'Tweet')\n",
    "data_df_zelensky = preprocess_tweets(df_zelensky,'Tweet')\n",
    "data_df_ukraine = preprocess_tweets(df_ukraine,'Tweet')\n",
    "data_df_russiawar = preprocess_tweets(df_russiawar,'Tweet')"
   ]
  },
  {
   "cell_type": "markdown",
   "id": "82519cf8",
   "metadata": {},
   "source": [
    "## Determine Labels Using NLTK Vader Toolkit"
   ]
  },
  {
   "cell_type": "code",
   "execution_count": 24,
   "id": "e54b4f22",
   "metadata": {},
   "outputs": [],
   "source": [
    "def Vader_process(data_df):\n",
    "    sid = SentimentIntensityAnalyzer()\n",
    "    res = [*data_df['Tweet'].apply(sid.polarity_scores)]\n",
    "    #print(res[:3])\n",
    "\n",
    "    sentiment_df = pd.DataFrame.from_records(res)\n",
    "    data_df = pd.concat([data_df.reset_index(drop=True), sentiment_df.reset_index(drop=True)], axis=1, join=\"inner\")\n",
    "    #print(data_df.head())\n",
    "    \n",
    "    conditions = [\n",
    "    (data_df['compound'] <= -0.5),\n",
    "    (data_df['compound'] > -0.5) & (data_df['compound'] < 0.5),\n",
    "    (data_df['compound'] >= 0.5)\n",
    "    ]\n",
    "\n",
    "    values = [0, -1, 1]\n",
    "    data_df['label'] = np.select(conditions, values)\n",
    "\n",
    "    #print(data_df.head())\n",
    "    \n",
    "    X_df = data_df[data_df.label != -1]\n",
    "    X_df = X_df[['Tweet','label']]\n",
    "    #print(X_df.head())\n",
    "    \n",
    "    return X_df\n",
    "    "
   ]
  },
  {
   "cell_type": "code",
   "execution_count": 25,
   "id": "4acaea26",
   "metadata": {},
   "outputs": [],
   "source": [
    "X_putin = Vader_process(data_df_putin)\n",
    "X_ukrainewar = Vader_process(data_df_ukrainewar)\n",
    "X_russia = Vader_process(data_df_russia)\n",
    "X_zelensky = Vader_process(data_df_zelensky)\n",
    "X_ukraine = Vader_process(data_df_ukraine)\n",
    "X_russiawar = Vader_process(data_df_russiawar)\n"
   ]
  },
  {
   "cell_type": "code",
   "execution_count": 26,
   "id": "5beba3f4",
   "metadata": {},
   "outputs": [
    {
     "data": {
      "text/html": [
       "<div>\n",
       "<style scoped>\n",
       "    .dataframe tbody tr th:only-of-type {\n",
       "        vertical-align: middle;\n",
       "    }\n",
       "\n",
       "    .dataframe tbody tr th {\n",
       "        vertical-align: top;\n",
       "    }\n",
       "\n",
       "    .dataframe thead th {\n",
       "        text-align: right;\n",
       "    }\n",
       "</style>\n",
       "<table border=\"1\" class=\"dataframe\">\n",
       "  <thead>\n",
       "    <tr style=\"text-align: right;\">\n",
       "      <th></th>\n",
       "      <th>Tweet</th>\n",
       "    </tr>\n",
       "    <tr>\n",
       "      <th>label</th>\n",
       "      <th></th>\n",
       "    </tr>\n",
       "  </thead>\n",
       "  <tbody>\n",
       "    <tr>\n",
       "      <th>0</th>\n",
       "      <td>139857</td>\n",
       "    </tr>\n",
       "    <tr>\n",
       "      <th>1</th>\n",
       "      <td>74094</td>\n",
       "    </tr>\n",
       "  </tbody>\n",
       "</table>\n",
       "</div>"
      ],
      "text/plain": [
       "        Tweet\n",
       "label        \n",
       "0      139857\n",
       "1       74094"
      ]
     },
     "execution_count": 26,
     "metadata": {},
     "output_type": "execute_result"
    }
   ],
   "source": [
    "X_putin.groupby('label').count()"
   ]
  },
  {
   "cell_type": "markdown",
   "id": "b91f9d75",
   "metadata": {},
   "source": [
    "## Train Logistic Regression Model"
   ]
  },
  {
   "cell_type": "code",
   "execution_count": 27,
   "id": "7243ca5c",
   "metadata": {},
   "outputs": [
    {
     "data": {
      "text/html": [
       "<div>\n",
       "<style scoped>\n",
       "    .dataframe tbody tr th:only-of-type {\n",
       "        vertical-align: middle;\n",
       "    }\n",
       "\n",
       "    .dataframe tbody tr th {\n",
       "        vertical-align: top;\n",
       "    }\n",
       "\n",
       "    .dataframe thead th {\n",
       "        text-align: right;\n",
       "    }\n",
       "</style>\n",
       "<table border=\"1\" class=\"dataframe\">\n",
       "  <thead>\n",
       "    <tr style=\"text-align: right;\">\n",
       "      <th></th>\n",
       "      <th>text</th>\n",
       "      <th>label</th>\n",
       "    </tr>\n",
       "  </thead>\n",
       "  <tbody>\n",
       "    <tr>\n",
       "      <th>0</th>\n",
       "      <td>Josh Jenkins is looking forward to TAB Breeder...</td>\n",
       "      <td>1</td>\n",
       "    </tr>\n",
       "    <tr>\n",
       "      <th>1</th>\n",
       "      <td>RT @MianUsmanJaved: Congratulations Pakistan o...</td>\n",
       "      <td>1</td>\n",
       "    </tr>\n",
       "    <tr>\n",
       "      <th>2</th>\n",
       "      <td>RT @PEPalerts: This September, @YESmag is taki...</td>\n",
       "      <td>1</td>\n",
       "    </tr>\n",
       "    <tr>\n",
       "      <th>3</th>\n",
       "      <td>RT @david_gaibis: Newly painted walls, thanks ...</td>\n",
       "      <td>1</td>\n",
       "    </tr>\n",
       "    <tr>\n",
       "      <th>4</th>\n",
       "      <td>RT @CedricFeschotte: Excited to announce: as o...</td>\n",
       "      <td>1</td>\n",
       "    </tr>\n",
       "  </tbody>\n",
       "</table>\n",
       "</div>"
      ],
      "text/plain": [
       "                                                text  label\n",
       "0  Josh Jenkins is looking forward to TAB Breeder...      1\n",
       "1  RT @MianUsmanJaved: Congratulations Pakistan o...      1\n",
       "2  RT @PEPalerts: This September, @YESmag is taki...      1\n",
       "3  RT @david_gaibis: Newly painted walls, thanks ...      1\n",
       "4  RT @CedricFeschotte: Excited to announce: as o...      1"
      ]
     },
     "execution_count": 27,
     "metadata": {},
     "output_type": "execute_result"
    }
   ],
   "source": [
    "df = pd.read_csv('sentiment_analysis.csv')\n",
    "df = df.drop(['ID'], axis=1)\n",
    "df.head()"
   ]
  },
  {
   "cell_type": "code",
   "execution_count": 29,
   "id": "50e530be",
   "metadata": {
    "id": "66fcf3cc"
   },
   "outputs": [],
   "source": [
    "df = preprocess_tweets(df,\"text\")"
   ]
  },
  {
   "cell_type": "code",
   "execution_count": 30,
   "id": "be7b186b",
   "metadata": {
    "colab": {
     "base_uri": "https://localhost:8080/",
     "height": 424
    },
    "id": "8dd393e8",
    "outputId": "cd50ab3e-f4bd-4cfb-88c6-7943b3422ed7"
   },
   "outputs": [
    {
     "data": {
      "text/html": [
       "<div>\n",
       "<style scoped>\n",
       "    .dataframe tbody tr th:only-of-type {\n",
       "        vertical-align: middle;\n",
       "    }\n",
       "\n",
       "    .dataframe tbody tr th {\n",
       "        vertical-align: top;\n",
       "    }\n",
       "\n",
       "    .dataframe thead th {\n",
       "        text-align: right;\n",
       "    }\n",
       "</style>\n",
       "<table border=\"1\" class=\"dataframe\">\n",
       "  <thead>\n",
       "    <tr style=\"text-align: right;\">\n",
       "      <th></th>\n",
       "      <th>text</th>\n",
       "      <th>label</th>\n",
       "    </tr>\n",
       "  </thead>\n",
       "  <tbody>\n",
       "    <tr>\n",
       "      <th>0</th>\n",
       "      <td>josh jenkins looking forward tab breeders crow...</td>\n",
       "      <td>1</td>\n",
       "    </tr>\n",
       "    <tr>\n",
       "      <th>1</th>\n",
       "      <td>congratulations pakistan becoming world odds</td>\n",
       "      <td>1</td>\n",
       "    </tr>\n",
       "    <tr>\n",
       "      <th>2</th>\n",
       "      <td>september taking maine mendoza’s surprise than...</td>\n",
       "      <td>1</td>\n",
       "    </tr>\n",
       "    <tr>\n",
       "      <th>3</th>\n",
       "      <td>newly painted walls thanks million custodial p...</td>\n",
       "      <td>1</td>\n",
       "    </tr>\n",
       "    <tr>\n",
       "      <th>4</th>\n",
       "      <td>excited announce july 2017 feschotte lab reloc...</td>\n",
       "      <td>1</td>\n",
       "    </tr>\n",
       "    <tr>\n",
       "      <th>...</th>\n",
       "      <td>...</td>\n",
       "      <td>...</td>\n",
       "    </tr>\n",
       "    <tr>\n",
       "      <th>550386</th>\n",
       "      <td>cant stop watching hermm</td>\n",
       "      <td>0</td>\n",
       "    </tr>\n",
       "    <tr>\n",
       "      <th>550387</th>\n",
       "      <td>poor old tom odell doesnt look like would know...</td>\n",
       "      <td>0</td>\n",
       "    </tr>\n",
       "    <tr>\n",
       "      <th>550388</th>\n",
       "      <td>smashed 7 ants awesome gamehjfjfi</td>\n",
       "      <td>1</td>\n",
       "    </tr>\n",
       "    <tr>\n",
       "      <th>550389</th>\n",
       "      <td>morning girls wonderful</td>\n",
       "      <td>1</td>\n",
       "    </tr>\n",
       "    <tr>\n",
       "      <th>550390</th>\n",
       "      <td>bixbeat mixtape vol2 great artiste join moveme...</td>\n",
       "      <td>1</td>\n",
       "    </tr>\n",
       "  </tbody>\n",
       "</table>\n",
       "<p>550391 rows × 2 columns</p>\n",
       "</div>"
      ],
      "text/plain": [
       "                                                     text  label\n",
       "0       josh jenkins looking forward tab breeders crow...      1\n",
       "1            congratulations pakistan becoming world odds      1\n",
       "2       september taking maine mendoza’s surprise than...      1\n",
       "3       newly painted walls thanks million custodial p...      1\n",
       "4       excited announce july 2017 feschotte lab reloc...      1\n",
       "...                                                   ...    ...\n",
       "550386                           cant stop watching hermm      0\n",
       "550387  poor old tom odell doesnt look like would know...      0\n",
       "550388                  smashed 7 ants awesome gamehjfjfi      1\n",
       "550389                            morning girls wonderful      1\n",
       "550390  bixbeat mixtape vol2 great artiste join moveme...      1\n",
       "\n",
       "[550391 rows x 2 columns]"
      ]
     },
     "execution_count": 30,
     "metadata": {},
     "output_type": "execute_result"
    }
   ],
   "source": [
    "df"
   ]
  },
  {
   "cell_type": "code",
   "execution_count": 31,
   "id": "3b9b5265",
   "metadata": {
    "id": "9949d119"
   },
   "outputs": [],
   "source": [
    "X = df.loc[:, ['text']]\n",
    "y = df['label']\n",
    "\n",
    "X_train, X_test, y_train, y_test = train_test_split(X, y, test_size=0.2, stratify=y, random_state=1)"
   ]
  },
  {
   "cell_type": "markdown",
   "id": "2f2885b1",
   "metadata": {
    "id": "fWvCTfV4ABbn"
   },
   "source": [
    "Logistic Regression"
   ]
  },
  {
   "cell_type": "code",
   "execution_count": 32,
   "id": "88e4f2cd",
   "metadata": {
    "colab": {
     "base_uri": "https://localhost:8080/"
    },
    "id": "U6R_LFtYACwp",
    "outputId": "64685e00-1e07-472f-9d35-d89ce69d8e9c"
   },
   "outputs": [],
   "source": [
    "from sklearn.feature_extraction.text import CountVectorizer\n",
    "\n",
    "count = CountVectorizer()\n",
    "bag = count.fit_transform(X_train['text'].tolist())"
   ]
  },
  {
   "cell_type": "code",
   "execution_count": 33,
   "id": "2ef40712",
   "metadata": {
    "id": "6b_QMv89AKE0"
   },
   "outputs": [],
   "source": [
    "import numpy as np\n",
    "\n",
    "from sklearn.feature_extraction.text import TfidfTransformer\n",
    "\n",
    "tfidf = TfidfTransformer(use_idf=True,\n",
    "                         norm='l2',\n",
    "                         smooth_idf=True)\n",
    "\n",
    "np.set_printoptions(precision=2)"
   ]
  },
  {
   "cell_type": "code",
   "execution_count": 34,
   "id": "2152e052",
   "metadata": {
    "id": "V1V5FHnyAM95"
   },
   "outputs": [
    {
     "data": {
      "text/plain": [
       "[('love', 42385),\n",
       " ('happy', 40825),\n",
       " ('great', 23262),\n",
       " ('good', 21919),\n",
       " ('im', 20543),\n",
       " ('best', 20086),\n",
       " ('amazing', 19574),\n",
       " ('day', 18533),\n",
       " ('birthday', 17562),\n",
       " ('one', 13723),\n",
       " ('thank', 13584),\n",
       " ('found', 13340),\n",
       " ('dont', 12588),\n",
       " ('like', 12383),\n",
       " ('beautiful', 12258),\n",
       " ('transponder', 11427),\n",
       " ('much', 11133),\n",
       " ('get', 10924),\n",
       " ('today', 10857),\n",
       " ('cant', 10325)]"
      ]
     },
     "execution_count": 34,
     "metadata": {},
     "output_type": "execute_result"
    }
   ],
   "source": [
    "from collections import Counter\n",
    "\n",
    "vocab = Counter()\n",
    "for twit in X_train.text:\n",
    "    for word in twit.split(' '):\n",
    "        vocab[word] += 1\n",
    "\n",
    "vocab.most_common(20)"
   ]
  },
  {
   "cell_type": "code",
   "execution_count": 35,
   "id": "a9693788",
   "metadata": {
    "id": "zvkcMx9XAchj"
   },
   "outputs": [
    {
     "data": {
      "text/html": [
       "<div class=\"bk-root\">\n",
       "        <a href=\"https://bokeh.org\" target=\"_blank\" class=\"bk-logo bk-logo-small bk-logo-notebook\"></a>\n",
       "        <span id=\"1002\">Loading BokehJS ...</span>\n",
       "    </div>\n"
      ]
     },
     "metadata": {},
     "output_type": "display_data"
    },
    {
     "data": {
      "application/javascript": [
       "(function(root) {\n",
       "  function now() {\n",
       "    return new Date();\n",
       "  }\n",
       "\n",
       "  const force = true;\n",
       "\n",
       "  if (typeof root._bokeh_onload_callbacks === \"undefined\" || force === true) {\n",
       "    root._bokeh_onload_callbacks = [];\n",
       "    root._bokeh_is_loading = undefined;\n",
       "  }\n",
       "\n",
       "const JS_MIME_TYPE = 'application/javascript';\n",
       "  const HTML_MIME_TYPE = 'text/html';\n",
       "  const EXEC_MIME_TYPE = 'application/vnd.bokehjs_exec.v0+json';\n",
       "  const CLASS_NAME = 'output_bokeh rendered_html';\n",
       "\n",
       "  /**\n",
       "   * Render data to the DOM node\n",
       "   */\n",
       "  function render(props, node) {\n",
       "    const script = document.createElement(\"script\");\n",
       "    node.appendChild(script);\n",
       "  }\n",
       "\n",
       "  /**\n",
       "   * Handle when an output is cleared or removed\n",
       "   */\n",
       "  function handleClearOutput(event, handle) {\n",
       "    const cell = handle.cell;\n",
       "\n",
       "    const id = cell.output_area._bokeh_element_id;\n",
       "    const server_id = cell.output_area._bokeh_server_id;\n",
       "    // Clean up Bokeh references\n",
       "    if (id != null && id in Bokeh.index) {\n",
       "      Bokeh.index[id].model.document.clear();\n",
       "      delete Bokeh.index[id];\n",
       "    }\n",
       "\n",
       "    if (server_id !== undefined) {\n",
       "      // Clean up Bokeh references\n",
       "      const cmd_clean = \"from bokeh.io.state import curstate; print(curstate().uuid_to_server['\" + server_id + \"'].get_sessions()[0].document.roots[0]._id)\";\n",
       "      cell.notebook.kernel.execute(cmd_clean, {\n",
       "        iopub: {\n",
       "          output: function(msg) {\n",
       "            const id = msg.content.text.trim();\n",
       "            if (id in Bokeh.index) {\n",
       "              Bokeh.index[id].model.document.clear();\n",
       "              delete Bokeh.index[id];\n",
       "            }\n",
       "          }\n",
       "        }\n",
       "      });\n",
       "      // Destroy server and session\n",
       "      const cmd_destroy = \"import bokeh.io.notebook as ion; ion.destroy_server('\" + server_id + \"')\";\n",
       "      cell.notebook.kernel.execute(cmd_destroy);\n",
       "    }\n",
       "  }\n",
       "\n",
       "  /**\n",
       "   * Handle when a new output is added\n",
       "   */\n",
       "  function handleAddOutput(event, handle) {\n",
       "    const output_area = handle.output_area;\n",
       "    const output = handle.output;\n",
       "\n",
       "    // limit handleAddOutput to display_data with EXEC_MIME_TYPE content only\n",
       "    if ((output.output_type != \"display_data\") || (!Object.prototype.hasOwnProperty.call(output.data, EXEC_MIME_TYPE))) {\n",
       "      return\n",
       "    }\n",
       "\n",
       "    const toinsert = output_area.element.find(\".\" + CLASS_NAME.split(' ')[0]);\n",
       "\n",
       "    if (output.metadata[EXEC_MIME_TYPE][\"id\"] !== undefined) {\n",
       "      toinsert[toinsert.length - 1].firstChild.textContent = output.data[JS_MIME_TYPE];\n",
       "      // store reference to embed id on output_area\n",
       "      output_area._bokeh_element_id = output.metadata[EXEC_MIME_TYPE][\"id\"];\n",
       "    }\n",
       "    if (output.metadata[EXEC_MIME_TYPE][\"server_id\"] !== undefined) {\n",
       "      const bk_div = document.createElement(\"div\");\n",
       "      bk_div.innerHTML = output.data[HTML_MIME_TYPE];\n",
       "      const script_attrs = bk_div.children[0].attributes;\n",
       "      for (let i = 0; i < script_attrs.length; i++) {\n",
       "        toinsert[toinsert.length - 1].firstChild.setAttribute(script_attrs[i].name, script_attrs[i].value);\n",
       "        toinsert[toinsert.length - 1].firstChild.textContent = bk_div.children[0].textContent\n",
       "      }\n",
       "      // store reference to server id on output_area\n",
       "      output_area._bokeh_server_id = output.metadata[EXEC_MIME_TYPE][\"server_id\"];\n",
       "    }\n",
       "  }\n",
       "\n",
       "  function register_renderer(events, OutputArea) {\n",
       "\n",
       "    function append_mime(data, metadata, element) {\n",
       "      // create a DOM node to render to\n",
       "      const toinsert = this.create_output_subarea(\n",
       "        metadata,\n",
       "        CLASS_NAME,\n",
       "        EXEC_MIME_TYPE\n",
       "      );\n",
       "      this.keyboard_manager.register_events(toinsert);\n",
       "      // Render to node\n",
       "      const props = {data: data, metadata: metadata[EXEC_MIME_TYPE]};\n",
       "      render(props, toinsert[toinsert.length - 1]);\n",
       "      element.append(toinsert);\n",
       "      return toinsert\n",
       "    }\n",
       "\n",
       "    /* Handle when an output is cleared or removed */\n",
       "    events.on('clear_output.CodeCell', handleClearOutput);\n",
       "    events.on('delete.Cell', handleClearOutput);\n",
       "\n",
       "    /* Handle when a new output is added */\n",
       "    events.on('output_added.OutputArea', handleAddOutput);\n",
       "\n",
       "    /**\n",
       "     * Register the mime type and append_mime function with output_area\n",
       "     */\n",
       "    OutputArea.prototype.register_mime_type(EXEC_MIME_TYPE, append_mime, {\n",
       "      /* Is output safe? */\n",
       "      safe: true,\n",
       "      /* Index of renderer in `output_area.display_order` */\n",
       "      index: 0\n",
       "    });\n",
       "  }\n",
       "\n",
       "  // register the mime type if in Jupyter Notebook environment and previously unregistered\n",
       "  if (root.Jupyter !== undefined) {\n",
       "    const events = require('base/js/events');\n",
       "    const OutputArea = require('notebook/js/outputarea').OutputArea;\n",
       "\n",
       "    if (OutputArea.prototype.mime_types().indexOf(EXEC_MIME_TYPE) == -1) {\n",
       "      register_renderer(events, OutputArea);\n",
       "    }\n",
       "  }\n",
       "  if (typeof (root._bokeh_timeout) === \"undefined\" || force === true) {\n",
       "    root._bokeh_timeout = Date.now() + 5000;\n",
       "    root._bokeh_failed_load = false;\n",
       "  }\n",
       "\n",
       "  const NB_LOAD_WARNING = {'data': {'text/html':\n",
       "     \"<div style='background-color: #fdd'>\\n\"+\n",
       "     \"<p>\\n\"+\n",
       "     \"BokehJS does not appear to have successfully loaded. If loading BokehJS from CDN, this \\n\"+\n",
       "     \"may be due to a slow or bad network connection. Possible fixes:\\n\"+\n",
       "     \"</p>\\n\"+\n",
       "     \"<ul>\\n\"+\n",
       "     \"<li>re-rerun `output_notebook()` to attempt to load from CDN again, or</li>\\n\"+\n",
       "     \"<li>use INLINE resources instead, as so:</li>\\n\"+\n",
       "     \"</ul>\\n\"+\n",
       "     \"<code>\\n\"+\n",
       "     \"from bokeh.resources import INLINE\\n\"+\n",
       "     \"output_notebook(resources=INLINE)\\n\"+\n",
       "     \"</code>\\n\"+\n",
       "     \"</div>\"}};\n",
       "\n",
       "  function display_loaded() {\n",
       "    const el = document.getElementById(\"1002\");\n",
       "    if (el != null) {\n",
       "      el.textContent = \"BokehJS is loading...\";\n",
       "    }\n",
       "    if (root.Bokeh !== undefined) {\n",
       "      if (el != null) {\n",
       "        el.textContent = \"BokehJS \" + root.Bokeh.version + \" successfully loaded.\";\n",
       "      }\n",
       "    } else if (Date.now() < root._bokeh_timeout) {\n",
       "      setTimeout(display_loaded, 100)\n",
       "    }\n",
       "  }\n",
       "\n",
       "  function run_callbacks() {\n",
       "    try {\n",
       "      root._bokeh_onload_callbacks.forEach(function(callback) {\n",
       "        if (callback != null)\n",
       "          callback();\n",
       "      });\n",
       "    } finally {\n",
       "      delete root._bokeh_onload_callbacks\n",
       "    }\n",
       "    console.debug(\"Bokeh: all callbacks have finished\");\n",
       "  }\n",
       "\n",
       "  function load_libs(css_urls, js_urls, callback) {\n",
       "    if (css_urls == null) css_urls = [];\n",
       "    if (js_urls == null) js_urls = [];\n",
       "\n",
       "    root._bokeh_onload_callbacks.push(callback);\n",
       "    if (root._bokeh_is_loading > 0) {\n",
       "      console.debug(\"Bokeh: BokehJS is being loaded, scheduling callback at\", now());\n",
       "      return null;\n",
       "    }\n",
       "    if (js_urls == null || js_urls.length === 0) {\n",
       "      run_callbacks();\n",
       "      return null;\n",
       "    }\n",
       "    console.debug(\"Bokeh: BokehJS not loaded, scheduling load and callback at\", now());\n",
       "    root._bokeh_is_loading = css_urls.length + js_urls.length;\n",
       "\n",
       "    function on_load() {\n",
       "      root._bokeh_is_loading--;\n",
       "      if (root._bokeh_is_loading === 0) {\n",
       "        console.debug(\"Bokeh: all BokehJS libraries/stylesheets loaded\");\n",
       "        run_callbacks()\n",
       "      }\n",
       "    }\n",
       "\n",
       "    function on_error(url) {\n",
       "      console.error(\"failed to load \" + url);\n",
       "    }\n",
       "\n",
       "    for (let i = 0; i < css_urls.length; i++) {\n",
       "      const url = css_urls[i];\n",
       "      const element = document.createElement(\"link\");\n",
       "      element.onload = on_load;\n",
       "      element.onerror = on_error.bind(null, url);\n",
       "      element.rel = \"stylesheet\";\n",
       "      element.type = \"text/css\";\n",
       "      element.href = url;\n",
       "      console.debug(\"Bokeh: injecting link tag for BokehJS stylesheet: \", url);\n",
       "      document.body.appendChild(element);\n",
       "    }\n",
       "\n",
       "    for (let i = 0; i < js_urls.length; i++) {\n",
       "      const url = js_urls[i];\n",
       "      const element = document.createElement('script');\n",
       "      element.onload = on_load;\n",
       "      element.onerror = on_error.bind(null, url);\n",
       "      element.async = false;\n",
       "      element.src = url;\n",
       "      console.debug(\"Bokeh: injecting script tag for BokehJS library: \", url);\n",
       "      document.head.appendChild(element);\n",
       "    }\n",
       "  };\n",
       "\n",
       "  function inject_raw_css(css) {\n",
       "    const element = document.createElement(\"style\");\n",
       "    element.appendChild(document.createTextNode(css));\n",
       "    document.body.appendChild(element);\n",
       "  }\n",
       "\n",
       "  const js_urls = [\"https://cdn.bokeh.org/bokeh/release/bokeh-2.4.3.min.js\", \"https://cdn.bokeh.org/bokeh/release/bokeh-gl-2.4.3.min.js\", \"https://cdn.bokeh.org/bokeh/release/bokeh-widgets-2.4.3.min.js\", \"https://cdn.bokeh.org/bokeh/release/bokeh-tables-2.4.3.min.js\", \"https://cdn.bokeh.org/bokeh/release/bokeh-mathjax-2.4.3.min.js\"];\n",
       "  const css_urls = [];\n",
       "\n",
       "  const inline_js = [    function(Bokeh) {\n",
       "      Bokeh.set_log_level(\"info\");\n",
       "    },\n",
       "function(Bokeh) {\n",
       "    }\n",
       "  ];\n",
       "\n",
       "  function run_inline_js() {\n",
       "    if (root.Bokeh !== undefined || force === true) {\n",
       "          for (let i = 0; i < inline_js.length; i++) {\n",
       "      inline_js[i].call(root, root.Bokeh);\n",
       "    }\n",
       "if (force === true) {\n",
       "        display_loaded();\n",
       "      }} else if (Date.now() < root._bokeh_timeout) {\n",
       "      setTimeout(run_inline_js, 100);\n",
       "    } else if (!root._bokeh_failed_load) {\n",
       "      console.log(\"Bokeh: BokehJS failed to load within specified timeout.\");\n",
       "      root._bokeh_failed_load = true;\n",
       "    } else if (force !== true) {\n",
       "      const cell = $(document.getElementById(\"1002\")).parents('.cell').data().cell;\n",
       "      cell.output_area.append_execute_result(NB_LOAD_WARNING)\n",
       "    }\n",
       "  }\n",
       "\n",
       "  if (root._bokeh_is_loading === 0) {\n",
       "    console.debug(\"Bokeh: BokehJS loaded, going straight to plotting\");\n",
       "    run_inline_js();\n",
       "  } else {\n",
       "    load_libs(css_urls, js_urls, function() {\n",
       "      console.debug(\"Bokeh: BokehJS plotting callback run at\", now());\n",
       "      run_inline_js();\n",
       "    });\n",
       "  }\n",
       "}(window));"
      ],
      "application/vnd.bokehjs_load.v0+json": "(function(root) {\n  function now() {\n    return new Date();\n  }\n\n  const force = true;\n\n  if (typeof root._bokeh_onload_callbacks === \"undefined\" || force === true) {\n    root._bokeh_onload_callbacks = [];\n    root._bokeh_is_loading = undefined;\n  }\n\n\n  if (typeof (root._bokeh_timeout) === \"undefined\" || force === true) {\n    root._bokeh_timeout = Date.now() + 5000;\n    root._bokeh_failed_load = false;\n  }\n\n  const NB_LOAD_WARNING = {'data': {'text/html':\n     \"<div style='background-color: #fdd'>\\n\"+\n     \"<p>\\n\"+\n     \"BokehJS does not appear to have successfully loaded. If loading BokehJS from CDN, this \\n\"+\n     \"may be due to a slow or bad network connection. Possible fixes:\\n\"+\n     \"</p>\\n\"+\n     \"<ul>\\n\"+\n     \"<li>re-rerun `output_notebook()` to attempt to load from CDN again, or</li>\\n\"+\n     \"<li>use INLINE resources instead, as so:</li>\\n\"+\n     \"</ul>\\n\"+\n     \"<code>\\n\"+\n     \"from bokeh.resources import INLINE\\n\"+\n     \"output_notebook(resources=INLINE)\\n\"+\n     \"</code>\\n\"+\n     \"</div>\"}};\n\n  function display_loaded() {\n    const el = document.getElementById(\"1002\");\n    if (el != null) {\n      el.textContent = \"BokehJS is loading...\";\n    }\n    if (root.Bokeh !== undefined) {\n      if (el != null) {\n        el.textContent = \"BokehJS \" + root.Bokeh.version + \" successfully loaded.\";\n      }\n    } else if (Date.now() < root._bokeh_timeout) {\n      setTimeout(display_loaded, 100)\n    }\n  }\n\n  function run_callbacks() {\n    try {\n      root._bokeh_onload_callbacks.forEach(function(callback) {\n        if (callback != null)\n          callback();\n      });\n    } finally {\n      delete root._bokeh_onload_callbacks\n    }\n    console.debug(\"Bokeh: all callbacks have finished\");\n  }\n\n  function load_libs(css_urls, js_urls, callback) {\n    if (css_urls == null) css_urls = [];\n    if (js_urls == null) js_urls = [];\n\n    root._bokeh_onload_callbacks.push(callback);\n    if (root._bokeh_is_loading > 0) {\n      console.debug(\"Bokeh: BokehJS is being loaded, scheduling callback at\", now());\n      return null;\n    }\n    if (js_urls == null || js_urls.length === 0) {\n      run_callbacks();\n      return null;\n    }\n    console.debug(\"Bokeh: BokehJS not loaded, scheduling load and callback at\", now());\n    root._bokeh_is_loading = css_urls.length + js_urls.length;\n\n    function on_load() {\n      root._bokeh_is_loading--;\n      if (root._bokeh_is_loading === 0) {\n        console.debug(\"Bokeh: all BokehJS libraries/stylesheets loaded\");\n        run_callbacks()\n      }\n    }\n\n    function on_error(url) {\n      console.error(\"failed to load \" + url);\n    }\n\n    for (let i = 0; i < css_urls.length; i++) {\n      const url = css_urls[i];\n      const element = document.createElement(\"link\");\n      element.onload = on_load;\n      element.onerror = on_error.bind(null, url);\n      element.rel = \"stylesheet\";\n      element.type = \"text/css\";\n      element.href = url;\n      console.debug(\"Bokeh: injecting link tag for BokehJS stylesheet: \", url);\n      document.body.appendChild(element);\n    }\n\n    for (let i = 0; i < js_urls.length; i++) {\n      const url = js_urls[i];\n      const element = document.createElement('script');\n      element.onload = on_load;\n      element.onerror = on_error.bind(null, url);\n      element.async = false;\n      element.src = url;\n      console.debug(\"Bokeh: injecting script tag for BokehJS library: \", url);\n      document.head.appendChild(element);\n    }\n  };\n\n  function inject_raw_css(css) {\n    const element = document.createElement(\"style\");\n    element.appendChild(document.createTextNode(css));\n    document.body.appendChild(element);\n  }\n\n  const js_urls = [\"https://cdn.bokeh.org/bokeh/release/bokeh-2.4.3.min.js\", \"https://cdn.bokeh.org/bokeh/release/bokeh-gl-2.4.3.min.js\", \"https://cdn.bokeh.org/bokeh/release/bokeh-widgets-2.4.3.min.js\", \"https://cdn.bokeh.org/bokeh/release/bokeh-tables-2.4.3.min.js\", \"https://cdn.bokeh.org/bokeh/release/bokeh-mathjax-2.4.3.min.js\"];\n  const css_urls = [];\n\n  const inline_js = [    function(Bokeh) {\n      Bokeh.set_log_level(\"info\");\n    },\nfunction(Bokeh) {\n    }\n  ];\n\n  function run_inline_js() {\n    if (root.Bokeh !== undefined || force === true) {\n          for (let i = 0; i < inline_js.length; i++) {\n      inline_js[i].call(root, root.Bokeh);\n    }\nif (force === true) {\n        display_loaded();\n      }} else if (Date.now() < root._bokeh_timeout) {\n      setTimeout(run_inline_js, 100);\n    } else if (!root._bokeh_failed_load) {\n      console.log(\"Bokeh: BokehJS failed to load within specified timeout.\");\n      root._bokeh_failed_load = true;\n    } else if (force !== true) {\n      const cell = $(document.getElementById(\"1002\")).parents('.cell').data().cell;\n      cell.output_area.append_execute_result(NB_LOAD_WARNING)\n    }\n  }\n\n  if (root._bokeh_is_loading === 0) {\n    console.debug(\"Bokeh: BokehJS loaded, going straight to plotting\");\n    run_inline_js();\n  } else {\n    load_libs(css_urls, js_urls, function() {\n      console.debug(\"Bokeh: BokehJS plotting callback run at\", now());\n      run_inline_js();\n    });\n  }\n}(window));"
     },
     "metadata": {},
     "output_type": "display_data"
    }
   ],
   "source": [
    "from bokeh.models import ColumnDataSource, LabelSet\n",
    "from bokeh.plotting import figure, show, output_file\n",
    "from bokeh.io import output_notebook\n",
    "output_notebook()"
   ]
  },
  {
   "cell_type": "code",
   "execution_count": 36,
   "id": "ec2c132e",
   "metadata": {
    "id": "oTCp672xAefi"
   },
   "outputs": [
    {
     "data": {
      "text/html": [
       "\n",
       "  <div class=\"bk-root\" id=\"fb1dbe43-72b9-4968-a46e-e6a9def22ccd\" data-root-id=\"1003\"></div>\n"
      ]
     },
     "metadata": {},
     "output_type": "display_data"
    },
    {
     "data": {
      "application/javascript": [
       "(function(root) {\n",
       "  function embed_document(root) {\n",
       "  const docs_json = {\"38f50bd3-d0ca-4c51-b391-604e9436b7b2\":{\"defs\":[],\"roots\":{\"references\":[{\"attributes\":{\"below\":[{\"id\":\"1014\"}],\"center\":[{\"id\":\"1017\"},{\"id\":\"1021\"}],\"left\":[{\"id\":\"1018\"}],\"renderers\":[{\"id\":\"1035\"}],\"title\":{\"id\":\"1004\"},\"toolbar\":{\"id\":\"1026\"},\"toolbar_location\":\"above\",\"x_range\":{\"id\":\"1006\"},\"x_scale\":{\"id\":\"1010\"},\"y_range\":{\"id\":\"1008\"},\"y_scale\":{\"id\":\"1012\"}},\"id\":\"1003\",\"subtype\":\"Figure\",\"type\":\"Plot\"},{\"attributes\":{\"source\":{\"id\":\"1031\"}},\"id\":\"1036\",\"type\":\"CDSView\"},{\"attributes\":{\"axis\":{\"id\":\"1014\"},\"coordinates\":null,\"group\":null,\"ticker\":null},\"id\":\"1017\",\"type\":\"Grid\"},{\"attributes\":{},\"id\":\"1008\",\"type\":\"DataRange1d\"},{\"attributes\":{},\"id\":\"1043\",\"type\":\"AllLabels\"},{\"attributes\":{},\"id\":\"1006\",\"type\":\"DataRange1d\"},{\"attributes\":{},\"id\":\"1042\",\"type\":\"BasicTickFormatter\"},{\"attributes\":{},\"id\":\"1045\",\"type\":\"Selection\"},{\"attributes\":{},\"id\":\"1012\",\"type\":\"LinearScale\"},{\"attributes\":{},\"id\":\"1040\",\"type\":\"AllLabels\"},{\"attributes\":{\"coordinates\":null,\"formatter\":{\"id\":\"1039\"},\"group\":null,\"major_label_policy\":{\"id\":\"1040\"},\"ticker\":{\"id\":\"1019\"}},\"id\":\"1018\",\"type\":\"LinearAxis\"},{\"attributes\":{\"coordinates\":null,\"formatter\":{\"id\":\"1042\"},\"group\":null,\"major_label_policy\":{\"id\":\"1043\"},\"ticker\":{\"id\":\"1015\"}},\"id\":\"1014\",\"type\":\"LinearAxis\"},{\"attributes\":{\"coordinates\":null,\"group\":null,\"text\":\"Word distribution accross all twits\"},\"id\":\"1004\",\"type\":\"Title\"},{\"attributes\":{},\"id\":\"1010\",\"type\":\"LinearScale\"},{\"attributes\":{\"data\":{\"left\":{\"__ndarray__\":\"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\",\"dtype\":\"float64\",\"order\":\"little\",\"shape\":[500]},\"right\":{\"__ndarray__\":\"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\",\"dtype\":\"float64\",\"order\":\"little\",\"shape\":[500]},\"top\":{\"__ndarray__\":\"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\",\"dtype\":\"float64\",\"order\":\"little\",\"shape\":[500]}},\"selected\":{\"id\":\"1045\"},\"selection_policy\":{\"id\":\"1044\"}},\"id\":\"1031\",\"type\":\"ColumnDataSource\"},{\"attributes\":{\"bottom\":{\"value\":0},\"fill_alpha\":{\"value\":0.1},\"fill_color\":{\"value\":\"#1f77b4\"},\"hatch_alpha\":{\"value\":0.1},\"left\":{\"field\":\"left\"},\"line_alpha\":{\"value\":0.1},\"line_color\":{\"value\":\"#555555\"},\"right\":{\"field\":\"right\"},\"top\":{\"field\":\"top\"}},\"id\":\"1033\",\"type\":\"Quad\"},{\"attributes\":{},\"id\":\"1022\",\"type\":\"PanTool\"},{\"attributes\":{},\"id\":\"1039\",\"type\":\"BasicTickFormatter\"},{\"attributes\":{},\"id\":\"1015\",\"type\":\"BasicTicker\"},{\"attributes\":{\"coordinates\":null,\"data_source\":{\"id\":\"1031\"},\"glyph\":{\"id\":\"1032\"},\"group\":null,\"hover_glyph\":null,\"muted_glyph\":{\"id\":\"1034\"},\"nonselection_glyph\":{\"id\":\"1033\"},\"view\":{\"id\":\"1036\"}},\"id\":\"1035\",\"type\":\"GlyphRenderer\"},{\"attributes\":{},\"id\":\"1044\",\"type\":\"UnionRenderers\"},{\"attributes\":{},\"id\":\"1025\",\"type\":\"SaveTool\"},{\"attributes\":{},\"id\":\"1023\",\"type\":\"WheelZoomTool\"},{\"attributes\":{},\"id\":\"1019\",\"type\":\"BasicTicker\"},{\"attributes\":{},\"id\":\"1024\",\"type\":\"ResetTool\"},{\"attributes\":{\"bottom\":{\"value\":0},\"fill_color\":{\"value\":\"#1f77b4\"},\"left\":{\"field\":\"left\"},\"line_color\":{\"value\":\"#555555\"},\"right\":{\"field\":\"right\"},\"top\":{\"field\":\"top\"}},\"id\":\"1032\",\"type\":\"Quad\"},{\"attributes\":{\"axis\":{\"id\":\"1018\"},\"coordinates\":null,\"dimension\":1,\"group\":null,\"ticker\":null},\"id\":\"1021\",\"type\":\"Grid\"},{\"attributes\":{\"tools\":[{\"id\":\"1022\"},{\"id\":\"1023\"},{\"id\":\"1024\"},{\"id\":\"1025\"}]},\"id\":\"1026\",\"type\":\"Toolbar\"},{\"attributes\":{\"bottom\":{\"value\":0},\"fill_alpha\":{\"value\":0.2},\"fill_color\":{\"value\":\"#1f77b4\"},\"hatch_alpha\":{\"value\":0.2},\"left\":{\"field\":\"left\"},\"line_alpha\":{\"value\":0.2},\"line_color\":{\"value\":\"#555555\"},\"right\":{\"field\":\"right\"},\"top\":{\"field\":\"top\"}},\"id\":\"1034\",\"type\":\"Quad\"}],\"root_ids\":[\"1003\"]},\"title\":\"Bokeh Application\",\"version\":\"2.4.3\"}};\n",
       "  const render_items = [{\"docid\":\"38f50bd3-d0ca-4c51-b391-604e9436b7b2\",\"root_ids\":[\"1003\"],\"roots\":{\"1003\":\"fb1dbe43-72b9-4968-a46e-e6a9def22ccd\"}}];\n",
       "  root.Bokeh.embed.embed_items_notebook(docs_json, render_items);\n",
       "  }\n",
       "  if (root.Bokeh !== undefined) {\n",
       "    embed_document(root);\n",
       "  } else {\n",
       "    let attempts = 0;\n",
       "    const timer = setInterval(function(root) {\n",
       "      if (root.Bokeh !== undefined) {\n",
       "        clearInterval(timer);\n",
       "        embed_document(root);\n",
       "      } else {\n",
       "        attempts++;\n",
       "        if (attempts > 100) {\n",
       "          clearInterval(timer);\n",
       "          console.log(\"Bokeh: ERROR: Unable to run BokehJS code because BokehJS library is missing\");\n",
       "        }\n",
       "      }\n",
       "    }, 10, root)\n",
       "  }\n",
       "})(window);"
      ],
      "application/vnd.bokehjs_exec.v0+json": ""
     },
     "metadata": {
      "application/vnd.bokehjs_exec.v0+json": {
       "id": "1003"
      }
     },
     "output_type": "display_data"
    }
   ],
   "source": [
    "import math\n",
    "\n",
    "def plot_distribution(vocabulary):\n",
    "\n",
    "    hist, edges = np.histogram(list(map(lambda x:math.log(x[1]),vocabulary.most_common())), density=True, bins=500)\n",
    "\n",
    "    p = figure(tools=\"pan,wheel_zoom,reset,save\",\n",
    "               toolbar_location=\"above\",\n",
    "               title=\"Word distribution accross all twits\")\n",
    "    p.quad(top=hist, bottom=0, left=edges[:-1], right=edges[1:], line_color=\"#555555\", )\n",
    "    show(p)\n",
    "\n",
    "plot_distribution(vocab)"
   ]
  },
  {
   "cell_type": "code",
   "execution_count": 37,
   "id": "97cbad84",
   "metadata": {
    "id": "vV9wXw-oAi5x"
   },
   "outputs": [
    {
     "data": {
      "text/html": [
       "\n",
       "  <div class=\"bk-root\" id=\"79a96259-867e-4d88-b63e-db458c24942c\" data-root-id=\"1091\"></div>\n"
      ]
     },
     "metadata": {},
     "output_type": "display_data"
    },
    {
     "data": {
      "application/javascript": [
       "(function(root) {\n",
       "  function embed_document(root) {\n",
       "  const docs_json = {\"6ca7a3a2-7ead-46bd-9903-bf4b66fc4219\":{\"defs\":[],\"roots\":{\"references\":[{\"attributes\":{\"below\":[{\"id\":\"1102\"}],\"center\":[{\"id\":\"1105\"},{\"id\":\"1109\"}],\"left\":[{\"id\":\"1106\"}],\"renderers\":[{\"id\":\"1123\"}],\"title\":{\"id\":\"1092\"},\"toolbar\":{\"id\":\"1114\"},\"toolbar_location\":\"above\",\"x_range\":{\"id\":\"1094\"},\"x_scale\":{\"id\":\"1098\"},\"y_range\":{\"id\":\"1096\"},\"y_scale\":{\"id\":\"1100\"}},\"id\":\"1091\",\"subtype\":\"Figure\",\"type\":\"Plot\"},{\"attributes\":{\"tools\":[{\"id\":\"1110\"},{\"id\":\"1111\"},{\"id\":\"1112\"},{\"id\":\"1113\"}]},\"id\":\"1114\",\"type\":\"Toolbar\"},{\"attributes\":{\"coordinates\":null,\"data_source\":{\"id\":\"1119\"},\"glyph\":{\"id\":\"1120\"},\"group\":null,\"hover_glyph\":null,\"muted_glyph\":{\"id\":\"1122\"},\"nonselection_glyph\":{\"id\":\"1121\"},\"view\":{\"id\":\"1124\"}},\"id\":\"1123\",\"type\":\"GlyphRenderer\"},{\"attributes\":{\"coordinates\":null,\"group\":null,\"text\":\"Word distribution accross all twits\"},\"id\":\"1092\",\"type\":\"Title\"},{\"attributes\":{\"bottom\":{\"value\":0},\"fill_color\":{\"value\":\"#1f77b4\"},\"left\":{\"field\":\"left\"},\"line_color\":{\"value\":\"#555555\"},\"right\":{\"field\":\"right\"},\"top\":{\"field\":\"top\"}},\"id\":\"1120\",\"type\":\"Quad\"},{\"attributes\":{},\"id\":\"1113\",\"type\":\"SaveTool\"},{\"attributes\":{},\"id\":\"1111\",\"type\":\"WheelZoomTool\"},{\"attributes\":{},\"id\":\"1140\",\"type\":\"AllLabels\"},{\"attributes\":{},\"id\":\"1094\",\"type\":\"DataRange1d\"},{\"attributes\":{},\"id\":\"1096\",\"type\":\"DataRange1d\"},{\"attributes\":{},\"id\":\"1107\",\"type\":\"BasicTicker\"},{\"attributes\":{},\"id\":\"1112\",\"type\":\"ResetTool\"},{\"attributes\":{\"axis\":{\"id\":\"1106\"},\"coordinates\":null,\"dimension\":1,\"group\":null,\"ticker\":null},\"id\":\"1109\",\"type\":\"Grid\"},{\"attributes\":{},\"id\":\"1110\",\"type\":\"PanTool\"},{\"attributes\":{},\"id\":\"1136\",\"type\":\"BasicTickFormatter\"},{\"attributes\":{},\"id\":\"1098\",\"type\":\"LinearScale\"},{\"attributes\":{},\"id\":\"1100\",\"type\":\"LinearScale\"},{\"attributes\":{},\"id\":\"1103\",\"type\":\"BasicTicker\"},{\"attributes\":{\"source\":{\"id\":\"1119\"}},\"id\":\"1124\",\"type\":\"CDSView\"},{\"attributes\":{},\"id\":\"1142\",\"type\":\"Selection\"},{\"attributes\":{},\"id\":\"1137\",\"type\":\"AllLabels\"},{\"attributes\":{},\"id\":\"1139\",\"type\":\"BasicTickFormatter\"},{\"attributes\":{},\"id\":\"1141\",\"type\":\"UnionRenderers\"},{\"attributes\":{\"data\":{\"left\":{\"__ndarray__\":\"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\",\"dtype\":\"float64\",\"order\":\"little\",\"shape\":[500]},\"right\":{\"__ndarray__\":\"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\",\"dtype\":\"float64\",\"order\":\"little\",\"shape\":[500]},\"top\":{\"__ndarray__\":\"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\",\"dtype\":\"float64\",\"order\":\"little\",\"shape\":[500]}},\"selected\":{\"id\":\"1142\"},\"selection_policy\":{\"id\":\"1141\"}},\"id\":\"1119\",\"type\":\"ColumnDataSource\"},{\"attributes\":{\"bottom\":{\"value\":0},\"fill_alpha\":{\"value\":0.2},\"fill_color\":{\"value\":\"#1f77b4\"},\"hatch_alpha\":{\"value\":0.2},\"left\":{\"field\":\"left\"},\"line_alpha\":{\"value\":0.2},\"line_color\":{\"value\":\"#555555\"},\"right\":{\"field\":\"right\"},\"top\":{\"field\":\"top\"}},\"id\":\"1122\",\"type\":\"Quad\"},{\"attributes\":{\"bottom\":{\"value\":0},\"fill_alpha\":{\"value\":0.1},\"fill_color\":{\"value\":\"#1f77b4\"},\"hatch_alpha\":{\"value\":0.1},\"left\":{\"field\":\"left\"},\"line_alpha\":{\"value\":0.1},\"line_color\":{\"value\":\"#555555\"},\"right\":{\"field\":\"right\"},\"top\":{\"field\":\"top\"}},\"id\":\"1121\",\"type\":\"Quad\"},{\"attributes\":{\"coordinates\":null,\"formatter\":{\"id\":\"1139\"},\"group\":null,\"major_label_policy\":{\"id\":\"1140\"},\"ticker\":{\"id\":\"1103\"}},\"id\":\"1102\",\"type\":\"LinearAxis\"},{\"attributes\":{\"coordinates\":null,\"formatter\":{\"id\":\"1136\"},\"group\":null,\"major_label_policy\":{\"id\":\"1137\"},\"ticker\":{\"id\":\"1107\"}},\"id\":\"1106\",\"type\":\"LinearAxis\"},{\"attributes\":{\"axis\":{\"id\":\"1102\"},\"coordinates\":null,\"group\":null,\"ticker\":null},\"id\":\"1105\",\"type\":\"Grid\"}],\"root_ids\":[\"1091\"]},\"title\":\"Bokeh Application\",\"version\":\"2.4.3\"}};\n",
       "  const render_items = [{\"docid\":\"6ca7a3a2-7ead-46bd-9903-bf4b66fc4219\",\"root_ids\":[\"1091\"],\"roots\":{\"1091\":\"79a96259-867e-4d88-b63e-db458c24942c\"}}];\n",
       "  root.Bokeh.embed.embed_items_notebook(docs_json, render_items);\n",
       "  }\n",
       "  if (root.Bokeh !== undefined) {\n",
       "    embed_document(root);\n",
       "  } else {\n",
       "    let attempts = 0;\n",
       "    const timer = setInterval(function(root) {\n",
       "      if (root.Bokeh !== undefined) {\n",
       "        clearInterval(timer);\n",
       "        embed_document(root);\n",
       "      } else {\n",
       "        attempts++;\n",
       "        if (attempts > 100) {\n",
       "          clearInterval(timer);\n",
       "          console.log(\"Bokeh: ERROR: Unable to run BokehJS code because BokehJS library is missing\");\n",
       "        }\n",
       "      }\n",
       "    }, 10, root)\n",
       "  }\n",
       "})(window);"
      ],
      "application/vnd.bokehjs_exec.v0+json": ""
     },
     "metadata": {
      "application/vnd.bokehjs_exec.v0+json": {
       "id": "1091"
      }
     },
     "output_type": "display_data"
    }
   ],
   "source": [
    "from nltk.corpus import stopwords\n",
    "stop = stopwords.words('english')\n",
    "\n",
    "vocab_reduced = Counter()\n",
    "for w, c in vocab.items():\n",
    "    if not w in stop:\n",
    "        vocab_reduced[w]=c\n",
    "\n",
    "vocab_reduced.most_common(20)\n",
    "\n",
    "plot_distribution(vocab_reduced)"
   ]
  },
  {
   "cell_type": "code",
   "execution_count": 38,
   "id": "fc1140b1",
   "metadata": {
    "id": "4TYUo4niAl8a"
   },
   "outputs": [],
   "source": [
    "from nltk.stem import PorterStemmer\n",
    "\n",
    "porter = PorterStemmer()\n",
    "\n",
    "def tokenizer(text):\n",
    "    return text.split()\n",
    "\n",
    "def tokenizer_porter(text):\n",
    "    return [porter.stem(word) for word in text.split()]"
   ]
  },
  {
   "cell_type": "code",
   "execution_count": 39,
   "id": "a3fc65be",
   "metadata": {
    "id": "v76kF0nDR-bI"
   },
   "outputs": [],
   "source": [
    "# Best parameters\n",
    "from sklearn.model_selection import GridSearchCV\n",
    "from sklearn.pipeline import Pipeline\n",
    "from sklearn.linear_model import LogisticRegression\n",
    "from sklearn.feature_extraction.text import TfidfVectorizer\n",
    "\n",
    "tfidf = TfidfVectorizer(strip_accents=None,\n",
    "                        lowercase=False,\n",
    "                        preprocessor=None)\n",
    "\n",
    "\n",
    "param_grid = [{'vect__ngram_range': [(1, 1)],\n",
    "               'vect__tokenizer': [tokenizer],\n",
    "               'clf__penalty': ['l2'],\n",
    "               'clf__C': [10.0],\n",
    "              'clf__solver': ['liblinear'],\n",
    "              'clf__max_iter': [1000]}\n",
    "]\n",
    "\n",
    "lr_tfidf = Pipeline([('vect', tfidf),\n",
    "                     ('clf', LogisticRegression(random_state=0))])\n",
    "\n",
    "gs_lr_tfidf = GridSearchCV(lr_tfidf, param_grid,\n",
    "                           scoring='accuracy',\n",
    "                           cv=5,\n",
    "                           verbose=1)"
   ]
  },
  {
   "cell_type": "code",
   "execution_count": 40,
   "id": "2bcfaab5",
   "metadata": {
    "id": "havwof6vAyBv"
   },
   "outputs": [
    {
     "name": "stdout",
     "output_type": "stream",
     "text": [
      "Fitting 5 folds for each of 1 candidates, totalling 5 fits\n"
     ]
    },
    {
     "data": {
      "text/plain": [
       "GridSearchCV(cv=5,\n",
       "             estimator=Pipeline(steps=[('vect',\n",
       "                                        TfidfVectorizer(lowercase=False)),\n",
       "                                       ('clf',\n",
       "                                        LogisticRegression(random_state=0))]),\n",
       "             param_grid=[{'clf__C': [10.0], 'clf__max_iter': [1000],\n",
       "                          'clf__penalty': ['l2'], 'clf__solver': ['liblinear'],\n",
       "                          'vect__ngram_range': [(1, 1)],\n",
       "                          'vect__tokenizer': [<function tokenizer at 0x7f87b2406820>]}],\n",
       "             scoring='accuracy', verbose=1)"
      ]
     },
     "execution_count": 40,
     "metadata": {},
     "output_type": "execute_result"
    }
   ],
   "source": [
    "# Note: This process took 25 hours\n",
    "gs_lr_tfidf.fit(X_train.values.ravel(), y_train.values.ravel())"
   ]
  },
  {
   "cell_type": "code",
   "execution_count": 41,
   "id": "62cc1626",
   "metadata": {
    "id": "wy5NWUZYA4Wi"
   },
   "outputs": [
    {
     "name": "stdout",
     "output_type": "stream",
     "text": [
      "Best accuracy: 0.974\n"
     ]
    }
   ],
   "source": [
    "#print('Best parameter set: ' + str(gs_lr_tfidf.best_params_))\n",
    "print('Best accuracy: %.3f' % gs_lr_tfidf.best_score_)"
   ]
  },
  {
   "cell_type": "code",
   "execution_count": 42,
   "id": "d9fdbfc3",
   "metadata": {
    "id": "Lcmd1dpBA6Yy"
   },
   "outputs": [
    {
     "name": "stdout",
     "output_type": "stream",
     "text": [
      "Accuracy in test: 0.992\n"
     ]
    }
   ],
   "source": [
    "clf = gs_lr_tfidf.best_estimator_\n",
    "#clf.fit(X_train.values, y_train)\n",
    "clf.fit(X_test['text'].tolist(), y_test)\n",
    "print('Accuracy in test: %.3f' % clf.score(X_test['text'].tolist(), y_test))"
   ]
  },
  {
   "cell_type": "markdown",
   "id": "c2eec470",
   "metadata": {},
   "source": [
    "## Predict Labels with Logistic Regression Model"
   ]
  },
  {
   "cell_type": "code",
   "execution_count": 47,
   "id": "688ebddf",
   "metadata": {},
   "outputs": [],
   "source": [
    "def predict(X_df):\n",
    "    X_df['Predicted Label'] = clf.predict(X_df['Tweet'])\n",
    "    #print(X_df.head())\n",
    "    print(classification_report(X_df['label'],X_df['Predicted Label']))"
   ]
  },
  {
   "cell_type": "code",
   "execution_count": 49,
   "id": "06795145",
   "metadata": {},
   "outputs": [
    {
     "name": "stdout",
     "output_type": "stream",
     "text": [
      "Result for #putin from May to July 2022:\n",
      "              precision    recall  f1-score   support\n",
      "\n",
      "           0       0.76      0.98      0.86    139857\n",
      "           1       0.93      0.40      0.56     74094\n",
      "\n",
      "    accuracy                           0.78    213951\n",
      "   macro avg       0.84      0.69      0.71    213951\n",
      "weighted avg       0.82      0.78      0.75    213951\n",
      "\n",
      "Result for #ukrainewar from May to July 2022:\n",
      "              precision    recall  f1-score   support\n",
      "\n",
      "           0       0.96      0.97      0.97    307985\n",
      "           1       0.63      0.53      0.58     24104\n",
      "\n",
      "    accuracy                           0.94    332089\n",
      "   macro avg       0.79      0.75      0.77    332089\n",
      "weighted avg       0.94      0.94      0.94    332089\n",
      "\n",
      "Result for #russia from May to July 2022:\n",
      "              precision    recall  f1-score   support\n",
      "\n",
      "           0       0.76      0.99      0.86    143908\n",
      "           1       0.93      0.35      0.51     69823\n",
      "\n",
      "    accuracy                           0.78    213731\n",
      "   macro avg       0.84      0.67      0.68    213731\n",
      "weighted avg       0.81      0.78      0.74    213731\n",
      "\n",
      "Result for #zelensky from May to July 2022:\n",
      "              precision    recall  f1-score   support\n",
      "\n",
      "           0       0.74      0.98      0.84    124645\n",
      "           1       0.93      0.49      0.64     85111\n",
      "\n",
      "    accuracy                           0.78    209756\n",
      "   macro avg       0.83      0.73      0.74    209756\n",
      "weighted avg       0.82      0.78      0.76    209756\n",
      "\n",
      "Result for #ukraine from May to July 2022:\n",
      "              precision    recall  f1-score   support\n",
      "\n",
      "           0       0.78      0.98      0.87    142380\n",
      "           1       0.93      0.51      0.66     81098\n",
      "\n",
      "    accuracy                           0.81    223478\n",
      "   macro avg       0.86      0.75      0.76    223478\n",
      "weighted avg       0.84      0.81      0.79    223478\n",
      "\n",
      "Result for #russiawar from May to July 2022:\n",
      "              precision    recall  f1-score   support\n",
      "\n",
      "           0       0.97      0.98      0.98    347697\n",
      "           1       0.53      0.43      0.48     16663\n",
      "\n",
      "    accuracy                           0.96    364360\n",
      "   macro avg       0.75      0.71      0.73    364360\n",
      "weighted avg       0.95      0.96      0.95    364360\n",
      "\n"
     ]
    }
   ],
   "source": [
    "print(\"Result for #putin from May to July 2022:\")\n",
    "predict(X_putin)\n",
    "print(\"Result for #ukrainewar from May to July 2022:\")\n",
    "predict(X_ukrainewar)\n",
    "print(\"Result for #russia from May to July 2022:\")\n",
    "predict(X_russia)\n",
    "print(\"Result for #zelensky from May to July 2022:\")\n",
    "predict(X_zelensky)\n",
    "print(\"Result for #ukraine from May to July 2022:\")\n",
    "predict(X_ukraine)\n",
    "print(\"Result for #russiawar from May to July 2022:\")\n",
    "predict(X_russiawar)"
   ]
  },
  {
   "cell_type": "code",
   "execution_count": null,
   "id": "c87a31c2",
   "metadata": {},
   "outputs": [],
   "source": []
  }
 ],
 "metadata": {
  "kernelspec": {
   "display_name": "Python 3 (ipykernel)",
   "language": "python",
   "name": "python3"
  },
  "language_info": {
   "codemirror_mode": {
    "name": "ipython",
    "version": 3
   },
   "file_extension": ".py",
   "mimetype": "text/x-python",
   "name": "python",
   "nbconvert_exporter": "python",
   "pygments_lexer": "ipython3",
   "version": "3.9.13"
  }
 },
 "nbformat": 4,
 "nbformat_minor": 5
}
