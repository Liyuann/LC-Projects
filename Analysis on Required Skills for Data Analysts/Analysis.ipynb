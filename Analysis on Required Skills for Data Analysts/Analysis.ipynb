{
  "nbformat": 4,
  "nbformat_minor": 0,
  "metadata": {
    "colab": {
      "provenance": []
    },
    "kernelspec": {
      "name": "python3",
      "display_name": "Python 3"
    },
    "language_info": {
      "name": "python"
    }
  },
  "cells": [
    {
      "cell_type": "code",
      "execution_count": null,
      "metadata": {
        "id": "ZYKT450rdzov"
      },
      "outputs": [],
      "source": [
        "import numpy as np\n",
        "import pandas as pd\n",
        "import io\n",
        "import matplotlib.pyplot as plt"
      ]
    },
    {
      "cell_type": "code",
      "source": [
        "from google.colab import files\n",
        "uploaded = files.upload()\n",
        "df = pd.read_csv(io.BytesIO(uploaded['webscraping_results.csv']), encoding=\"latin1\")\n"
      ],
      "metadata": {
        "colab": {
          "base_uri": "https://localhost:8080/",
          "height": 111
        },
        "id": "57DKsbTDeESi",
        "outputId": "eec39993-2498-4f91-868b-567924b89d6c"
      },
      "execution_count": null,
      "outputs": [
        {
          "output_type": "display_data",
          "data": {
            "text/plain": [
              "<IPython.core.display.HTML object>"
            ],
            "text/html": [
              "\n",
              "     <input type=\"file\" id=\"files-1b4158d9-5fda-41b0-9ff3-67dcc9a7d03b\" name=\"files[]\" multiple disabled\n",
              "        style=\"border:none\" />\n",
              "     <output id=\"result-1b4158d9-5fda-41b0-9ff3-67dcc9a7d03b\">\n",
              "      Upload widget is only available when the cell has been executed in the\n",
              "      current browser session. Please rerun this cell to enable.\n",
              "      </output>\n",
              "      <script>// Copyright 2017 Google LLC\n",
              "//\n",
              "// Licensed under the Apache License, Version 2.0 (the \"License\");\n",
              "// you may not use this file except in compliance with the License.\n",
              "// You may obtain a copy of the License at\n",
              "//\n",
              "//      http://www.apache.org/licenses/LICENSE-2.0\n",
              "//\n",
              "// Unless required by applicable law or agreed to in writing, software\n",
              "// distributed under the License is distributed on an \"AS IS\" BASIS,\n",
              "// WITHOUT WARRANTIES OR CONDITIONS OF ANY KIND, either express or implied.\n",
              "// See the License for the specific language governing permissions and\n",
              "// limitations under the License.\n",
              "\n",
              "/**\n",
              " * @fileoverview Helpers for google.colab Python module.\n",
              " */\n",
              "(function(scope) {\n",
              "function span(text, styleAttributes = {}) {\n",
              "  const element = document.createElement('span');\n",
              "  element.textContent = text;\n",
              "  for (const key of Object.keys(styleAttributes)) {\n",
              "    element.style[key] = styleAttributes[key];\n",
              "  }\n",
              "  return element;\n",
              "}\n",
              "\n",
              "// Max number of bytes which will be uploaded at a time.\n",
              "const MAX_PAYLOAD_SIZE = 100 * 1024;\n",
              "\n",
              "function _uploadFiles(inputId, outputId) {\n",
              "  const steps = uploadFilesStep(inputId, outputId);\n",
              "  const outputElement = document.getElementById(outputId);\n",
              "  // Cache steps on the outputElement to make it available for the next call\n",
              "  // to uploadFilesContinue from Python.\n",
              "  outputElement.steps = steps;\n",
              "\n",
              "  return _uploadFilesContinue(outputId);\n",
              "}\n",
              "\n",
              "// This is roughly an async generator (not supported in the browser yet),\n",
              "// where there are multiple asynchronous steps and the Python side is going\n",
              "// to poll for completion of each step.\n",
              "// This uses a Promise to block the python side on completion of each step,\n",
              "// then passes the result of the previous step as the input to the next step.\n",
              "function _uploadFilesContinue(outputId) {\n",
              "  const outputElement = document.getElementById(outputId);\n",
              "  const steps = outputElement.steps;\n",
              "\n",
              "  const next = steps.next(outputElement.lastPromiseValue);\n",
              "  return Promise.resolve(next.value.promise).then((value) => {\n",
              "    // Cache the last promise value to make it available to the next\n",
              "    // step of the generator.\n",
              "    outputElement.lastPromiseValue = value;\n",
              "    return next.value.response;\n",
              "  });\n",
              "}\n",
              "\n",
              "/**\n",
              " * Generator function which is called between each async step of the upload\n",
              " * process.\n",
              " * @param {string} inputId Element ID of the input file picker element.\n",
              " * @param {string} outputId Element ID of the output display.\n",
              " * @return {!Iterable<!Object>} Iterable of next steps.\n",
              " */\n",
              "function* uploadFilesStep(inputId, outputId) {\n",
              "  const inputElement = document.getElementById(inputId);\n",
              "  inputElement.disabled = false;\n",
              "\n",
              "  const outputElement = document.getElementById(outputId);\n",
              "  outputElement.innerHTML = '';\n",
              "\n",
              "  const pickedPromise = new Promise((resolve) => {\n",
              "    inputElement.addEventListener('change', (e) => {\n",
              "      resolve(e.target.files);\n",
              "    });\n",
              "  });\n",
              "\n",
              "  const cancel = document.createElement('button');\n",
              "  inputElement.parentElement.appendChild(cancel);\n",
              "  cancel.textContent = 'Cancel upload';\n",
              "  const cancelPromise = new Promise((resolve) => {\n",
              "    cancel.onclick = () => {\n",
              "      resolve(null);\n",
              "    };\n",
              "  });\n",
              "\n",
              "  // Wait for the user to pick the files.\n",
              "  const files = yield {\n",
              "    promise: Promise.race([pickedPromise, cancelPromise]),\n",
              "    response: {\n",
              "      action: 'starting',\n",
              "    }\n",
              "  };\n",
              "\n",
              "  cancel.remove();\n",
              "\n",
              "  // Disable the input element since further picks are not allowed.\n",
              "  inputElement.disabled = true;\n",
              "\n",
              "  if (!files) {\n",
              "    return {\n",
              "      response: {\n",
              "        action: 'complete',\n",
              "      }\n",
              "    };\n",
              "  }\n",
              "\n",
              "  for (const file of files) {\n",
              "    const li = document.createElement('li');\n",
              "    li.append(span(file.name, {fontWeight: 'bold'}));\n",
              "    li.append(span(\n",
              "        `(${file.type || 'n/a'}) - ${file.size} bytes, ` +\n",
              "        `last modified: ${\n",
              "            file.lastModifiedDate ? file.lastModifiedDate.toLocaleDateString() :\n",
              "                                    'n/a'} - `));\n",
              "    const percent = span('0% done');\n",
              "    li.appendChild(percent);\n",
              "\n",
              "    outputElement.appendChild(li);\n",
              "\n",
              "    const fileDataPromise = new Promise((resolve) => {\n",
              "      const reader = new FileReader();\n",
              "      reader.onload = (e) => {\n",
              "        resolve(e.target.result);\n",
              "      };\n",
              "      reader.readAsArrayBuffer(file);\n",
              "    });\n",
              "    // Wait for the data to be ready.\n",
              "    let fileData = yield {\n",
              "      promise: fileDataPromise,\n",
              "      response: {\n",
              "        action: 'continue',\n",
              "      }\n",
              "    };\n",
              "\n",
              "    // Use a chunked sending to avoid message size limits. See b/62115660.\n",
              "    let position = 0;\n",
              "    do {\n",
              "      const length = Math.min(fileData.byteLength - position, MAX_PAYLOAD_SIZE);\n",
              "      const chunk = new Uint8Array(fileData, position, length);\n",
              "      position += length;\n",
              "\n",
              "      const base64 = btoa(String.fromCharCode.apply(null, chunk));\n",
              "      yield {\n",
              "        response: {\n",
              "          action: 'append',\n",
              "          file: file.name,\n",
              "          data: base64,\n",
              "        },\n",
              "      };\n",
              "\n",
              "      let percentDone = fileData.byteLength === 0 ?\n",
              "          100 :\n",
              "          Math.round((position / fileData.byteLength) * 100);\n",
              "      percent.textContent = `${percentDone}% done`;\n",
              "\n",
              "    } while (position < fileData.byteLength);\n",
              "  }\n",
              "\n",
              "  // All done.\n",
              "  yield {\n",
              "    response: {\n",
              "      action: 'complete',\n",
              "    }\n",
              "  };\n",
              "}\n",
              "\n",
              "scope.google = scope.google || {};\n",
              "scope.google.colab = scope.google.colab || {};\n",
              "scope.google.colab._files = {\n",
              "  _uploadFiles,\n",
              "  _uploadFilesContinue,\n",
              "};\n",
              "})(self);\n",
              "</script> "
            ]
          },
          "metadata": {}
        },
        {
          "output_type": "stream",
          "name": "stdout",
          "text": [
            "Saving webscraping_results_assignment3.csv to webscraping_results_assignment3.csv\n"
          ]
        }
      ]
    },
    {
      "cell_type": "code",
      "source": [
        "df.head(5)"
      ],
      "metadata": {
        "colab": {
          "base_uri": "https://localhost:8080/",
          "height": 600
        },
        "id": "hIlYTosfeaJp",
        "outputId": "30afd0b3-ebdf-4776-a5cb-616e77634f42"
      },
      "execution_count": null,
      "outputs": [
        {
          "output_type": "execute_result",
          "data": {
            "text/plain": [
              "                                               Title  \\\n",
              "0                                   Benefits Analyst   \n",
              "1                         Business Analyst Team Lead   \n",
              "2  Analyst Data â New York, NY - Hybrid-Remote ...   \n",
              "3                       Clinical Informatics Analyst   \n",
              "4               Medical Data Analyst (Medical Coder)   \n",
              "\n",
              "                         Company                             Location  Rating  \\\n",
              "0            Carrols Corporation  Hybrid remote in Syracuse, NY 13203     3.3   \n",
              "1                      340Basics                   Melville, NY 11747     NaN   \n",
              "2  NewYork-Presbyterian Hospital        Remote in Manhattan, NY 10065     4.1   \n",
              "3                   Fidelis Care        Hybrid remote in New York, NY     3.2   \n",
              "4  NewYork-Presbyterian Hospital        Remote in Manhattan, NY 10065     4.1   \n",
              "\n",
              "                        Date                     Salary  \\\n",
              "0  PostedPosted 30+ days ago                        NaN   \n",
              "1  PostedPosted 30+ days ago                        NaN   \n",
              "2                PostedToday   $68,500 - $92,500 a year   \n",
              "3   PostedPosted 19 days ago  $79,300 - $142,800 a year   \n",
              "4    PostedPosted 9 days ago    $39.88 - $47.14 an hour   \n",
              "\n",
              "                                         Description  \\\n",
              "0  The Benefits Analyst will oversee the employee...   \n",
              "1  Business analysis: 5 years (Required).\\nExperi...   \n",
              "2  Strong analytical skills with the ability to c...   \n",
              "3  Analyze data sets and scripts to identify erro...   \n",
              "4  2-3 years demonstrated coding experience.\\nUti...   \n",
              "\n",
              "                                               Links  \\\n",
              "0  https://www.indeed.com/pagead/clk?mo=r&ad=-6NY...   \n",
              "1  https://www.indeed.com/pagead/clk?mo=r&ad=-6NY...   \n",
              "2  https://www.indeed.com/rc/clk?jk=616c9c25f79dd...   \n",
              "3  https://www.indeed.com/rc/clk?jk=bc5bca36e3fe1...   \n",
              "4  https://www.indeed.com/rc/clk?jk=d90277af5c82d...   \n",
              "\n",
              "                                        Descriptions  \n",
              "0  Carrols Corporation (NASDAQ: TAST) headquarter...  \n",
              "1  We are seeking a driven, and passionate indivi...  \n",
              "2  Location\\nNew York, New York\\nShift:\\nDay (Uni...  \n",
              "3  You could be the one who changes everything fo...  \n",
              "4  Location\\nNew York, New York\\nShift:\\nDay (Uni...  "
            ],
            "text/html": [
              "\n",
              "  <div id=\"df-059e60cc-fcb8-47eb-af47-39bdd5b6c5f1\">\n",
              "    <div class=\"colab-df-container\">\n",
              "      <div>\n",
              "<style scoped>\n",
              "    .dataframe tbody tr th:only-of-type {\n",
              "        vertical-align: middle;\n",
              "    }\n",
              "\n",
              "    .dataframe tbody tr th {\n",
              "        vertical-align: top;\n",
              "    }\n",
              "\n",
              "    .dataframe thead th {\n",
              "        text-align: right;\n",
              "    }\n",
              "</style>\n",
              "<table border=\"1\" class=\"dataframe\">\n",
              "  <thead>\n",
              "    <tr style=\"text-align: right;\">\n",
              "      <th></th>\n",
              "      <th>Title</th>\n",
              "      <th>Company</th>\n",
              "      <th>Location</th>\n",
              "      <th>Rating</th>\n",
              "      <th>Date</th>\n",
              "      <th>Salary</th>\n",
              "      <th>Description</th>\n",
              "      <th>Links</th>\n",
              "      <th>Descriptions</th>\n",
              "    </tr>\n",
              "  </thead>\n",
              "  <tbody>\n",
              "    <tr>\n",
              "      <th>0</th>\n",
              "      <td>Benefits Analyst</td>\n",
              "      <td>Carrols Corporation</td>\n",
              "      <td>Hybrid remote in Syracuse, NY 13203</td>\n",
              "      <td>3.3</td>\n",
              "      <td>PostedPosted 30+ days ago</td>\n",
              "      <td>NaN</td>\n",
              "      <td>The Benefits Analyst will oversee the employee...</td>\n",
              "      <td>https://www.indeed.com/pagead/clk?mo=r&amp;ad=-6NY...</td>\n",
              "      <td>Carrols Corporation (NASDAQ: TAST) headquarter...</td>\n",
              "    </tr>\n",
              "    <tr>\n",
              "      <th>1</th>\n",
              "      <td>Business Analyst Team Lead</td>\n",
              "      <td>340Basics</td>\n",
              "      <td>Melville, NY 11747</td>\n",
              "      <td>NaN</td>\n",
              "      <td>PostedPosted 30+ days ago</td>\n",
              "      <td>NaN</td>\n",
              "      <td>Business analysis: 5 years (Required).\\nExperi...</td>\n",
              "      <td>https://www.indeed.com/pagead/clk?mo=r&amp;ad=-6NY...</td>\n",
              "      <td>We are seeking a driven, and passionate indivi...</td>\n",
              "    </tr>\n",
              "    <tr>\n",
              "      <th>2</th>\n",
              "      <td>Analyst Data â New York, NY - Hybrid-Remote ...</td>\n",
              "      <td>NewYork-Presbyterian Hospital</td>\n",
              "      <td>Remote in Manhattan, NY 10065</td>\n",
              "      <td>4.1</td>\n",
              "      <td>PostedToday</td>\n",
              "      <td>$68,500 - $92,500 a year</td>\n",
              "      <td>Strong analytical skills with the ability to c...</td>\n",
              "      <td>https://www.indeed.com/rc/clk?jk=616c9c25f79dd...</td>\n",
              "      <td>Location\\nNew York, New York\\nShift:\\nDay (Uni...</td>\n",
              "    </tr>\n",
              "    <tr>\n",
              "      <th>3</th>\n",
              "      <td>Clinical Informatics Analyst</td>\n",
              "      <td>Fidelis Care</td>\n",
              "      <td>Hybrid remote in New York, NY</td>\n",
              "      <td>3.2</td>\n",
              "      <td>PostedPosted 19 days ago</td>\n",
              "      <td>$79,300 - $142,800 a year</td>\n",
              "      <td>Analyze data sets and scripts to identify erro...</td>\n",
              "      <td>https://www.indeed.com/rc/clk?jk=bc5bca36e3fe1...</td>\n",
              "      <td>You could be the one who changes everything fo...</td>\n",
              "    </tr>\n",
              "    <tr>\n",
              "      <th>4</th>\n",
              "      <td>Medical Data Analyst (Medical Coder)</td>\n",
              "      <td>NewYork-Presbyterian Hospital</td>\n",
              "      <td>Remote in Manhattan, NY 10065</td>\n",
              "      <td>4.1</td>\n",
              "      <td>PostedPosted 9 days ago</td>\n",
              "      <td>$39.88 - $47.14 an hour</td>\n",
              "      <td>2-3 years demonstrated coding experience.\\nUti...</td>\n",
              "      <td>https://www.indeed.com/rc/clk?jk=d90277af5c82d...</td>\n",
              "      <td>Location\\nNew York, New York\\nShift:\\nDay (Uni...</td>\n",
              "    </tr>\n",
              "  </tbody>\n",
              "</table>\n",
              "</div>\n",
              "      <button class=\"colab-df-convert\" onclick=\"convertToInteractive('df-059e60cc-fcb8-47eb-af47-39bdd5b6c5f1')\"\n",
              "              title=\"Convert this dataframe to an interactive table.\"\n",
              "              style=\"display:none;\">\n",
              "        \n",
              "  <svg xmlns=\"http://www.w3.org/2000/svg\" height=\"24px\"viewBox=\"0 0 24 24\"\n",
              "       width=\"24px\">\n",
              "    <path d=\"M0 0h24v24H0V0z\" fill=\"none\"/>\n",
              "    <path d=\"M18.56 5.44l.94 2.06.94-2.06 2.06-.94-2.06-.94-.94-2.06-.94 2.06-2.06.94zm-11 1L8.5 8.5l.94-2.06 2.06-.94-2.06-.94L8.5 2.5l-.94 2.06-2.06.94zm10 10l.94 2.06.94-2.06 2.06-.94-2.06-.94-.94-2.06-.94 2.06-2.06.94z\"/><path d=\"M17.41 7.96l-1.37-1.37c-.4-.4-.92-.59-1.43-.59-.52 0-1.04.2-1.43.59L10.3 9.45l-7.72 7.72c-.78.78-.78 2.05 0 2.83L4 21.41c.39.39.9.59 1.41.59.51 0 1.02-.2 1.41-.59l7.78-7.78 2.81-2.81c.8-.78.8-2.07 0-2.86zM5.41 20L4 18.59l7.72-7.72 1.47 1.35L5.41 20z\"/>\n",
              "  </svg>\n",
              "      </button>\n",
              "      \n",
              "  <style>\n",
              "    .colab-df-container {\n",
              "      display:flex;\n",
              "      flex-wrap:wrap;\n",
              "      gap: 12px;\n",
              "    }\n",
              "\n",
              "    .colab-df-convert {\n",
              "      background-color: #E8F0FE;\n",
              "      border: none;\n",
              "      border-radius: 50%;\n",
              "      cursor: pointer;\n",
              "      display: none;\n",
              "      fill: #1967D2;\n",
              "      height: 32px;\n",
              "      padding: 0 0 0 0;\n",
              "      width: 32px;\n",
              "    }\n",
              "\n",
              "    .colab-df-convert:hover {\n",
              "      background-color: #E2EBFA;\n",
              "      box-shadow: 0px 1px 2px rgba(60, 64, 67, 0.3), 0px 1px 3px 1px rgba(60, 64, 67, 0.15);\n",
              "      fill: #174EA6;\n",
              "    }\n",
              "\n",
              "    [theme=dark] .colab-df-convert {\n",
              "      background-color: #3B4455;\n",
              "      fill: #D2E3FC;\n",
              "    }\n",
              "\n",
              "    [theme=dark] .colab-df-convert:hover {\n",
              "      background-color: #434B5C;\n",
              "      box-shadow: 0px 1px 3px 1px rgba(0, 0, 0, 0.15);\n",
              "      filter: drop-shadow(0px 1px 2px rgba(0, 0, 0, 0.3));\n",
              "      fill: #FFFFFF;\n",
              "    }\n",
              "  </style>\n",
              "\n",
              "      <script>\n",
              "        const buttonEl =\n",
              "          document.querySelector('#df-059e60cc-fcb8-47eb-af47-39bdd5b6c5f1 button.colab-df-convert');\n",
              "        buttonEl.style.display =\n",
              "          google.colab.kernel.accessAllowed ? 'block' : 'none';\n",
              "\n",
              "        async function convertToInteractive(key) {\n",
              "          const element = document.querySelector('#df-059e60cc-fcb8-47eb-af47-39bdd5b6c5f1');\n",
              "          const dataTable =\n",
              "            await google.colab.kernel.invokeFunction('convertToInteractive',\n",
              "                                                     [key], {});\n",
              "          if (!dataTable) return;\n",
              "\n",
              "          const docLinkHtml = 'Like what you see? Visit the ' +\n",
              "            '<a target=\"_blank\" href=https://colab.research.google.com/notebooks/data_table.ipynb>data table notebook</a>'\n",
              "            + ' to learn more about interactive tables.';\n",
              "          element.innerHTML = '';\n",
              "          dataTable['output_type'] = 'display_data';\n",
              "          await google.colab.output.renderOutput(dataTable, element);\n",
              "          const docLink = document.createElement('div');\n",
              "          docLink.innerHTML = docLinkHtml;\n",
              "          element.appendChild(docLink);\n",
              "        }\n",
              "      </script>\n",
              "    </div>\n",
              "  </div>\n",
              "  "
            ]
          },
          "metadata": {},
          "execution_count": 3
        }
      ]
    },
    {
      "cell_type": "code",
      "source": [
        "print(\"There are {} records in total.\".format(len(df)))"
      ],
      "metadata": {
        "colab": {
          "base_uri": "https://localhost:8080/"
        },
        "id": "p4SXoxoSooiF",
        "outputId": "46028fe8-dad5-4e61-accf-6f355e26f8d0"
      },
      "execution_count": null,
      "outputs": [
        {
          "output_type": "stream",
          "name": "stdout",
          "text": [
            "There are 1457 records in total.\n"
          ]
        }
      ]
    },
    {
      "cell_type": "code",
      "source": [
        "import numpy as np # linear algebra\n",
        "import pandas as pd # data processing, CSV file I/O (e.g. pd.read_csv)\n",
        "import string\n",
        "import nltk\n",
        "nltk.download(\"stopwords\")\n",
        "nltk.download(\"popular\")\n",
        "from nltk.corpus import stopwords\n",
        "from sklearn.naive_bayes import MultinomialNB\n",
        "from sklearn.feature_extraction.text import TfidfVectorizer\n",
        "from sklearn.model_selection import train_test_split\n",
        "from sklearn.metrics import accuracy_score, classification_report, confusion_matrix\n",
        "from wordcloud import WordCloud\n",
        "\n",
        "import matplotlib.pyplot as plt\n",
        "%matplotlib inline\n",
        "import textblob\n",
        "from textblob import Word"
      ],
      "metadata": {
        "colab": {
          "base_uri": "https://localhost:8080/"
        },
        "id": "3rYmMNLBfKur",
        "outputId": "fd571fbb-0c47-4ccd-e83a-9eb9aafaaefa"
      },
      "execution_count": null,
      "outputs": [
        {
          "output_type": "stream",
          "name": "stderr",
          "text": [
            "[nltk_data] Downloading package stopwords to /root/nltk_data...\n",
            "[nltk_data]   Unzipping corpora/stopwords.zip.\n",
            "[nltk_data] Downloading collection 'popular'\n",
            "[nltk_data]    | \n",
            "[nltk_data]    | Downloading package cmudict to /root/nltk_data...\n",
            "[nltk_data]    |   Unzipping corpora/cmudict.zip.\n",
            "[nltk_data]    | Downloading package gazetteers to /root/nltk_data...\n",
            "[nltk_data]    |   Unzipping corpora/gazetteers.zip.\n",
            "[nltk_data]    | Downloading package genesis to /root/nltk_data...\n",
            "[nltk_data]    |   Unzipping corpora/genesis.zip.\n",
            "[nltk_data]    | Downloading package gutenberg to /root/nltk_data...\n",
            "[nltk_data]    |   Unzipping corpora/gutenberg.zip.\n",
            "[nltk_data]    | Downloading package inaugural to /root/nltk_data...\n",
            "[nltk_data]    |   Unzipping corpora/inaugural.zip.\n",
            "[nltk_data]    | Downloading package movie_reviews to\n",
            "[nltk_data]    |     /root/nltk_data...\n",
            "[nltk_data]    |   Unzipping corpora/movie_reviews.zip.\n",
            "[nltk_data]    | Downloading package names to /root/nltk_data...\n",
            "[nltk_data]    |   Unzipping corpora/names.zip.\n",
            "[nltk_data]    | Downloading package shakespeare to /root/nltk_data...\n",
            "[nltk_data]    |   Unzipping corpora/shakespeare.zip.\n",
            "[nltk_data]    | Downloading package stopwords to /root/nltk_data...\n",
            "[nltk_data]    |   Package stopwords is already up-to-date!\n",
            "[nltk_data]    | Downloading package treebank to /root/nltk_data...\n",
            "[nltk_data]    |   Unzipping corpora/treebank.zip.\n",
            "[nltk_data]    | Downloading package twitter_samples to\n",
            "[nltk_data]    |     /root/nltk_data...\n",
            "[nltk_data]    |   Unzipping corpora/twitter_samples.zip.\n",
            "[nltk_data]    | Downloading package omw to /root/nltk_data...\n",
            "[nltk_data]    | Downloading package omw-1.4 to /root/nltk_data...\n",
            "[nltk_data]    | Downloading package wordnet to /root/nltk_data...\n",
            "[nltk_data]    | Downloading package wordnet2021 to /root/nltk_data...\n",
            "[nltk_data]    | Downloading package wordnet31 to /root/nltk_data...\n",
            "[nltk_data]    | Downloading package wordnet_ic to /root/nltk_data...\n",
            "[nltk_data]    |   Unzipping corpora/wordnet_ic.zip.\n",
            "[nltk_data]    | Downloading package words to /root/nltk_data...\n",
            "[nltk_data]    |   Unzipping corpora/words.zip.\n",
            "[nltk_data]    | Downloading package maxent_ne_chunker to\n",
            "[nltk_data]    |     /root/nltk_data...\n",
            "[nltk_data]    |   Unzipping chunkers/maxent_ne_chunker.zip.\n",
            "[nltk_data]    | Downloading package punkt to /root/nltk_data...\n",
            "[nltk_data]    |   Unzipping tokenizers/punkt.zip.\n",
            "[nltk_data]    | Downloading package snowball_data to\n",
            "[nltk_data]    |     /root/nltk_data...\n",
            "[nltk_data]    | Downloading package averaged_perceptron_tagger to\n",
            "[nltk_data]    |     /root/nltk_data...\n",
            "[nltk_data]    |   Unzipping taggers/averaged_perceptron_tagger.zip.\n",
            "[nltk_data]    | \n",
            "[nltk_data]  Done downloading collection popular\n"
          ]
        }
      ]
    },
    {
      "cell_type": "code",
      "source": [
        "## Lower case\n",
        "df['Descriptions'] = df['Descriptions'].apply(lambda x: \" \".join(x.lower()for x in x.split()))\n",
        "## remove tabulation and punctuation\n",
        "df['Descriptions'] = df['Descriptions'].str.replace('[^\\w\\s]',' ')\n",
        "## digits\n",
        "df['Descriptions'] = df['Descriptions'].str.replace('\\d+', '')\n",
        "\n",
        "#remove stop words\n",
        "stop = stopwords.words('english')\n",
        "df['Descriptions'] = df['Descriptions'].apply(lambda x: \" \".join(x for x in x.split() if x not in stop))\n",
        "\n",
        "## lemmatization\n",
        "df['Descriptions'] = df['Descriptions'].apply(lambda x: \" \".join([Word(word).lemmatize() for word in x.split()]))\n",
        "\n",
        "# Remove '\\n'\n",
        "df = df.replace('\\n',' ', regex=True)\n",
        "\n",
        "print(\"Preprocessed data: \\n\")\n",
        "print(df.head())"
      ],
      "metadata": {
        "colab": {
          "base_uri": "https://localhost:8080/"
        },
        "id": "QvmmNuKUel-f",
        "outputId": "a8d138f7-2e21-4267-ec8d-dbfb2b7ca1ac"
      },
      "execution_count": null,
      "outputs": [
        {
          "output_type": "stream",
          "name": "stderr",
          "text": [
            "<ipython-input-6-7b63737254ac>:4: FutureWarning: The default value of regex will change from True to False in a future version.\n",
            "  df['Descriptions'] = df['Descriptions'].str.replace('[^\\w\\s]',' ')\n",
            "<ipython-input-6-7b63737254ac>:6: FutureWarning: The default value of regex will change from True to False in a future version.\n",
            "  df['Descriptions'] = df['Descriptions'].str.replace('\\d+', '')\n"
          ]
        },
        {
          "output_type": "stream",
          "name": "stdout",
          "text": [
            "Preprocessed data: \n",
            "\n",
            "                                               Title  \\\n",
            "0                                   Benefits Analyst   \n",
            "1                         Business Analyst Team Lead   \n",
            "2  Analyst Data â New York, NY - Hybrid-Remote ...   \n",
            "3                       Clinical Informatics Analyst   \n",
            "4               Medical Data Analyst (Medical Coder)   \n",
            "\n",
            "                         Company                             Location  Rating  \\\n",
            "0            Carrols Corporation  Hybrid remote in Syracuse, NY 13203     3.3   \n",
            "1                      340Basics                   Melville, NY 11747     NaN   \n",
            "2  NewYork-Presbyterian Hospital        Remote in Manhattan, NY 10065     4.1   \n",
            "3                   Fidelis Care        Hybrid remote in New York, NY     3.2   \n",
            "4  NewYork-Presbyterian Hospital        Remote in Manhattan, NY 10065     4.1   \n",
            "\n",
            "                        Date                     Salary  \\\n",
            "0  PostedPosted 30+ days ago                        NaN   \n",
            "1  PostedPosted 30+ days ago                        NaN   \n",
            "2                PostedToday   $68,500 - $92,500 a year   \n",
            "3   PostedPosted 19 days ago  $79,300 - $142,800 a year   \n",
            "4    PostedPosted 9 days ago    $39.88 - $47.14 an hour   \n",
            "\n",
            "                                         Description  \\\n",
            "0  The Benefits Analyst will oversee the employee...   \n",
            "1  Business analysis: 5 years (Required). Experie...   \n",
            "2  Strong analytical skills with the ability to c...   \n",
            "3  Analyze data sets and scripts to identify erro...   \n",
            "4  2-3 years demonstrated coding experience. Util...   \n",
            "\n",
            "                                               Links  \\\n",
            "0  https://www.indeed.com/pagead/clk?mo=r&ad=-6NY...   \n",
            "1  https://www.indeed.com/pagead/clk?mo=r&ad=-6NY...   \n",
            "2  https://www.indeed.com/rc/clk?jk=616c9c25f79dd...   \n",
            "3  https://www.indeed.com/rc/clk?jk=bc5bca36e3fe1...   \n",
            "4  https://www.indeed.com/rc/clk?jk=d90277af5c82d...   \n",
            "\n",
            "                                        Descriptions  \n",
            "0  carrols corporation nasdaq tast headquartered ...  \n",
            "1  seeking driven passionate individual partner b...  \n",
            "2  location new york new york shift day united st...  \n",
            "3  could one change everything million member cen...  \n",
            "4  location new york new york shift day united st...  \n"
          ]
        }
      ]
    },
    {
      "cell_type": "code",
      "source": [
        "from collections import Counter\n",
        "from nltk import ngrams\n",
        "\n",
        "descriptions = df[\"Descriptions\"].tolist()\n",
        "descrip_text = \"\"\n",
        "for item in descriptions:\n",
        "  descrip_text = descrip_text + \" \"\n",
        "  descrip_text = descrip_text + item\n"
      ],
      "metadata": {
        "id": "FxWicAuNj-aO"
      },
      "execution_count": null,
      "outputs": []
    },
    {
      "cell_type": "code",
      "source": [
        "# Remove stop words\n",
        "from nltk.corpus import stopwords\n",
        "nltk.download('stopwords')\n",
        "from nltk.tokenize import word_tokenize\n",
        "\n",
        "all_stopwords = stopwords.words(\"english\")\n",
        "\n",
        "new_stop = [\"year\", \"experience\", \"equal\", \"opportunity\",\"race\", \"sexual\",\n",
        "            \"orientation\", \"full\", \"veteran\", \"status\", \"applicant\",\n",
        "            \"national\", \"origin\",\"e\", \"g\", \"color\", \"religion\"]\n",
        "for each in new_stop:\n",
        "  all_stopwords.append(each)\n",
        "\n",
        "text_tokens = word_tokenize(descrip_text)\n",
        "tokens_without_sw = [word for word in text_tokens if not word in all_stopwords]\n"
      ],
      "metadata": {
        "colab": {
          "base_uri": "https://localhost:8080/"
        },
        "id": "aO1q8NRBqYSX",
        "outputId": "b333abf0-a463-4454-b342-6a8188aaeb34"
      },
      "execution_count": null,
      "outputs": [
        {
          "output_type": "stream",
          "name": "stderr",
          "text": [
            "[nltk_data] Downloading package stopwords to /root/nltk_data...\n",
            "[nltk_data]   Package stopwords is already up-to-date!\n"
          ]
        }
      ]
    },
    {
      "cell_type": "code",
      "source": [
        "filtered_sentence = (\" \").join(tokens_without_sw)\n",
        "\n",
        "word_list = []; freq_list = []\n",
        "for i in range(2,10):\n",
        "  ngram_counts = Counter(ngrams(filtered_sentence.split(), i))\n",
        "  if i == 2:\n",
        "    n = 100\n",
        "  else:\n",
        "    n = 50\n",
        "  for each in ngram_counts.most_common(n):\n",
        "    word, freq = each\n",
        "    word_list.append(word)\n",
        "    freq_list.append(freq)"
      ],
      "metadata": {
        "id": "eq_Ik68lqVCm"
      },
      "execution_count": null,
      "outputs": []
    },
    {
      "cell_type": "code",
      "source": [
        "df_skill = pd.DataFrame()\n",
        "df_skill['N-gram'] = word_list\n",
        "df_skill['Frequency'] = freq_list\n",
        "df_skill = df_skill.sort_values('Frequency', ascending=False)"
      ],
      "metadata": {
        "id": "1H-pRwNpkcJs"
      },
      "execution_count": null,
      "outputs": []
    },
    {
      "cell_type": "code",
      "source": [
        "df_skill"
      ],
      "metadata": {
        "colab": {
          "base_uri": "https://localhost:8080/",
          "height": 424
        },
        "id": "O5r1RGW3na2r",
        "outputId": "5d74ea8a-66cf-4d72-b4ec-c4c08e72fe11"
      },
      "execution_count": null,
      "outputs": [
        {
          "output_type": "execute_result",
          "data": {
            "text/plain": [
              "                                                N-gram  Frequency\n",
              "0                                      (data, analyst)        774\n",
              "1                                          (new, york)        753\n",
              "2                                  (business, analyst)        752\n",
              "3                                     (data, analysis)        727\n",
              "4                               (communication, skill)        704\n",
              "..                                                 ...        ...\n",
              "398  (citi, affirmative, action, employer, qualifie...         18\n",
              "399  (receive, consideration, without, regard, sex,...         18\n",
              "424  (job, successfully, individual, must, able, pe...         18\n",
              "425  (required, reasonable, accommodation, may, mad...         18\n",
              "449  (citiâ, invite, qualified, interested, apply, ...         18\n",
              "\n",
              "[450 rows x 2 columns]"
            ],
            "text/html": [
              "\n",
              "  <div id=\"df-ddcadb58-458e-4e69-818c-3f0c4f936f0d\">\n",
              "    <div class=\"colab-df-container\">\n",
              "      <div>\n",
              "<style scoped>\n",
              "    .dataframe tbody tr th:only-of-type {\n",
              "        vertical-align: middle;\n",
              "    }\n",
              "\n",
              "    .dataframe tbody tr th {\n",
              "        vertical-align: top;\n",
              "    }\n",
              "\n",
              "    .dataframe thead th {\n",
              "        text-align: right;\n",
              "    }\n",
              "</style>\n",
              "<table border=\"1\" class=\"dataframe\">\n",
              "  <thead>\n",
              "    <tr style=\"text-align: right;\">\n",
              "      <th></th>\n",
              "      <th>N-gram</th>\n",
              "      <th>Frequency</th>\n",
              "    </tr>\n",
              "  </thead>\n",
              "  <tbody>\n",
              "    <tr>\n",
              "      <th>0</th>\n",
              "      <td>(data, analyst)</td>\n",
              "      <td>774</td>\n",
              "    </tr>\n",
              "    <tr>\n",
              "      <th>1</th>\n",
              "      <td>(new, york)</td>\n",
              "      <td>753</td>\n",
              "    </tr>\n",
              "    <tr>\n",
              "      <th>2</th>\n",
              "      <td>(business, analyst)</td>\n",
              "      <td>752</td>\n",
              "    </tr>\n",
              "    <tr>\n",
              "      <th>3</th>\n",
              "      <td>(data, analysis)</td>\n",
              "      <td>727</td>\n",
              "    </tr>\n",
              "    <tr>\n",
              "      <th>4</th>\n",
              "      <td>(communication, skill)</td>\n",
              "      <td>704</td>\n",
              "    </tr>\n",
              "    <tr>\n",
              "      <th>...</th>\n",
              "      <td>...</td>\n",
              "      <td>...</td>\n",
              "    </tr>\n",
              "    <tr>\n",
              "      <th>398</th>\n",
              "      <td>(citi, affirmative, action, employer, qualifie...</td>\n",
              "      <td>18</td>\n",
              "    </tr>\n",
              "    <tr>\n",
              "      <th>399</th>\n",
              "      <td>(receive, consideration, without, regard, sex,...</td>\n",
              "      <td>18</td>\n",
              "    </tr>\n",
              "    <tr>\n",
              "      <th>424</th>\n",
              "      <td>(job, successfully, individual, must, able, pe...</td>\n",
              "      <td>18</td>\n",
              "    </tr>\n",
              "    <tr>\n",
              "      <th>425</th>\n",
              "      <td>(required, reasonable, accommodation, may, mad...</td>\n",
              "      <td>18</td>\n",
              "    </tr>\n",
              "    <tr>\n",
              "      <th>449</th>\n",
              "      <td>(citiâ, invite, qualified, interested, apply, ...</td>\n",
              "      <td>18</td>\n",
              "    </tr>\n",
              "  </tbody>\n",
              "</table>\n",
              "<p>450 rows × 2 columns</p>\n",
              "</div>\n",
              "      <button class=\"colab-df-convert\" onclick=\"convertToInteractive('df-ddcadb58-458e-4e69-818c-3f0c4f936f0d')\"\n",
              "              title=\"Convert this dataframe to an interactive table.\"\n",
              "              style=\"display:none;\">\n",
              "        \n",
              "  <svg xmlns=\"http://www.w3.org/2000/svg\" height=\"24px\"viewBox=\"0 0 24 24\"\n",
              "       width=\"24px\">\n",
              "    <path d=\"M0 0h24v24H0V0z\" fill=\"none\"/>\n",
              "    <path d=\"M18.56 5.44l.94 2.06.94-2.06 2.06-.94-2.06-.94-.94-2.06-.94 2.06-2.06.94zm-11 1L8.5 8.5l.94-2.06 2.06-.94-2.06-.94L8.5 2.5l-.94 2.06-2.06.94zm10 10l.94 2.06.94-2.06 2.06-.94-2.06-.94-.94-2.06-.94 2.06-2.06.94z\"/><path d=\"M17.41 7.96l-1.37-1.37c-.4-.4-.92-.59-1.43-.59-.52 0-1.04.2-1.43.59L10.3 9.45l-7.72 7.72c-.78.78-.78 2.05 0 2.83L4 21.41c.39.39.9.59 1.41.59.51 0 1.02-.2 1.41-.59l7.78-7.78 2.81-2.81c.8-.78.8-2.07 0-2.86zM5.41 20L4 18.59l7.72-7.72 1.47 1.35L5.41 20z\"/>\n",
              "  </svg>\n",
              "      </button>\n",
              "      \n",
              "  <style>\n",
              "    .colab-df-container {\n",
              "      display:flex;\n",
              "      flex-wrap:wrap;\n",
              "      gap: 12px;\n",
              "    }\n",
              "\n",
              "    .colab-df-convert {\n",
              "      background-color: #E8F0FE;\n",
              "      border: none;\n",
              "      border-radius: 50%;\n",
              "      cursor: pointer;\n",
              "      display: none;\n",
              "      fill: #1967D2;\n",
              "      height: 32px;\n",
              "      padding: 0 0 0 0;\n",
              "      width: 32px;\n",
              "    }\n",
              "\n",
              "    .colab-df-convert:hover {\n",
              "      background-color: #E2EBFA;\n",
              "      box-shadow: 0px 1px 2px rgba(60, 64, 67, 0.3), 0px 1px 3px 1px rgba(60, 64, 67, 0.15);\n",
              "      fill: #174EA6;\n",
              "    }\n",
              "\n",
              "    [theme=dark] .colab-df-convert {\n",
              "      background-color: #3B4455;\n",
              "      fill: #D2E3FC;\n",
              "    }\n",
              "\n",
              "    [theme=dark] .colab-df-convert:hover {\n",
              "      background-color: #434B5C;\n",
              "      box-shadow: 0px 1px 3px 1px rgba(0, 0, 0, 0.15);\n",
              "      filter: drop-shadow(0px 1px 2px rgba(0, 0, 0, 0.3));\n",
              "      fill: #FFFFFF;\n",
              "    }\n",
              "  </style>\n",
              "\n",
              "      <script>\n",
              "        const buttonEl =\n",
              "          document.querySelector('#df-ddcadb58-458e-4e69-818c-3f0c4f936f0d button.colab-df-convert');\n",
              "        buttonEl.style.display =\n",
              "          google.colab.kernel.accessAllowed ? 'block' : 'none';\n",
              "\n",
              "        async function convertToInteractive(key) {\n",
              "          const element = document.querySelector('#df-ddcadb58-458e-4e69-818c-3f0c4f936f0d');\n",
              "          const dataTable =\n",
              "            await google.colab.kernel.invokeFunction('convertToInteractive',\n",
              "                                                     [key], {});\n",
              "          if (!dataTable) return;\n",
              "\n",
              "          const docLinkHtml = 'Like what you see? Visit the ' +\n",
              "            '<a target=\"_blank\" href=https://colab.research.google.com/notebooks/data_table.ipynb>data table notebook</a>'\n",
              "            + ' to learn more about interactive tables.';\n",
              "          element.innerHTML = '';\n",
              "          dataTable['output_type'] = 'display_data';\n",
              "          await google.colab.output.renderOutput(dataTable, element);\n",
              "          const docLink = document.createElement('div');\n",
              "          docLink.innerHTML = docLinkHtml;\n",
              "          element.appendChild(docLink);\n",
              "        }\n",
              "      </script>\n",
              "    </div>\n",
              "  </div>\n",
              "  "
            ]
          },
          "metadata": {},
          "execution_count": 11
        }
      ]
    },
    {
      "cell_type": "markdown",
      "source": [
        "(1) Plot the annual salary for each skill"
      ],
      "metadata": {
        "id": "HDW5oqBw63xk"
      }
    },
    {
      "cell_type": "code",
      "source": [
        "filtered_list = []\n",
        "for text in descriptions:\n",
        "  text_tokens = word_tokenize(text)\n",
        "  tokens_without_sw = [word for word in text_tokens if not word in all_stopwords]\n",
        "  filtered_sentence = (\" \").join(tokens_without_sw)\n",
        "  filtered_list.append(filtered_sentence)\n"
      ],
      "metadata": {
        "id": "bIVYod0ayBpO"
      },
      "execution_count": null,
      "outputs": []
    },
    {
      "cell_type": "code",
      "source": [
        "extracted_skills = [\"data analysis\", \"communication skill\",\n",
        "                    \"problem solving\", \"data analytics\",\n",
        "                    \"team member\", \"data management\",\n",
        "                    \"attention detail\", \"decision making\",\n",
        "                    \"data visualization\", \"analytical skill\",\n",
        "                    \"work independently\"]\n"
      ],
      "metadata": {
        "id": "p9mS6WqfzCzA"
      },
      "execution_count": null,
      "outputs": []
    },
    {
      "cell_type": "code",
      "source": [
        "import re\n",
        "\n",
        "df_filtered = pd.DataFrame()\n",
        "df_filtered[\"Salary\"] = df[\"Salary\"].values\n",
        "df_filtered[\"Descriptions\"] = filtered_list\n",
        "\n",
        "salary_overall_list = []\n",
        "for skill in extracted_skills:\n",
        "  df_temp1 = df_filtered[df_filtered[\"Descriptions\"].str.contains(skill)]\n",
        "  df_temp2 = df_temp1[df_temp1[\"Salary\"].notnull()]\n",
        "  df_temp2 = df_temp2.reset_index(drop=True)\n",
        "\n",
        "  salary_list = []\n",
        "  for i in range(0,len(df_temp2[\"Salary\"])):\n",
        "    salary_str = df_temp2[\"Salary\"].loc[i]\n",
        "    salary_str = salary_str.replace(\",\", \"\")\n",
        "    val = [int(s) for s in re.findall(r'\\b\\d+\\b', salary_str)]\n",
        "    salary = np.mean(val)\n",
        "\n",
        "    # Assume a person works for 40 hours per week and 52 weeks per year\n",
        "    if \"hour\" in salary_str:\n",
        "      salary = salary*40*52\n",
        "    salary_list.append(salary)\n",
        "\n",
        "  salary_overall_list.append(np.mean(salary_list))\n"
      ],
      "metadata": {
        "id": "ZfeoiXdz0cBQ"
      },
      "execution_count": null,
      "outputs": []
    },
    {
      "cell_type": "code",
      "source": [
        "plt.bar(extracted_skills, salary_overall_list)\n",
        "plt.xticks(rotation=45, ha='right')\n",
        "plt.ylabel(\"Annual Salary ($)\")\n",
        "plt.show()"
      ],
      "metadata": {
        "colab": {
          "base_uri": "https://localhost:8080/",
          "height": 524
        },
        "id": "mV2XyviB2mn6",
        "outputId": "b9241fd0-2dc0-42bb-cbde-9755f080872c"
      },
      "execution_count": null,
      "outputs": [
        {
          "output_type": "display_data",
          "data": {
            "text/plain": [
              "<Figure size 640x480 with 1 Axes>"
            ],
            "image/png": "[encoded data removed]"
          },
          "metadata": {}
        }
      ]
    },
    {
      "cell_type": "markdown",
      "source": [
        "(2) Plot the number of unique companies for each skill"
      ],
      "metadata": {
        "id": "Ke3c42vk7Ewv"
      }
    },
    {
      "cell_type": "code",
      "source": [
        "df_filtered2 = pd.DataFrame()\n",
        "df_filtered2[\"Company\"] = df[\"Company\"].values\n",
        "df_filtered2[\"Descriptions\"] = filtered_list\n",
        "\n",
        "company_overall_list = []\n",
        "for skill in extracted_skills:\n",
        "  df_temp1 = df_filtered2[df_filtered2[\"Descriptions\"].str.contains(skill)]\n",
        "  df_temp2 = df_temp1[df_temp1[\"Company\"].notnull()]\n",
        "  company_list = df_temp2[\"Company\"].unique()\n",
        "  company_overall_list.append(len(company_list))\n"
      ],
      "metadata": {
        "id": "FnRvHDlo7Eck"
      },
      "execution_count": null,
      "outputs": []
    },
    {
      "cell_type": "code",
      "source": [
        "plt.bar(extracted_skills, company_overall_list)\n",
        "plt.xticks(rotation=45, ha='right')\n",
        "plt.ylabel(\"Number of Companies\")\n",
        "plt.show()"
      ],
      "metadata": {
        "colab": {
          "base_uri": "https://localhost:8080/",
          "height": 524
        },
        "id": "mfHuiT1P8Ac0",
        "outputId": "91de630c-6a92-45e5-9b96-9962ba2cc810"
      },
      "execution_count": null,
      "outputs": [
        {
          "output_type": "display_data",
          "data": {
            "text/plain": [
              "<Figure size 640x480 with 1 Axes>"
            ],
            "image/png": "[encoded data removed]"
          },
          "metadata": {}
        }
      ]
    },
    {
      "cell_type": "code",
      "source": [
        "from sklearn.feature_extraction.text import CountVectorizer\n",
        "from sklearn.metrics.pairwise import euclidean_distances\n",
        "\n",
        "cv = CountVectorizer(ngram_range=(2, 2))\n",
        "\n",
        "features = cv.fit(filtered_list)\n",
        "vector = cv.transform(filtered_list)\n"
      ],
      "metadata": {
        "id": "S3SYgxqJWqJD"
      },
      "execution_count": null,
      "outputs": []
    },
    {
      "cell_type": "code",
      "source": [
        "words = features.vocabulary_\n",
        "\n",
        "# Find the index of the extracted skills\n",
        "index_list = []\n",
        "\n",
        "for skill in extracted_skills:\n",
        "  index_list.append(words[skill])"
      ],
      "metadata": {
        "id": "PfvmZj32aRdJ"
      },
      "execution_count": null,
      "outputs": []
    },
    {
      "cell_type": "code",
      "source": [
        "# Find the vector for each extracted skill\n",
        "cols = []\n",
        "for i in index_list:\n",
        "    cols.append(vector[:,i])\n",
        "X_new = np.hstack(cols)"
      ],
      "metadata": {
        "id": "hrel-Ij1bpEF"
      },
      "execution_count": null,
      "outputs": []
    },
    {
      "cell_type": "code",
      "source": [
        "# Calculate distance matrix\n",
        "dist_matrix = []\n",
        "for i in range(0,len(X_new)):\n",
        "  dist_row = []\n",
        "  for j in range(0,len(X_new)):\n",
        "    dist = np.linalg.norm(X_new[i].toarray() - X_new[j].toarray())\n",
        "    dist_row.append(dist)\n",
        "  dist_matrix.append(dist_row)\n",
        "\n",
        "dist_matrix"
      ],
      "metadata": {
        "colab": {
          "base_uri": "https://localhost:8080/"
        },
        "id": "nNK3bfHhdAmF",
        "outputId": "88289be7-5be7-47af-b59f-24d02132b319"
      },
      "execution_count": null,
      "outputs": [
        {
          "output_type": "execute_result",
          "data": {
            "text/plain": [
              "[[0.0,\n",
              "  42.46174749112429,\n",
              "  42.190046219457976,\n",
              "  45.387222871640866,\n",
              "  43.278170016764804,\n",
              "  47.085029467974216,\n",
              "  41.0,\n",
              "  41.38840417314975,\n",
              "  40.45985664828782,\n",
              "  40.58324777540605,\n",
              "  41.340053217188775],\n",
              " [42.46174749112429,\n",
              "  0.0,\n",
              "  28.827070610799147,\n",
              "  37.21558813185679,\n",
              "  33.04542328371661,\n",
              "  39.4715087119811,\n",
              "  27.964262908219126,\n",
              "  30.56141357987225,\n",
              "  32.18695387886216,\n",
              "  28.77498913987632,\n",
              "  29.086079144497972],\n",
              " [42.190046219457976,\n",
              "  28.827070610799147,\n",
              "  0.0,\n",
              "  35.66510900025401,\n",
              "  30.643106892089126,\n",
              "  38.22302970723278,\n",
              "  26.248809496813376,\n",
              "  27.622454633866266,\n",
              "  31.192947920964443,\n",
              "  25.903667693977237,\n",
              "  25.632011235952593],\n",
              " [45.387222871640866,\n",
              "  37.21558813185679,\n",
              "  35.66510900025401,\n",
              "  0.0,\n",
              "  36.864617182333525,\n",
              "  41.53311931459037,\n",
              "  32.66496594212215,\n",
              "  31.352830813181765,\n",
              "  32.17141588429082,\n",
              "  31.796226191169293,\n",
              "  32.046840717924134],\n",
              " [43.278170016764804,\n",
              "  33.04542328371661,\n",
              "  30.643106892089126,\n",
              "  36.864617182333525,\n",
              "  0.0,\n",
              "  39.26830783214372,\n",
              "  28.879058156387302,\n",
              "  30.59411708155671,\n",
              "  32.12475680841802,\n",
              "  28.0,\n",
              "  27.349588662354687],\n",
              " [47.085029467974216,\n",
              "  39.4715087119811,\n",
              "  38.22302970723278,\n",
              "  41.53311931459037,\n",
              "  39.26830783214372,\n",
              "  0.0,\n",
              "  35.91656999213594,\n",
              "  36.138621999185304,\n",
              "  37.97367509209505,\n",
              "  35.270384177096794,\n",
              "  34.14674215792775],\n",
              " [41.0,\n",
              "  27.964262908219126,\n",
              "  26.248809496813376,\n",
              "  32.66496594212215,\n",
              "  28.879058156387302,\n",
              "  35.91656999213594,\n",
              "  0.0,\n",
              "  25.219040425836983,\n",
              "  27.349588662354687,\n",
              "  20.784609690826528,\n",
              "  21.633307652783937],\n",
              " [41.38840417314975,\n",
              "  30.56141357987225,\n",
              "  27.622454633866266,\n",
              "  31.352830813181765,\n",
              "  30.59411708155671,\n",
              "  36.138621999185304,\n",
              "  25.219040425836983,\n",
              "  0.0,\n",
              "  27.386127875258307,\n",
              "  24.698178070456937,\n",
              "  23.40939982143925],\n",
              " [40.45985664828782,\n",
              "  32.18695387886216,\n",
              "  31.192947920964443,\n",
              "  32.17141588429082,\n",
              "  32.12475680841802,\n",
              "  37.97367509209505,\n",
              "  27.349588662354687,\n",
              "  27.386127875258307,\n",
              "  0.0,\n",
              "  26.229754097208,\n",
              "  25.92296279363144],\n",
              " [40.58324777540605,\n",
              "  28.77498913987632,\n",
              "  25.903667693977237,\n",
              "  31.796226191169293,\n",
              "  28.0,\n",
              "  35.270384177096794,\n",
              "  20.784609690826528,\n",
              "  24.698178070456937,\n",
              "  26.229754097208,\n",
              "  0.0,\n",
              "  21.213203435596427],\n",
              " [41.340053217188775,\n",
              "  29.086079144497972,\n",
              "  25.632011235952593,\n",
              "  32.046840717924134,\n",
              "  27.349588662354687,\n",
              "  34.14674215792775,\n",
              "  21.633307652783937,\n",
              "  23.40939982143925,\n",
              "  25.92296279363144,\n",
              "  21.213203435596427,\n",
              "  0.0]]"
            ]
          },
          "metadata": {},
          "execution_count": 21
        }
      ]
    },
    {
      "cell_type": "code",
      "source": [
        "# Plot distance matrix\n",
        "import seaborn as sns\n",
        "ax = sns.heatmap(dist_matrix, annot=True)\n",
        "ax.set_xticklabels(extracted_skills, rotation=90, ha='right')\n",
        "ax.set_yticklabels(extracted_skills, rotation=0, ha='right')"
      ],
      "metadata": {
        "colab": {
          "base_uri": "https://localhost:8080/",
          "height": 745
        },
        "id": "PF2UVk6vcaiU",
        "outputId": "5e3321c5-48cd-4f6c-a2be-c9db11db850e"
      },
      "execution_count": null,
      "outputs": [
        {
          "output_type": "execute_result",
          "data": {
            "text/plain": [
              "[Text(0, 0.5, 'data analysis'),\n",
              " Text(0, 1.5, 'communication skill'),\n",
              " Text(0, 2.5, 'problem solving'),\n",
              " Text(0, 3.5, 'data analytics'),\n",
              " Text(0, 4.5, 'team member'),\n",
              " Text(0, 5.5, 'data management'),\n",
              " Text(0, 6.5, 'attention detail'),\n",
              " Text(0, 7.5, 'decision making'),\n",
              " Text(0, 8.5, 'data visualization'),\n",
              " Text(0, 9.5, 'analytical skill'),\n",
              " Text(0, 10.5, 'work independently')]"
            ]
          },
          "metadata": {},
          "execution_count": 22
        },
        {
          "output_type": "display_data",
          "data": {
            "text/plain": [
              "<Figure size 640x480 with 2 Axes>"
            ],
            "image/png": "[encoded data removed]"
          },
          "metadata": {}
        }
      ]
    },
    {
      "cell_type": "code",
      "source": [
        "extracted_skills"
      ],
      "metadata": {
        "colab": {
          "base_uri": "https://localhost:8080/"
        },
        "id": "ukjit-3SqHxo",
        "outputId": "1cea7749-92f6-4a18-fbe9-06924de7052f"
      },
      "execution_count": null,
      "outputs": [
        {
          "output_type": "execute_result",
          "data": {
            "text/plain": [
              "['data analysis',\n",
              " 'communication skill',\n",
              " 'problem solving',\n",
              " 'data analytics',\n",
              " 'team member',\n",
              " 'data management',\n",
              " 'attention detail',\n",
              " 'decision making',\n",
              " 'data visualization',\n",
              " 'analytical skill',\n",
              " 'work independently']"
            ]
          },
          "metadata": {},
          "execution_count": 23
        }
      ]
    },
    {
      "cell_type": "markdown",
      "source": [
        "Feature 1: Average salary of different skills (obtained in Question 2(b))"
      ],
      "metadata": {
        "id": "6OTEuOa8poLb"
      }
    },
    {
      "cell_type": "code",
      "source": [
        "feat_1 = salary_overall_list"
      ],
      "metadata": {
        "id": "mhN1QKpmiZ8R"
      },
      "execution_count": null,
      "outputs": []
    },
    {
      "cell_type": "markdown",
      "source": [
        "Feature 2: Soft or hard skill"
      ],
      "metadata": {
        "id": "91GKtyS9p4Mi"
      }
    },
    {
      "cell_type": "code",
      "source": [
        "# Soft_skill = 1; Hard_skill = 2\n",
        "feat_2 = [2, 1, 1, 2, 1, 2, 1, 1, 2, 2, 1]"
      ],
      "metadata": {
        "id": "B0EMX_gup2cM"
      },
      "execution_count": null,
      "outputs": []
    },
    {
      "cell_type": "markdown",
      "source": [
        "Feature 3: Skill frequency"
      ],
      "metadata": {
        "id": "1SDDAIuYqbXH"
      }
    },
    {
      "cell_type": "code",
      "source": [
        "feat_3 = []\n",
        "for skill in extracted_skills:\n",
        "  count = 0\n",
        "  for item in filtered_list:\n",
        "    if skill in item:\n",
        "      count += 1\n",
        "  feat_3.append(count)"
      ],
      "metadata": {
        "id": "_Urv2GyGniOJ"
      },
      "execution_count": null,
      "outputs": []
    },
    {
      "cell_type": "code",
      "source": [
        "feat_3"
      ],
      "metadata": {
        "colab": {
          "base_uri": "https://localhost:8080/"
        },
        "id": "K-0mpIAUsBEW",
        "outputId": "9f4f36f8-57a3-4bfa-e451-b79abc673d2e"
      },
      "execution_count": null,
      "outputs": [
        {
          "output_type": "execute_result",
          "data": {
            "text/plain": [
              "[443, 634, 396, 254, 291, 185, 308, 241, 223, 236, 193]"
            ]
          },
          "metadata": {},
          "execution_count": 27
        }
      ]
    },
    {
      "cell_type": "markdown",
      "source": [
        "Feature 4: Number of companies requiring each skill (obtained in Question 2(b))"
      ],
      "metadata": {
        "id": "HuKwMjuysX3n"
      }
    },
    {
      "cell_type": "code",
      "source": [
        "feat_4 = company_overall_list"
      ],
      "metadata": {
        "id": "AqLygzXCslEM"
      },
      "execution_count": null,
      "outputs": []
    },
    {
      "cell_type": "markdown",
      "source": [
        "Feature 5: Average rating of jobs requiring each skill"
      ],
      "metadata": {
        "id": "G5xKuAfvsxZO"
      }
    },
    {
      "cell_type": "code",
      "source": [
        "feat_5 = []\n",
        "for skill in extracted_skills:\n",
        "  rating_list = []\n",
        "  for i in range(0, len(filtered_list)):\n",
        "    if skill in filtered_list[i]:\n",
        "      if not np.isnan(df[\"Rating\"].loc[i]):\n",
        "        rating_list.append(float(df[\"Rating\"].loc[i]))\n",
        "  feat_5.append(np.mean(rating_list))"
      ],
      "metadata": {
        "id": "0VI9JPkjs-po"
      },
      "execution_count": null,
      "outputs": []
    },
    {
      "cell_type": "code",
      "source": [
        "feat_5"
      ],
      "metadata": {
        "colab": {
          "base_uri": "https://localhost:8080/"
        },
        "id": "cOhwmgDvuDED",
        "outputId": "8b4dd538-a1a6-4de5-9bc9-61c688cd8396"
      },
      "execution_count": null,
      "outputs": [
        {
          "output_type": "execute_result",
          "data": {
            "text/plain": [
              "[3.6617210682492582,\n",
              " 3.656926406926407,\n",
              " 3.680546075085324,\n",
              " 3.7141361256544503,\n",
              " 3.612903225806452,\n",
              " 3.6597222222222223,\n",
              " 3.634597156398104,\n",
              " 3.66875,\n",
              " 3.6784883720930237,\n",
              " 3.620348837209302,\n",
              " 3.663265306122449]"
            ]
          },
          "metadata": {},
          "execution_count": 30
        }
      ]
    },
    {
      "cell_type": "markdown",
      "source": [
        "Feature 6: Number of job postings that are fully or partially remote for each skill\n",
        "\n"
      ],
      "metadata": {
        "id": "78-gbcFlu7dg"
      }
    },
    {
      "cell_type": "code",
      "source": [
        "feat_6 = []\n",
        "for skill in extracted_skills:\n",
        "  count = 0\n",
        "  for i in range(0, len(filtered_list)):\n",
        "    if skill in filtered_list[i]:\n",
        "      location = df[\"Location\"].loc[i]\n",
        "      if \"remote\" in location.lower():\n",
        "        count += 1\n",
        "  feat_6.append(count)"
      ],
      "metadata": {
        "id": "H5F0VcqJu5RE"
      },
      "execution_count": null,
      "outputs": []
    },
    {
      "cell_type": "code",
      "source": [
        "feat_6"
      ],
      "metadata": {
        "colab": {
          "base_uri": "https://localhost:8080/"
        },
        "id": "vd4dbVk_wBLr",
        "outputId": "4e1310ab-e0a0-4d07-8622-1aa40b134bf9"
      },
      "execution_count": null,
      "outputs": [
        {
          "output_type": "execute_result",
          "data": {
            "text/plain": [
              "[120, 178, 106, 70, 103, 56, 88, 81, 69, 64, 46]"
            ]
          },
          "metadata": {},
          "execution_count": 32
        }
      ]
    },
    {
      "cell_type": "markdown",
      "source": [
        "Feature 7: Number of part-time job postings for each skill"
      ],
      "metadata": {
        "id": "eSM202n3wrVq"
      }
    },
    {
      "cell_type": "code",
      "source": [
        "feat_7 = []\n",
        "for skill in extracted_skills:\n",
        "  count = 0\n",
        "  for i in range(0, len(filtered_list)):\n",
        "    if skill in filtered_list[i]:\n",
        "      if \"part time\" in filtered_list[i]:\n",
        "        count += 1\n",
        "  feat_7.append(count)"
      ],
      "metadata": {
        "id": "RsW2ys4IxqlQ"
      },
      "execution_count": null,
      "outputs": []
    },
    {
      "cell_type": "code",
      "source": [
        "feat_7"
      ],
      "metadata": {
        "colab": {
          "base_uri": "https://localhost:8080/"
        },
        "id": "EBgVAFVKx1Kp",
        "outputId": "e287a6ec-1012-46e1-85a6-c695558f4855"
      },
      "execution_count": null,
      "outputs": [
        {
          "output_type": "execute_result",
          "data": {
            "text/plain": [
              "[14, 17, 14, 13, 11, 7, 7, 4, 10, 3, 7]"
            ]
          },
          "metadata": {},
          "execution_count": 34
        }
      ]
    },
    {
      "cell_type": "markdown",
      "source": [
        "Feature 8: Number of job postings requiring or preferring Master's Degree for each skill"
      ],
      "metadata": {
        "id": "8HE6NNrDx-aq"
      }
    },
    {
      "cell_type": "code",
      "source": [
        "feat_8 = []\n",
        "for skill in extracted_skills:\n",
        "  count = 0\n",
        "  for i in range(0, len(filtered_list)):\n",
        "    if skill in filtered_list[i]:\n",
        "      if (\"masters degree\" in filtered_list[i] or \"master degree\" in filtered_list[i]):\n",
        "        count += 1\n",
        "  feat_8.append(count)"
      ],
      "metadata": {
        "id": "lmEzTMM_0njg"
      },
      "execution_count": null,
      "outputs": []
    },
    {
      "cell_type": "code",
      "source": [
        "feat_8"
      ],
      "metadata": {
        "colab": {
          "base_uri": "https://localhost:8080/"
        },
        "id": "kNQeZAHA07SU",
        "outputId": "0202090e-6173-4285-d034-99dec17c52bf"
      },
      "execution_count": null,
      "outputs": [
        {
          "output_type": "execute_result",
          "data": {
            "text/plain": [
              "[40, 44, 24, 21, 23, 15, 17, 19, 19, 15, 22]"
            ]
          },
          "metadata": {},
          "execution_count": 36
        }
      ]
    },
    {
      "cell_type": "markdown",
      "source": [
        "Feature 9: Number of job postings requiring or preferring SQL for each skill"
      ],
      "metadata": {
        "id": "055DiTlW09No"
      }
    },
    {
      "cell_type": "code",
      "source": [
        "feat_9 = []\n",
        "for skill in extracted_skills:\n",
        "  count = 0\n",
        "  for i in range(0, len(filtered_list)):\n",
        "    if skill in filtered_list[i]:\n",
        "      if \"sql\" in filtered_list[i]:\n",
        "        count += 1\n",
        "  feat_9.append(count)"
      ],
      "metadata": {
        "id": "MtRAjfzL1TTI"
      },
      "execution_count": null,
      "outputs": []
    },
    {
      "cell_type": "code",
      "source": [
        "feat_9"
      ],
      "metadata": {
        "colab": {
          "base_uri": "https://localhost:8080/"
        },
        "id": "vvIS3yBY1aw6",
        "outputId": "8977596f-8f89-489a-8541-19f54a0eed22"
      },
      "execution_count": null,
      "outputs": [
        {
          "output_type": "execute_result",
          "data": {
            "text/plain": [
              "[261, 297, 194, 173, 141, 96, 136, 138, 162, 116, 79]"
            ]
          },
          "metadata": {},
          "execution_count": 38
        }
      ]
    },
    {
      "cell_type": "markdown",
      "source": [
        "Feature 10: Number of job postings requiring or preferring engineering for each skill"
      ],
      "metadata": {
        "id": "A7kek3KD1dMW"
      }
    },
    {
      "cell_type": "code",
      "source": [
        "feat_10 = []\n",
        "for skill in extracted_skills:\n",
        "  count = 0\n",
        "  for i in range(0, len(filtered_list)):\n",
        "    if skill in filtered_list[i]:\n",
        "      if \"engineering\" in filtered_list[i]:\n",
        "        count += 1\n",
        "  feat_10.append(count)"
      ],
      "metadata": {
        "id": "bpSgskma2N5T"
      },
      "execution_count": null,
      "outputs": []
    },
    {
      "cell_type": "code",
      "source": [
        "feat_10"
      ],
      "metadata": {
        "colab": {
          "base_uri": "https://localhost:8080/"
        },
        "id": "NHDnJIdK6TGy",
        "outputId": "83be7d8f-67dc-48f5-ca5d-b3bfb5578bf9"
      },
      "execution_count": null,
      "outputs": [
        {
          "output_type": "execute_result",
          "data": {
            "text/plain": [
              "[102, 140, 101, 74, 64, 37, 61, 64, 69, 52, 33]"
            ]
          },
          "metadata": {},
          "execution_count": 40
        }
      ]
    },
    {
      "cell_type": "markdown",
      "source": [
        "K-means clustering"
      ],
      "metadata": {
        "id": "F71zl-wk2VHs"
      }
    },
    {
      "cell_type": "code",
      "source": [
        "feat_col = [\"Feat_1\", \"Feat_2\", \"Feat_3\", \"Feat_4\",\n",
        "            \"Feat_5\", \"Feat_6\", \"Feat_7\", \"Feat_8\",\n",
        "            \"Feat_9\", \"Feat_10\"]\n",
        "df_feat = pd.DataFrame(columns = feat_col)\n",
        "feat_list = [feat_1, feat_2, feat_3, feat_4,\n",
        "             feat_5, feat_6, feat_7, feat_8,\n",
        "             feat_9, feat_10]\n",
        "\n",
        "for i in range(0, len(feat_col)):\n",
        "  col = feat_col[i]\n",
        "  df_feat[col] = feat_list[i]\n"
      ],
      "metadata": {
        "id": "2lW_ITNh2W57"
      },
      "execution_count": null,
      "outputs": []
    },
    {
      "cell_type": "code",
      "source": [
        "df_feat"
      ],
      "metadata": {
        "colab": {
          "base_uri": "https://localhost:8080/",
          "height": 458
        },
        "id": "gNUQd2ui22kC",
        "outputId": "bd306373-14e6-4241-c88f-e5ebb710985d"
      },
      "execution_count": null,
      "outputs": [
        {
          "output_type": "execute_result",
          "data": {
            "text/plain": [
              "           Feat_1  Feat_2  Feat_3  Feat_4    Feat_5  Feat_6  Feat_7  Feat_8  \\\n",
              "0    99559.154514       2     443     380  3.661721     120      14      40   \n",
              "1    96149.917910       1     634     516  3.656926     178      17      44   \n",
              "2    94797.807692       1     396     354  3.680546     106      14      24   \n",
              "3   104653.849057       2     254     223  3.714136      70      13      21   \n",
              "4    91669.476879       1     291     243  3.612903     103      11      23   \n",
              "5    94632.431624       2     185     169  3.659722      56       7      15   \n",
              "6    89457.610825       1     308     279  3.634597      88       7      17   \n",
              "7    96392.973684       1     241     218  3.668750      81       4      19   \n",
              "8    97878.876866       2     223     199  3.678488      69      10      19   \n",
              "9    92278.370370       2     236     213  3.620349      64       3      15   \n",
              "10   88147.842105       1     193     172  3.663265      46       7      22   \n",
              "\n",
              "    Feat_9  Feat_10  \n",
              "0      261      102  \n",
              "1      297      140  \n",
              "2      194      101  \n",
              "3      173       74  \n",
              "4      141       64  \n",
              "5       96       37  \n",
              "6      136       61  \n",
              "7      138       64  \n",
              "8      162       69  \n",
              "9      116       52  \n",
              "10      79       33  "
            ],
            "text/html": [
              "\n",
              "  <div id=\"df-0cbb339b-0f47-46cb-9247-37d437164648\">\n",
              "    <div class=\"colab-df-container\">\n",
              "      <div>\n",
              "<style scoped>\n",
              "    .dataframe tbody tr th:only-of-type {\n",
              "        vertical-align: middle;\n",
              "    }\n",
              "\n",
              "    .dataframe tbody tr th {\n",
              "        vertical-align: top;\n",
              "    }\n",
              "\n",
              "    .dataframe thead th {\n",
              "        text-align: right;\n",
              "    }\n",
              "</style>\n",
              "<table border=\"1\" class=\"dataframe\">\n",
              "  <thead>\n",
              "    <tr style=\"text-align: right;\">\n",
              "      <th></th>\n",
              "      <th>Feat_1</th>\n",
              "      <th>Feat_2</th>\n",
              "      <th>Feat_3</th>\n",
              "      <th>Feat_4</th>\n",
              "      <th>Feat_5</th>\n",
              "      <th>Feat_6</th>\n",
              "      <th>Feat_7</th>\n",
              "      <th>Feat_8</th>\n",
              "      <th>Feat_9</th>\n",
              "      <th>Feat_10</th>\n",
              "    </tr>\n",
              "  </thead>\n",
              "  <tbody>\n",
              "    <tr>\n",
              "      <th>0</th>\n",
              "      <td>99559.154514</td>\n",
              "      <td>2</td>\n",
              "      <td>443</td>\n",
              "      <td>380</td>\n",
              "      <td>3.661721</td>\n",
              "      <td>120</td>\n",
              "      <td>14</td>\n",
              "      <td>40</td>\n",
              "      <td>261</td>\n",
              "      <td>102</td>\n",
              "    </tr>\n",
              "    <tr>\n",
              "      <th>1</th>\n",
              "      <td>96149.917910</td>\n",
              "      <td>1</td>\n",
              "      <td>634</td>\n",
              "      <td>516</td>\n",
              "      <td>3.656926</td>\n",
              "      <td>178</td>\n",
              "      <td>17</td>\n",
              "      <td>44</td>\n",
              "      <td>297</td>\n",
              "      <td>140</td>\n",
              "    </tr>\n",
              "    <tr>\n",
              "      <th>2</th>\n",
              "      <td>94797.807692</td>\n",
              "      <td>1</td>\n",
              "      <td>396</td>\n",
              "      <td>354</td>\n",
              "      <td>3.680546</td>\n",
              "      <td>106</td>\n",
              "      <td>14</td>\n",
              "      <td>24</td>\n",
              "      <td>194</td>\n",
              "      <td>101</td>\n",
              "    </tr>\n",
              "    <tr>\n",
              "      <th>3</th>\n",
              "      <td>104653.849057</td>\n",
              "      <td>2</td>\n",
              "      <td>254</td>\n",
              "      <td>223</td>\n",
              "      <td>3.714136</td>\n",
              "      <td>70</td>\n",
              "      <td>13</td>\n",
              "      <td>21</td>\n",
              "      <td>173</td>\n",
              "      <td>74</td>\n",
              "    </tr>\n",
              "    <tr>\n",
              "      <th>4</th>\n",
              "      <td>91669.476879</td>\n",
              "      <td>1</td>\n",
              "      <td>291</td>\n",
              "      <td>243</td>\n",
              "      <td>3.612903</td>\n",
              "      <td>103</td>\n",
              "      <td>11</td>\n",
              "      <td>23</td>\n",
              "      <td>141</td>\n",
              "      <td>64</td>\n",
              "    </tr>\n",
              "    <tr>\n",
              "      <th>5</th>\n",
              "      <td>94632.431624</td>\n",
              "      <td>2</td>\n",
              "      <td>185</td>\n",
              "      <td>169</td>\n",
              "      <td>3.659722</td>\n",
              "      <td>56</td>\n",
              "      <td>7</td>\n",
              "      <td>15</td>\n",
              "      <td>96</td>\n",
              "      <td>37</td>\n",
              "    </tr>\n",
              "    <tr>\n",
              "      <th>6</th>\n",
              "      <td>89457.610825</td>\n",
              "      <td>1</td>\n",
              "      <td>308</td>\n",
              "      <td>279</td>\n",
              "      <td>3.634597</td>\n",
              "      <td>88</td>\n",
              "      <td>7</td>\n",
              "      <td>17</td>\n",
              "      <td>136</td>\n",
              "      <td>61</td>\n",
              "    </tr>\n",
              "    <tr>\n",
              "      <th>7</th>\n",
              "      <td>96392.973684</td>\n",
              "      <td>1</td>\n",
              "      <td>241</td>\n",
              "      <td>218</td>\n",
              "      <td>3.668750</td>\n",
              "      <td>81</td>\n",
              "      <td>4</td>\n",
              "      <td>19</td>\n",
              "      <td>138</td>\n",
              "      <td>64</td>\n",
              "    </tr>\n",
              "    <tr>\n",
              "      <th>8</th>\n",
              "      <td>97878.876866</td>\n",
              "      <td>2</td>\n",
              "      <td>223</td>\n",
              "      <td>199</td>\n",
              "      <td>3.678488</td>\n",
              "      <td>69</td>\n",
              "      <td>10</td>\n",
              "      <td>19</td>\n",
              "      <td>162</td>\n",
              "      <td>69</td>\n",
              "    </tr>\n",
              "    <tr>\n",
              "      <th>9</th>\n",
              "      <td>92278.370370</td>\n",
              "      <td>2</td>\n",
              "      <td>236</td>\n",
              "      <td>213</td>\n",
              "      <td>3.620349</td>\n",
              "      <td>64</td>\n",
              "      <td>3</td>\n",
              "      <td>15</td>\n",
              "      <td>116</td>\n",
              "      <td>52</td>\n",
              "    </tr>\n",
              "    <tr>\n",
              "      <th>10</th>\n",
              "      <td>88147.842105</td>\n",
              "      <td>1</td>\n",
              "      <td>193</td>\n",
              "      <td>172</td>\n",
              "      <td>3.663265</td>\n",
              "      <td>46</td>\n",
              "      <td>7</td>\n",
              "      <td>22</td>\n",
              "      <td>79</td>\n",
              "      <td>33</td>\n",
              "    </tr>\n",
              "  </tbody>\n",
              "</table>\n",
              "</div>\n",
              "      <button class=\"colab-df-convert\" onclick=\"convertToInteractive('df-0cbb339b-0f47-46cb-9247-37d437164648')\"\n",
              "              title=\"Convert this dataframe to an interactive table.\"\n",
              "              style=\"display:none;\">\n",
              "        \n",
              "  <svg xmlns=\"http://www.w3.org/2000/svg\" height=\"24px\"viewBox=\"0 0 24 24\"\n",
              "       width=\"24px\">\n",
              "    <path d=\"M0 0h24v24H0V0z\" fill=\"none\"/>\n",
              "    <path d=\"M18.56 5.44l.94 2.06.94-2.06 2.06-.94-2.06-.94-.94-2.06-.94 2.06-2.06.94zm-11 1L8.5 8.5l.94-2.06 2.06-.94-2.06-.94L8.5 2.5l-.94 2.06-2.06.94zm10 10l.94 2.06.94-2.06 2.06-.94-2.06-.94-.94-2.06-.94 2.06-2.06.94z\"/><path d=\"M17.41 7.96l-1.37-1.37c-.4-.4-.92-.59-1.43-.59-.52 0-1.04.2-1.43.59L10.3 9.45l-7.72 7.72c-.78.78-.78 2.05 0 2.83L4 21.41c.39.39.9.59 1.41.59.51 0 1.02-.2 1.41-.59l7.78-7.78 2.81-2.81c.8-.78.8-2.07 0-2.86zM5.41 20L4 18.59l7.72-7.72 1.47 1.35L5.41 20z\"/>\n",
              "  </svg>\n",
              "      </button>\n",
              "      \n",
              "  <style>\n",
              "    .colab-df-container {\n",
              "      display:flex;\n",
              "      flex-wrap:wrap;\n",
              "      gap: 12px;\n",
              "    }\n",
              "\n",
              "    .colab-df-convert {\n",
              "      background-color: #E8F0FE;\n",
              "      border: none;\n",
              "      border-radius: 50%;\n",
              "      cursor: pointer;\n",
              "      display: none;\n",
              "      fill: #1967D2;\n",
              "      height: 32px;\n",
              "      padding: 0 0 0 0;\n",
              "      width: 32px;\n",
              "    }\n",
              "\n",
              "    .colab-df-convert:hover {\n",
              "      background-color: #E2EBFA;\n",
              "      box-shadow: 0px 1px 2px rgba(60, 64, 67, 0.3), 0px 1px 3px 1px rgba(60, 64, 67, 0.15);\n",
              "      fill: #174EA6;\n",
              "    }\n",
              "\n",
              "    [theme=dark] .colab-df-convert {\n",
              "      background-color: #3B4455;\n",
              "      fill: #D2E3FC;\n",
              "    }\n",
              "\n",
              "    [theme=dark] .colab-df-convert:hover {\n",
              "      background-color: #434B5C;\n",
              "      box-shadow: 0px 1px 3px 1px rgba(0, 0, 0, 0.15);\n",
              "      filter: drop-shadow(0px 1px 2px rgba(0, 0, 0, 0.3));\n",
              "      fill: #FFFFFF;\n",
              "    }\n",
              "  </style>\n",
              "\n",
              "      <script>\n",
              "        const buttonEl =\n",
              "          document.querySelector('#df-0cbb339b-0f47-46cb-9247-37d437164648 button.colab-df-convert');\n",
              "        buttonEl.style.display =\n",
              "          google.colab.kernel.accessAllowed ? 'block' : 'none';\n",
              "\n",
              "        async function convertToInteractive(key) {\n",
              "          const element = document.querySelector('#df-0cbb339b-0f47-46cb-9247-37d437164648');\n",
              "          const dataTable =\n",
              "            await google.colab.kernel.invokeFunction('convertToInteractive',\n",
              "                                                     [key], {});\n",
              "          if (!dataTable) return;\n",
              "\n",
              "          const docLinkHtml = 'Like what you see? Visit the ' +\n",
              "            '<a target=\"_blank\" href=https://colab.research.google.com/notebooks/data_table.ipynb>data table notebook</a>'\n",
              "            + ' to learn more about interactive tables.';\n",
              "          element.innerHTML = '';\n",
              "          dataTable['output_type'] = 'display_data';\n",
              "          await google.colab.output.renderOutput(dataTable, element);\n",
              "          const docLink = document.createElement('div');\n",
              "          docLink.innerHTML = docLinkHtml;\n",
              "          element.appendChild(docLink);\n",
              "        }\n",
              "      </script>\n",
              "    </div>\n",
              "  </div>\n",
              "  "
            ]
          },
          "metadata": {},
          "execution_count": 42
        }
      ]
    },
    {
      "cell_type": "code",
      "source": [
        "# Normalize features\n",
        "from sklearn.preprocessing import StandardScaler\n",
        "scaled_df = StandardScaler().fit_transform(df_feat)"
      ],
      "metadata": {
        "id": "ZgWgUCra7g2C"
      },
      "execution_count": null,
      "outputs": []
    },
    {
      "cell_type": "code",
      "source": [
        "from sklearn.cluster import KMeans\n",
        "\n",
        "kmeans = KMeans(n_clusters=4)\n",
        "y = kmeans.fit_predict(scaled_df)\n"
      ],
      "metadata": {
        "colab": {
          "base_uri": "https://localhost:8080/"
        },
        "id": "m3XXkjrq3prY",
        "outputId": "99989f3f-3a62-46cd-840d-d6d5925e11d7"
      },
      "execution_count": null,
      "outputs": [
        {
          "output_type": "stream",
          "name": "stderr",
          "text": [
            "/usr/local/lib/python3.9/dist-packages/sklearn/cluster/_kmeans.py:870: FutureWarning: The default value of `n_init` will change from 10 to 'auto' in 1.4. Set the value of `n_init` explicitly to suppress the warning\n",
            "  warnings.warn(\n"
          ]
        }
      ]
    },
    {
      "cell_type": "code",
      "source": [
        "df_kmeans = pd.DataFrame()\n",
        "df_kmeans[\"Skill\"] = extracted_skills\n",
        "df_kmeans[\"Cluster\"] = y\n",
        "\n",
        "df_kmeans"
      ],
      "metadata": {
        "colab": {
          "base_uri": "https://localhost:8080/",
          "height": 394
        },
        "id": "CB8p1xQg6aOB",
        "outputId": "be3f41e9-1cd4-4deb-aa72-55c4f2dd1742"
      },
      "execution_count": null,
      "outputs": [
        {
          "output_type": "execute_result",
          "data": {
            "text/plain": [
              "                  Skill  Cluster\n",
              "0         data analysis        1\n",
              "1   communication skill        3\n",
              "2       problem solving        1\n",
              "3        data analytics        2\n",
              "4           team member        0\n",
              "5       data management        0\n",
              "6      attention detail        0\n",
              "7       decision making        0\n",
              "8    data visualization        2\n",
              "9      analytical skill        0\n",
              "10   work independently        0"
            ],
            "text/html": [
              "\n",
              "  <div id=\"df-1122792a-d682-48b1-a02b-3d97bbb84a8a\">\n",
              "    <div class=\"colab-df-container\">\n",
              "      <div>\n",
              "<style scoped>\n",
              "    .dataframe tbody tr th:only-of-type {\n",
              "        vertical-align: middle;\n",
              "    }\n",
              "\n",
              "    .dataframe tbody tr th {\n",
              "        vertical-align: top;\n",
              "    }\n",
              "\n",
              "    .dataframe thead th {\n",
              "        text-align: right;\n",
              "    }\n",
              "</style>\n",
              "<table border=\"1\" class=\"dataframe\">\n",
              "  <thead>\n",
              "    <tr style=\"text-align: right;\">\n",
              "      <th></th>\n",
              "      <th>Skill</th>\n",
              "      <th>Cluster</th>\n",
              "    </tr>\n",
              "  </thead>\n",
              "  <tbody>\n",
              "    <tr>\n",
              "      <th>0</th>\n",
              "      <td>data analysis</td>\n",
              "      <td>1</td>\n",
              "    </tr>\n",
              "    <tr>\n",
              "      <th>1</th>\n",
              "      <td>communication skill</td>\n",
              "      <td>3</td>\n",
              "    </tr>\n",
              "    <tr>\n",
              "      <th>2</th>\n",
              "      <td>problem solving</td>\n",
              "      <td>1</td>\n",
              "    </tr>\n",
              "    <tr>\n",
              "      <th>3</th>\n",
              "      <td>data analytics</td>\n",
              "      <td>2</td>\n",
              "    </tr>\n",
              "    <tr>\n",
              "      <th>4</th>\n",
              "      <td>team member</td>\n",
              "      <td>0</td>\n",
              "    </tr>\n",
              "    <tr>\n",
              "      <th>5</th>\n",
              "      <td>data management</td>\n",
              "      <td>0</td>\n",
              "    </tr>\n",
              "    <tr>\n",
              "      <th>6</th>\n",
              "      <td>attention detail</td>\n",
              "      <td>0</td>\n",
              "    </tr>\n",
              "    <tr>\n",
              "      <th>7</th>\n",
              "      <td>decision making</td>\n",
              "      <td>0</td>\n",
              "    </tr>\n",
              "    <tr>\n",
              "      <th>8</th>\n",
              "      <td>data visualization</td>\n",
              "      <td>2</td>\n",
              "    </tr>\n",
              "    <tr>\n",
              "      <th>9</th>\n",
              "      <td>analytical skill</td>\n",
              "      <td>0</td>\n",
              "    </tr>\n",
              "    <tr>\n",
              "      <th>10</th>\n",
              "      <td>work independently</td>\n",
              "      <td>0</td>\n",
              "    </tr>\n",
              "  </tbody>\n",
              "</table>\n",
              "</div>\n",
              "      <button class=\"colab-df-convert\" onclick=\"convertToInteractive('df-1122792a-d682-48b1-a02b-3d97bbb84a8a')\"\n",
              "              title=\"Convert this dataframe to an interactive table.\"\n",
              "              style=\"display:none;\">\n",
              "        \n",
              "  <svg xmlns=\"http://www.w3.org/2000/svg\" height=\"24px\"viewBox=\"0 0 24 24\"\n",
              "       width=\"24px\">\n",
              "    <path d=\"M0 0h24v24H0V0z\" fill=\"none\"/>\n",
              "    <path d=\"M18.56 5.44l.94 2.06.94-2.06 2.06-.94-2.06-.94-.94-2.06-.94 2.06-2.06.94zm-11 1L8.5 8.5l.94-2.06 2.06-.94-2.06-.94L8.5 2.5l-.94 2.06-2.06.94zm10 10l.94 2.06.94-2.06 2.06-.94-2.06-.94-.94-2.06-.94 2.06-2.06.94z\"/><path d=\"M17.41 7.96l-1.37-1.37c-.4-.4-.92-.59-1.43-.59-.52 0-1.04.2-1.43.59L10.3 9.45l-7.72 7.72c-.78.78-.78 2.05 0 2.83L4 21.41c.39.39.9.59 1.41.59.51 0 1.02-.2 1.41-.59l7.78-7.78 2.81-2.81c.8-.78.8-2.07 0-2.86zM5.41 20L4 18.59l7.72-7.72 1.47 1.35L5.41 20z\"/>\n",
              "  </svg>\n",
              "      </button>\n",
              "      \n",
              "  <style>\n",
              "    .colab-df-container {\n",
              "      display:flex;\n",
              "      flex-wrap:wrap;\n",
              "      gap: 12px;\n",
              "    }\n",
              "\n",
              "    .colab-df-convert {\n",
              "      background-color: #E8F0FE;\n",
              "      border: none;\n",
              "      border-radius: 50%;\n",
              "      cursor: pointer;\n",
              "      display: none;\n",
              "      fill: #1967D2;\n",
              "      height: 32px;\n",
              "      padding: 0 0 0 0;\n",
              "      width: 32px;\n",
              "    }\n",
              "\n",
              "    .colab-df-convert:hover {\n",
              "      background-color: #E2EBFA;\n",
              "      box-shadow: 0px 1px 2px rgba(60, 64, 67, 0.3), 0px 1px 3px 1px rgba(60, 64, 67, 0.15);\n",
              "      fill: #174EA6;\n",
              "    }\n",
              "\n",
              "    [theme=dark] .colab-df-convert {\n",
              "      background-color: #3B4455;\n",
              "      fill: #D2E3FC;\n",
              "    }\n",
              "\n",
              "    [theme=dark] .colab-df-convert:hover {\n",
              "      background-color: #434B5C;\n",
              "      box-shadow: 0px 1px 3px 1px rgba(0, 0, 0, 0.15);\n",
              "      filter: drop-shadow(0px 1px 2px rgba(0, 0, 0, 0.3));\n",
              "      fill: #FFFFFF;\n",
              "    }\n",
              "  </style>\n",
              "\n",
              "      <script>\n",
              "        const buttonEl =\n",
              "          document.querySelector('#df-1122792a-d682-48b1-a02b-3d97bbb84a8a button.colab-df-convert');\n",
              "        buttonEl.style.display =\n",
              "          google.colab.kernel.accessAllowed ? 'block' : 'none';\n",
              "\n",
              "        async function convertToInteractive(key) {\n",
              "          const element = document.querySelector('#df-1122792a-d682-48b1-a02b-3d97bbb84a8a');\n",
              "          const dataTable =\n",
              "            await google.colab.kernel.invokeFunction('convertToInteractive',\n",
              "                                                     [key], {});\n",
              "          if (!dataTable) return;\n",
              "\n",
              "          const docLinkHtml = 'Like what you see? Visit the ' +\n",
              "            '<a target=\"_blank\" href=https://colab.research.google.com/notebooks/data_table.ipynb>data table notebook</a>'\n",
              "            + ' to learn more about interactive tables.';\n",
              "          element.innerHTML = '';\n",
              "          dataTable['output_type'] = 'display_data';\n",
              "          await google.colab.output.renderOutput(dataTable, element);\n",
              "          const docLink = document.createElement('div');\n",
              "          docLink.innerHTML = docLinkHtml;\n",
              "          element.appendChild(docLink);\n",
              "        }\n",
              "      </script>\n",
              "    </div>\n",
              "  </div>\n",
              "  "
            ]
          },
          "metadata": {},
          "execution_count": 45
        }
      ]
    },
    {
      "cell_type": "markdown",
      "source": [
        "Question 4(b) and 5(c)"
      ],
      "metadata": {
        "id": "uSGn6cwq7T6_"
      }
    },
    {
      "cell_type": "code",
      "source": [
        "#initialize kmeans parameters\n",
        "kmeans_kwargs = {\n",
        "\"init\": \"random\",\n",
        "\"n_init\": 10,\n",
        "\"random_state\": 1,\n",
        "}\n",
        "\n",
        "#create list to hold SSE values for each k\n",
        "sse = []\n",
        "for k in range(1, 11):\n",
        "    kmeans = KMeans(n_clusters=k, **kmeans_kwargs)\n",
        "    kmeans.fit(scaled_df)\n",
        "    sse.append(kmeans.inertia_)\n",
        "\n",
        "#visualize results\n",
        "plt.plot(range(1, 11), sse)\n",
        "plt.xticks(range(1, 11))\n",
        "plt.xlabel(\"Number of Clusters\")\n",
        "plt.ylabel(\"SSE\")\n",
        "plt.show()"
      ],
      "metadata": {
        "colab": {
          "base_uri": "https://localhost:8080/",
          "height": 449
        },
        "id": "Vs-a43do7WhG",
        "outputId": "32d4056f-be3f-4777-f603-f5e9145b9574"
      },
      "execution_count": null,
      "outputs": [
        {
          "output_type": "display_data",
          "data": {
            "text/plain": [
              "<Figure size 640x480 with 1 Axes>"
            ],
            "image/png": "[encoded data removed]"
          },
          "metadata": {}
        }
      ]
    },
    {
      "cell_type": "markdown",
      "source": [
        "The elbow appears at k=3. Thus, the optimal number of clusters is 3."
      ],
      "metadata": {
        "id": "Mi3ZvRwe705o"
      }
    },
    {
      "cell_type": "markdown",
      "source": [
        "Question 5(a)"
      ],
      "metadata": {
        "id": "jGmjW9_uni1v"
      }
    },
    {
      "cell_type": "code",
      "source": [
        "from scipy.cluster.hierarchy import dendrogram, linkage\n",
        "from scipy.spatial.distance import squareform\n",
        "\n",
        "dists = squareform(dist_matrix)\n",
        "linkage_matrix = linkage(dists, \"single\")\n",
        "dendrogram(linkage_matrix, labels=extracted_skills)\n",
        "plt.xticks(rotation=45, ha='right')\n",
        "plt.show()"
      ],
      "metadata": {
        "colab": {
          "base_uri": "https://localhost:8080/",
          "height": 546
        },
        "id": "rMQD8u39nidv",
        "outputId": "05b93e57-01f7-44cd-c68e-9925936c2041"
      },
      "execution_count": null,
      "outputs": [
        {
          "output_type": "display_data",
          "data": {
            "text/plain": [
              "<Figure size 640x480 with 1 Axes>"
            ],
            "image/png": "[encoded data removed]"
          },
          "metadata": {}
        }
      ]
    },
    {
      "cell_type": "markdown",
      "source": [
        "Question 5(b)"
      ],
      "metadata": {
        "id": "Q0exuq2y8QC0"
      }
    },
    {
      "cell_type": "code",
      "source": [
        "# Apply PCA to reduce dimensionality to 2D\n",
        "from sklearn.decomposition import PCA\n",
        "X = PCA(2).fit_transform(scaled_df)\n",
        "X"
      ],
      "metadata": {
        "colab": {
          "base_uri": "https://localhost:8080/"
        },
        "id": "ML-ueKMW8RVY",
        "outputId": "38573aaf-e51a-41ba-fc3b-9c9918e45b68"
      },
      "execution_count": null,
      "outputs": [
        {
          "output_type": "execute_result",
          "data": {
            "text/plain": [
              "array([[ 3.17049634,  0.9951333 ],\n",
              "       [ 5.97631002, -1.06964625],\n",
              "       [ 1.7684855 , -0.14897818],\n",
              "       [ 0.07656672,  3.26407569],\n",
              "       [-0.32959394, -1.83411368],\n",
              "       [-2.60160021,  0.75641333],\n",
              "       [-0.94898372, -1.80842869],\n",
              "       [-1.23911824, -0.12944734],\n",
              "       [-0.87815775,  1.61819561],\n",
              "       [-2.37825903, -0.58855712],\n",
              "       [-2.61614569, -1.05464668]])"
            ]
          },
          "metadata": {},
          "execution_count": 48
        }
      ]
    },
    {
      "cell_type": "code",
      "source": [
        "kwargs = dict(cmap = plt.cm.get_cmap('rainbow', 10),\n",
        "              edgecolor='none', alpha=0.6)\n",
        "fig, ax = plt.subplots()\n",
        "\n",
        "scatter = ax.scatter(X[:, 0], X[:, 1], c=y, **kwargs)\n",
        "legend1 = plt.legend(*scatter.legend_elements(),\n",
        "                    loc=\"upper right\", title=\"Classes\")\n",
        "\n",
        "for i in range(0, len(extracted_skills)):\n",
        "  skill = extracted_skills[i]\n",
        "  xi = X[:, 0][i]\n",
        "  yi = X[:, 1][i]\n",
        "  if skill == \"communication skill\":\n",
        "    ax.text(x=xi-2.3, y=yi+0.1, s=skill)\n",
        "  elif skill == \"data analytics\":\n",
        "    ax.text(x=xi+0.2, y=yi, s=skill)\n",
        "  elif skill == \"attention detail\":\n",
        "    ax.text(x=xi-2, y=yi+0.1, s=skill)\n",
        "  else:\n",
        "    ax.text(x=xi+0.1, y=yi, s=skill)\n",
        "\n",
        "plt.show()"
      ],
      "metadata": {
        "colab": {
          "base_uri": "https://localhost:8080/",
          "height": 486
        },
        "id": "r6oKwLZh9urY",
        "outputId": "490b4038-fac9-4a97-bfd1-5145dfa74df0"
      },
      "execution_count": null,
      "outputs": [
        {
          "output_type": "stream",
          "name": "stderr",
          "text": [
            "<ipython-input-49-5c8e116cdf71>:1: MatplotlibDeprecationWarning: The get_cmap function was deprecated in Matplotlib 3.7 and will be removed two minor releases later. Use ``matplotlib.colormaps[name]`` or ``matplotlib.colormaps.get_cmap(obj)`` instead.\n",
            "  kwargs = dict(cmap = plt.cm.get_cmap('rainbow', 10),\n"
          ]
        },
        {
          "output_type": "display_data",
          "data": {
            "text/plain": [
              "<Figure size 640x480 with 1 Axes>"
            ],
            "image/png": "[encoded data removed]"
          },
          "metadata": {}
        }
      ]
    }
  ]
}