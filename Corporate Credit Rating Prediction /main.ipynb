{
  "nbformat": 4,
  "nbformat_minor": 0,
  "metadata": {
    "colab": {
      "provenance": []
    },
    "kernelspec": {
      "name": "python3",
      "display_name": "Python 3"
    },
    "language_info": {
      "name": "python"
    }
  },
  "cells": [
    {
      "cell_type": "code",
      "execution_count": 7,
      "metadata": {
        "id": "_2_PRM7m35tT"
      },
      "outputs": [],
      "source": [
        "# Importing the Libraries\n",
        "import pandas as pd\n",
        "import numpy as np\n",
        "import matplotlib.pyplot as plt\n",
        "from matplotlib.pyplot import figure\n",
        "from sklearn.model_selection import train_test_split\n",
        "import keras\n",
        "import tensorflow as tf\n",
        "from keras.layers import Activation, Dense, Dropout\n",
        "from keras.models import Sequential\n",
        "from keras.layers import Dense, Embedding\n",
        "from keras.layers import LSTM\n",
        "#from keras.utils.vis_utils import plot_model\n",
        "from keras.utils import plot_model\n",
        "import seaborn as sns\n",
        "import pywt\n",
        "from sklearn.ensemble import RandomForestRegressor\n",
        "from sklearn.feature_selection import SelectFromModel\n",
        "from sklearn import svm, datasets\n",
        "import sklearn.model_selection as model_selection\n",
        "from sklearn.metrics import accuracy_score\n",
        "from sklearn.metrics import f1_score\n"
      ]
    },
    {
      "cell_type": "code",
      "source": [
        "# Import raw data file: \"corporateCreditRatingWithFinancialRatios.csv\"\n",
        "from google.colab import files\n",
        "uploaded = files.upload()\n",
        "\n",
        "import io\n",
        "df_raw = pd.read_csv(io.BytesIO(uploaded['corporateCreditRatingWithFinancialRatios.csv']))"
      ],
      "metadata": {
        "colab": {
          "base_uri": "https://localhost:8080/",
          "height": 73
        },
        "id": "aCmrcRp65tpp",
        "outputId": "15a67f0f-d23d-4c34-cd3e-571a7a849eb0"
      },
      "execution_count": 8,
      "outputs": [
        {
          "output_type": "display_data",
          "data": {
            "text/plain": [
              "<IPython.core.display.HTML object>"
            ],
            "text/html": [
              "\n",
              "     <input type=\"file\" id=\"files-ac98f558-6f52-433a-bbb9-8acffe987f51\" name=\"files[]\" multiple disabled\n",
              "        style=\"border:none\" />\n",
              "     <output id=\"result-ac98f558-6f52-433a-bbb9-8acffe987f51\">\n",
              "      Upload widget is only available when the cell has been executed in the\n",
              "      current browser session. Please rerun this cell to enable.\n",
              "      </output>\n",
              "      <script>// Copyright 2017 Google LLC\n",
              "//\n",
              "// Licensed under the Apache License, Version 2.0 (the \"License\");\n",
              "// you may not use this file except in compliance with the License.\n",
              "// You may obtain a copy of the License at\n",
              "//\n",
              "//      http://www.apache.org/licenses/LICENSE-2.0\n",
              "//\n",
              "// Unless required by applicable law or agreed to in writing, software\n",
              "// distributed under the License is distributed on an \"AS IS\" BASIS,\n",
              "// WITHOUT WARRANTIES OR CONDITIONS OF ANY KIND, either express or implied.\n",
              "// See the License for the specific language governing permissions and\n",
              "// limitations under the License.\n",
              "\n",
              "/**\n",
              " * @fileoverview Helpers for google.colab Python module.\n",
              " */\n",
              "(function(scope) {\n",
              "function span(text, styleAttributes = {}) {\n",
              "  const element = document.createElement('span');\n",
              "  element.textContent = text;\n",
              "  for (const key of Object.keys(styleAttributes)) {\n",
              "    element.style[key] = styleAttributes[key];\n",
              "  }\n",
              "  return element;\n",
              "}\n",
              "\n",
              "// Max number of bytes which will be uploaded at a time.\n",
              "const MAX_PAYLOAD_SIZE = 100 * 1024;\n",
              "\n",
              "function _uploadFiles(inputId, outputId) {\n",
              "  const steps = uploadFilesStep(inputId, outputId);\n",
              "  const outputElement = document.getElementById(outputId);\n",
              "  // Cache steps on the outputElement to make it available for the next call\n",
              "  // to uploadFilesContinue from Python.\n",
              "  outputElement.steps = steps;\n",
              "\n",
              "  return _uploadFilesContinue(outputId);\n",
              "}\n",
              "\n",
              "// This is roughly an async generator (not supported in the browser yet),\n",
              "// where there are multiple asynchronous steps and the Python side is going\n",
              "// to poll for completion of each step.\n",
              "// This uses a Promise to block the python side on completion of each step,\n",
              "// then passes the result of the previous step as the input to the next step.\n",
              "function _uploadFilesContinue(outputId) {\n",
              "  const outputElement = document.getElementById(outputId);\n",
              "  const steps = outputElement.steps;\n",
              "\n",
              "  const next = steps.next(outputElement.lastPromiseValue);\n",
              "  return Promise.resolve(next.value.promise).then((value) => {\n",
              "    // Cache the last promise value to make it available to the next\n",
              "    // step of the generator.\n",
              "    outputElement.lastPromiseValue = value;\n",
              "    return next.value.response;\n",
              "  });\n",
              "}\n",
              "\n",
              "/**\n",
              " * Generator function which is called between each async step of the upload\n",
              " * process.\n",
              " * @param {string} inputId Element ID of the input file picker element.\n",
              " * @param {string} outputId Element ID of the output display.\n",
              " * @return {!Iterable<!Object>} Iterable of next steps.\n",
              " */\n",
              "function* uploadFilesStep(inputId, outputId) {\n",
              "  const inputElement = document.getElementById(inputId);\n",
              "  inputElement.disabled = false;\n",
              "\n",
              "  const outputElement = document.getElementById(outputId);\n",
              "  outputElement.innerHTML = '';\n",
              "\n",
              "  const pickedPromise = new Promise((resolve) => {\n",
              "    inputElement.addEventListener('change', (e) => {\n",
              "      resolve(e.target.files);\n",
              "    });\n",
              "  });\n",
              "\n",
              "  const cancel = document.createElement('button');\n",
              "  inputElement.parentElement.appendChild(cancel);\n",
              "  cancel.textContent = 'Cancel upload';\n",
              "  const cancelPromise = new Promise((resolve) => {\n",
              "    cancel.onclick = () => {\n",
              "      resolve(null);\n",
              "    };\n",
              "  });\n",
              "\n",
              "  // Wait for the user to pick the files.\n",
              "  const files = yield {\n",
              "    promise: Promise.race([pickedPromise, cancelPromise]),\n",
              "    response: {\n",
              "      action: 'starting',\n",
              "    }\n",
              "  };\n",
              "\n",
              "  cancel.remove();\n",
              "\n",
              "  // Disable the input element since further picks are not allowed.\n",
              "  inputElement.disabled = true;\n",
              "\n",
              "  if (!files) {\n",
              "    return {\n",
              "      response: {\n",
              "        action: 'complete',\n",
              "      }\n",
              "    };\n",
              "  }\n",
              "\n",
              "  for (const file of files) {\n",
              "    const li = document.createElement('li');\n",
              "    li.append(span(file.name, {fontWeight: 'bold'}));\n",
              "    li.append(span(\n",
              "        `(${file.type || 'n/a'}) - ${file.size} bytes, ` +\n",
              "        `last modified: ${\n",
              "            file.lastModifiedDate ? file.lastModifiedDate.toLocaleDateString() :\n",
              "                                    'n/a'} - `));\n",
              "    const percent = span('0% done');\n",
              "    li.appendChild(percent);\n",
              "\n",
              "    outputElement.appendChild(li);\n",
              "\n",
              "    const fileDataPromise = new Promise((resolve) => {\n",
              "      const reader = new FileReader();\n",
              "      reader.onload = (e) => {\n",
              "        resolve(e.target.result);\n",
              "      };\n",
              "      reader.readAsArrayBuffer(file);\n",
              "    });\n",
              "    // Wait for the data to be ready.\n",
              "    let fileData = yield {\n",
              "      promise: fileDataPromise,\n",
              "      response: {\n",
              "        action: 'continue',\n",
              "      }\n",
              "    };\n",
              "\n",
              "    // Use a chunked sending to avoid message size limits. See b/62115660.\n",
              "    let position = 0;\n",
              "    do {\n",
              "      const length = Math.min(fileData.byteLength - position, MAX_PAYLOAD_SIZE);\n",
              "      const chunk = new Uint8Array(fileData, position, length);\n",
              "      position += length;\n",
              "\n",
              "      const base64 = btoa(String.fromCharCode.apply(null, chunk));\n",
              "      yield {\n",
              "        response: {\n",
              "          action: 'append',\n",
              "          file: file.name,\n",
              "          data: base64,\n",
              "        },\n",
              "      };\n",
              "\n",
              "      let percentDone = fileData.byteLength === 0 ?\n",
              "          100 :\n",
              "          Math.round((position / fileData.byteLength) * 100);\n",
              "      percent.textContent = `${percentDone}% done`;\n",
              "\n",
              "    } while (position < fileData.byteLength);\n",
              "  }\n",
              "\n",
              "  // All done.\n",
              "  yield {\n",
              "    response: {\n",
              "      action: 'complete',\n",
              "    }\n",
              "  };\n",
              "}\n",
              "\n",
              "scope.google = scope.google || {};\n",
              "scope.google.colab = scope.google.colab || {};\n",
              "scope.google.colab._files = {\n",
              "  _uploadFiles,\n",
              "  _uploadFilesContinue,\n",
              "};\n",
              "})(self);\n",
              "</script> "
            ]
          },
          "metadata": {}
        },
        {
          "output_type": "stream",
          "name": "stdout",
          "text": [
            "Saving corporateCreditRatingWithFinancialRatios.csv to corporateCreditRatingWithFinancialRatios.csv\n"
          ]
        }
      ]
    },
    {
      "cell_type": "code",
      "source": [
        "# import corporate rating conversion: \"Ratings.csv\"\n",
        "uploaded = files.upload()\n",
        "df_rating = pd.read_csv(io.BytesIO(uploaded['Ratings.csv']))\n",
        "\n",
        "# add rating conversion to dr_raw\n",
        "df = pd.merge(left=df_raw, right=df_rating, left_on=\"Rating\",\n",
        "    right_on=\"Rating\", how=\"left\")\n",
        "\n",
        "# Print the shape of Dataframe and Check for Null Values\n",
        "print(\"Dataframe Shape: \", df.shape)\n",
        "print(\"Null Value Present: \", df.isnull().values.any())\n",
        "if df.isnull().values.any() == True:\n",
        "  print('The number of missing values is ', df.isnull().sum().sum())"
      ],
      "metadata": {
        "colab": {
          "base_uri": "https://localhost:8080/",
          "height": 107
        },
        "id": "oEYAFZvb5uor",
        "outputId": "30924426-7ba5-4bed-9504-6682e38f6008"
      },
      "execution_count": 9,
      "outputs": [
        {
          "output_type": "display_data",
          "data": {
            "text/plain": [
              "<IPython.core.display.HTML object>"
            ],
            "text/html": [
              "\n",
              "     <input type=\"file\" id=\"files-9069d3db-1a09-4e19-b9f0-806b09973a39\" name=\"files[]\" multiple disabled\n",
              "        style=\"border:none\" />\n",
              "     <output id=\"result-9069d3db-1a09-4e19-b9f0-806b09973a39\">\n",
              "      Upload widget is only available when the cell has been executed in the\n",
              "      current browser session. Please rerun this cell to enable.\n",
              "      </output>\n",
              "      <script>// Copyright 2017 Google LLC\n",
              "//\n",
              "// Licensed under the Apache License, Version 2.0 (the \"License\");\n",
              "// you may not use this file except in compliance with the License.\n",
              "// You may obtain a copy of the License at\n",
              "//\n",
              "//      http://www.apache.org/licenses/LICENSE-2.0\n",
              "//\n",
              "// Unless required by applicable law or agreed to in writing, software\n",
              "// distributed under the License is distributed on an \"AS IS\" BASIS,\n",
              "// WITHOUT WARRANTIES OR CONDITIONS OF ANY KIND, either express or implied.\n",
              "// See the License for the specific language governing permissions and\n",
              "// limitations under the License.\n",
              "\n",
              "/**\n",
              " * @fileoverview Helpers for google.colab Python module.\n",
              " */\n",
              "(function(scope) {\n",
              "function span(text, styleAttributes = {}) {\n",
              "  const element = document.createElement('span');\n",
              "  element.textContent = text;\n",
              "  for (const key of Object.keys(styleAttributes)) {\n",
              "    element.style[key] = styleAttributes[key];\n",
              "  }\n",
              "  return element;\n",
              "}\n",
              "\n",
              "// Max number of bytes which will be uploaded at a time.\n",
              "const MAX_PAYLOAD_SIZE = 100 * 1024;\n",
              "\n",
              "function _uploadFiles(inputId, outputId) {\n",
              "  const steps = uploadFilesStep(inputId, outputId);\n",
              "  const outputElement = document.getElementById(outputId);\n",
              "  // Cache steps on the outputElement to make it available for the next call\n",
              "  // to uploadFilesContinue from Python.\n",
              "  outputElement.steps = steps;\n",
              "\n",
              "  return _uploadFilesContinue(outputId);\n",
              "}\n",
              "\n",
              "// This is roughly an async generator (not supported in the browser yet),\n",
              "// where there are multiple asynchronous steps and the Python side is going\n",
              "// to poll for completion of each step.\n",
              "// This uses a Promise to block the python side on completion of each step,\n",
              "// then passes the result of the previous step as the input to the next step.\n",
              "function _uploadFilesContinue(outputId) {\n",
              "  const outputElement = document.getElementById(outputId);\n",
              "  const steps = outputElement.steps;\n",
              "\n",
              "  const next = steps.next(outputElement.lastPromiseValue);\n",
              "  return Promise.resolve(next.value.promise).then((value) => {\n",
              "    // Cache the last promise value to make it available to the next\n",
              "    // step of the generator.\n",
              "    outputElement.lastPromiseValue = value;\n",
              "    return next.value.response;\n",
              "  });\n",
              "}\n",
              "\n",
              "/**\n",
              " * Generator function which is called between each async step of the upload\n",
              " * process.\n",
              " * @param {string} inputId Element ID of the input file picker element.\n",
              " * @param {string} outputId Element ID of the output display.\n",
              " * @return {!Iterable<!Object>} Iterable of next steps.\n",
              " */\n",
              "function* uploadFilesStep(inputId, outputId) {\n",
              "  const inputElement = document.getElementById(inputId);\n",
              "  inputElement.disabled = false;\n",
              "\n",
              "  const outputElement = document.getElementById(outputId);\n",
              "  outputElement.innerHTML = '';\n",
              "\n",
              "  const pickedPromise = new Promise((resolve) => {\n",
              "    inputElement.addEventListener('change', (e) => {\n",
              "      resolve(e.target.files);\n",
              "    });\n",
              "  });\n",
              "\n",
              "  const cancel = document.createElement('button');\n",
              "  inputElement.parentElement.appendChild(cancel);\n",
              "  cancel.textContent = 'Cancel upload';\n",
              "  const cancelPromise = new Promise((resolve) => {\n",
              "    cancel.onclick = () => {\n",
              "      resolve(null);\n",
              "    };\n",
              "  });\n",
              "\n",
              "  // Wait for the user to pick the files.\n",
              "  const files = yield {\n",
              "    promise: Promise.race([pickedPromise, cancelPromise]),\n",
              "    response: {\n",
              "      action: 'starting',\n",
              "    }\n",
              "  };\n",
              "\n",
              "  cancel.remove();\n",
              "\n",
              "  // Disable the input element since further picks are not allowed.\n",
              "  inputElement.disabled = true;\n",
              "\n",
              "  if (!files) {\n",
              "    return {\n",
              "      response: {\n",
              "        action: 'complete',\n",
              "      }\n",
              "    };\n",
              "  }\n",
              "\n",
              "  for (const file of files) {\n",
              "    const li = document.createElement('li');\n",
              "    li.append(span(file.name, {fontWeight: 'bold'}));\n",
              "    li.append(span(\n",
              "        `(${file.type || 'n/a'}) - ${file.size} bytes, ` +\n",
              "        `last modified: ${\n",
              "            file.lastModifiedDate ? file.lastModifiedDate.toLocaleDateString() :\n",
              "                                    'n/a'} - `));\n",
              "    const percent = span('0% done');\n",
              "    li.appendChild(percent);\n",
              "\n",
              "    outputElement.appendChild(li);\n",
              "\n",
              "    const fileDataPromise = new Promise((resolve) => {\n",
              "      const reader = new FileReader();\n",
              "      reader.onload = (e) => {\n",
              "        resolve(e.target.result);\n",
              "      };\n",
              "      reader.readAsArrayBuffer(file);\n",
              "    });\n",
              "    // Wait for the data to be ready.\n",
              "    let fileData = yield {\n",
              "      promise: fileDataPromise,\n",
              "      response: {\n",
              "        action: 'continue',\n",
              "      }\n",
              "    };\n",
              "\n",
              "    // Use a chunked sending to avoid message size limits. See b/62115660.\n",
              "    let position = 0;\n",
              "    do {\n",
              "      const length = Math.min(fileData.byteLength - position, MAX_PAYLOAD_SIZE);\n",
              "      const chunk = new Uint8Array(fileData, position, length);\n",
              "      position += length;\n",
              "\n",
              "      const base64 = btoa(String.fromCharCode.apply(null, chunk));\n",
              "      yield {\n",
              "        response: {\n",
              "          action: 'append',\n",
              "          file: file.name,\n",
              "          data: base64,\n",
              "        },\n",
              "      };\n",
              "\n",
              "      let percentDone = fileData.byteLength === 0 ?\n",
              "          100 :\n",
              "          Math.round((position / fileData.byteLength) * 100);\n",
              "      percent.textContent = `${percentDone}% done`;\n",
              "\n",
              "    } while (position < fileData.byteLength);\n",
              "  }\n",
              "\n",
              "  // All done.\n",
              "  yield {\n",
              "    response: {\n",
              "      action: 'complete',\n",
              "    }\n",
              "  };\n",
              "}\n",
              "\n",
              "scope.google = scope.google || {};\n",
              "scope.google.colab = scope.google.colab || {};\n",
              "scope.google.colab._files = {\n",
              "  _uploadFiles,\n",
              "  _uploadFilesContinue,\n",
              "};\n",
              "})(self);\n",
              "</script> "
            ]
          },
          "metadata": {}
        },
        {
          "output_type": "stream",
          "name": "stdout",
          "text": [
            "Saving Ratings.csv to Ratings.csv\n",
            "Dataframe Shape:  (7805, 26)\n",
            "Null Value Present:  False\n"
          ]
        }
      ]
    },
    {
      "cell_type": "code",
      "source": [
        "# Preview data\n",
        "print(df.columns)"
      ],
      "metadata": {
        "colab": {
          "base_uri": "https://localhost:8080/"
        },
        "id": "8u7VgjbX6my1",
        "outputId": "b95e4f27-bba6-4176-cc79-3af7a703ff2f"
      },
      "execution_count": 10,
      "outputs": [
        {
          "output_type": "stream",
          "name": "stdout",
          "text": [
            "Index(['Rating Agency', 'Corporation', 'Rating', 'Rating Date', 'CIK',\n",
            "       'Binary Rating', 'SIC Code', 'Sector', 'Ticker', 'Current Ratio',\n",
            "       'Long-term Debt / Capital', 'Debt/Equity Ratio', 'Gross Margin',\n",
            "       'Operating Margin', 'EBIT Margin', 'EBITDA Margin',\n",
            "       'Pre-Tax Profit Margin', 'Net Profit Margin', 'Asset Turnover',\n",
            "       'ROE - Return On Equity', 'Return On Tangible Equity',\n",
            "       'ROA - Return On Assets', 'ROI - Return On Investment',\n",
            "       'Operating Cash Flow Per Share', 'Free Cash Flow Per Share', 'Ranking'],\n",
            "      dtype='object')\n"
          ]
        }
      ]
    },
    {
      "cell_type": "markdown",
      "source": [
        "# **SVM**"
      ],
      "metadata": {
        "id": "uAKI3PSW6xQB"
      }
    },
    {
      "cell_type": "code",
      "source": [
        "def svm_model(X,Y):\n",
        "  X_train, X_test, y_train, y_test = train_test_split(X, Y, test_size=0.3)\n",
        "\n",
        "  rbf = svm.SVC(kernel='rbf', gamma=0.5, C=0.1).fit(X_train, y_train)\n",
        "  poly = svm.SVC(kernel='poly', degree=3, C=1).fit(X_train, y_train)\n",
        "\n",
        "  poly_pred = poly.predict(X_test)\n",
        "  rbf_pred = rbf.predict(X_test)\n",
        "\n",
        "  poly_accuracy = accuracy_score(y_test, poly_pred)\n",
        "  poly_f1 = f1_score(y_test, poly_pred, average='weighted')\n",
        "  print('Accuracy (Polynomial Kernel): ', \"%.2f\" % (poly_accuracy*100))\n",
        "  print('F1 (Polynomial Kernel): ', \"%.2f\" % (poly_f1*100))\n",
        "\n",
        "  rbf_accuracy = accuracy_score(y_test, rbf_pred)\n",
        "  rbf_f1 = f1_score(y_test, rbf_pred, average='weighted')\n",
        "  print('Accuracy (RBF Kernel): ', \"%.2f\" % (rbf_accuracy*100))\n",
        "  print('F1 (RBF Kernel): ', \"%.2f\" % (rbf_f1*100))\n",
        "  return [poly_accuracy*100, poly_f1*100, rbf_accuracy*100, rbf_f1*100]\n",
        ""
      ],
      "metadata": {
        "id": "W006xuVc6rjo"
      },
      "execution_count": 11,
      "outputs": []
    },
    {
      "cell_type": "code",
      "source": [
        "X = df.drop([\"Rating\", \"Ranking\", \"Rating Agency\", \"Corporation\", \"CIK\", \"SIC Code\",\n",
        "              \"Rating Date\", \"Binary Rating\", \"Sector\", \"Ticker\"], axis=1)\n",
        "Y = df[\"Ranking\"]\n",
        "svm_model(X,Y)"
      ],
      "metadata": {
        "colab": {
          "base_uri": "https://localhost:8080/"
        },
        "id": "I-VG_vNA62bC",
        "outputId": "16fe733c-df67-42f0-feb6-85ae5efaa1a7"
      },
      "execution_count": 12,
      "outputs": [
        {
          "output_type": "stream",
          "name": "stdout",
          "text": [
            "Accuracy (Polynomial Kernel):  12.34\n",
            "F1 (Polynomial Kernel):  3.67\n",
            "Accuracy (RBF Kernel):  11.78\n",
            "F1 (RBF Kernel):  2.48\n"
          ]
        },
        {
          "output_type": "execute_result",
          "data": {
            "text/plain": [
              "[12.339880444064901, 3.671578644574586, 11.784799316823227, 2.484801078260665]"
            ]
          },
          "metadata": {},
          "execution_count": 12
        }
      ]
    },
    {
      "cell_type": "markdown",
      "source": [
        "# **Random Forest**"
      ],
      "metadata": {
        "id": "MDKS_Okw64cO"
      }
    },
    {
      "cell_type": "code",
      "source": [
        "def randomForest(X,Y):\n",
        "  X_train, X_test, y_train, y_test = train_test_split(X, Y, test_size=0.3)\n",
        "\n",
        "  rf = RandomForestRegressor(n_estimators = 100)\n",
        "  rf.fit(X_train, y_train)\n",
        "  sel = SelectFromModel(rf)\n",
        "  sel.fit(X_train, y_train)\n",
        "\n",
        "  sel.get_support()\n",
        "  selected_feat= X_train.columns[(sel.get_support())]\n",
        "  #pd.series(sel.estimator_,feature_importances_,.ravel()).hist()\n",
        "\n",
        "  feature_names = X_train.columns\n",
        "  rf.feature_importances_\n",
        "  plt.barh(feature_names, rf.feature_importances_)\n",
        "  plt.xlabel(\"Importance\")\n",
        "  print(\"Features with greatest importances are \", selected_feat, \".\")\n",
        "  return(selected_feat)\n",
        ""
      ],
      "metadata": {
        "id": "lixogTay678b"
      },
      "execution_count": 13,
      "outputs": []
    },
    {
      "cell_type": "code",
      "source": [
        "# Splitting to Training set and Test set\n",
        "X = df.drop([\"Rating\", \"Ranking\", \"Rating Agency\", \"Corporation\", \"CIK\", \"SIC Code\",\n",
        "            \"Rating Date\", \"Binary Rating\", \"Sector\", \"Ticker\"], axis=1)\n",
        "Y = df[\"Ranking\"]\n",
        "selected_feat = randomForest(X,Y)\n"
      ],
      "metadata": {
        "colab": {
          "base_uri": "https://localhost:8080/",
          "height": 501
        },
        "id": "AYKaGV996-kE",
        "outputId": "41080ccc-bdeb-4e66-ff67-d8c80354486e"
      },
      "execution_count": 14,
      "outputs": [
        {
          "output_type": "stream",
          "name": "stdout",
          "text": [
            "Features with greatest importances are  Index(['Current Ratio', 'Long-term Debt / Capital', 'Pre-Tax Profit Margin',\n",
            "       'ROI - Return On Investment'],\n",
            "      dtype='object') .\n"
          ]
        },
        {
          "output_type": "display_data",
          "data": {
            "text/plain": [
              "<Figure size 640x480 with 1 Axes>"
            ],
            "image/png": "[encoded data removed]"
          },
          "metadata": {}
        }
      ]
    },
    {
      "cell_type": "code",
      "source": [
        "# Test using new X and Y\n",
        "X = df[selected_feat]\n",
        "Y = df[\"Ranking\"]\n",
        "svm_model(X,Y)\n"
      ],
      "metadata": {
        "colab": {
          "base_uri": "https://localhost:8080/"
        },
        "id": "oL-thi-l7CCh",
        "outputId": "e8e2a154-630d-45cd-c600-1e8d9cd3b466"
      },
      "execution_count": 15,
      "outputs": [
        {
          "output_type": "stream",
          "name": "stdout",
          "text": [
            "Accuracy (Polynomial Kernel):  12.81\n",
            "F1 (Polynomial Kernel):  4.67\n",
            "Accuracy (RBF Kernel):  16.78\n",
            "F1 (RBF Kernel):  9.05\n"
          ]
        },
        {
          "output_type": "execute_result",
          "data": {
            "text/plain": [
              "[12.809564474807855, 4.666885003708037, 16.78052946199829, 9.051489492566484]"
            ]
          },
          "metadata": {},
          "execution_count": 15
        }
      ]
    },
    {
      "cell_type": "code",
      "source": [
        "# Split the data by rating agencies since different agencies may have different\n",
        "# rating criteria/standards\n",
        "rateAge_list = df['Rating Agency'].unique()\n",
        "d = dict()\n",
        "accuracyPoly_list = []; F1Poly_list = []; accuracyRBF_list = []; F1RBF_list = []\n",
        "r_accuracyPoly_list = []; r_F1Poly_list = []; r_accuracyRBF_list = []; r_F1RBF_list = []\n",
        "selectFeat_list = []; data_list = []\n",
        "\n",
        "for i in range(0,len(rateAge_list)):\n",
        "  agency = rateAge_list[i]\n",
        "  print(agency)\n",
        "  df_new = df.loc[df['Rating Agency'] == agency]\n",
        "  data_list.append(len(df_new))\n",
        "\n",
        "  X = df_new.drop([\"Rating\", \"Ranking\", \"Rating Agency\", \"Corporation\", \"CIK\", \"SIC Code\",\n",
        "              \"Rating Date\", \"Binary Rating\", \"Sector\", \"Ticker\"], axis=1)\n",
        "  Y = df_new[\"Ranking\"]\n",
        "  [poly_accuracy, poly_f1, rbf_accuracy, rbf_f1] = svm_model(X,Y)\n",
        "  accuracyPoly_list.append(poly_accuracy); F1Poly_list.append(poly_f1)\n",
        "  accuracyRBF_list.append(rbf_accuracy); F1RBF_list.append(rbf_f1)\n",
        "\n",
        "  # Random Forest\n",
        "  selected_feat = randomForest(X,Y)\n",
        "  selectFeat_list.append(selected_feat)\n",
        "  X = df_new[selected_feat]\n",
        "  Y = df_new[\"Ranking\"]\n",
        "  [poly_accuracy, poly_f1, rbf_accuracy, rbf_f1] = svm_model(X,Y)\n",
        "  r_accuracyPoly_list.append(poly_accuracy); r_F1Poly_list.append(poly_f1)\n",
        "  r_accuracyRBF_list.append(rbf_accuracy); r_F1RBF_list.append(rbf_f1)\n"
      ],
      "metadata": {
        "colab": {
          "base_uri": "https://localhost:8080/",
          "height": 1000
        },
        "id": "tQcZ_In97IVj",
        "outputId": "6abac21d-96bf-43f5-ddb7-36e2231a24b2"
      },
      "execution_count": 17,
      "outputs": [
        {
          "output_type": "stream",
          "name": "stdout",
          "text": [
            "Standard & Poor's Ratings Services\n",
            "Accuracy (Polynomial Kernel):  11.61\n",
            "F1 (Polynomial Kernel):  2.98\n",
            "Accuracy (RBF Kernel):  11.26\n",
            "F1 (RBF Kernel):  2.28\n",
            "Features with greatest importances are  Index(['Current Ratio', 'Long-term Debt / Capital', 'Pre-Tax Profit Margin'], dtype='object') .\n",
            "Accuracy (Polynomial Kernel):  10.66\n",
            "F1 (Polynomial Kernel):  3.07\n",
            "Accuracy (RBF Kernel):  11.26\n",
            "F1 (RBF Kernel):  4.40\n",
            "DBRS\n",
            "Accuracy (Polynomial Kernel):  25.00\n",
            "F1 (Polynomial Kernel):  25.00\n",
            "Accuracy (RBF Kernel):  62.50\n",
            "F1 (RBF Kernel):  55.00\n",
            "Features with greatest importances are  Index(['ROE - Return On Equity', 'ROA - Return On Assets',\n",
            "       'ROI - Return On Investment'],\n",
            "      dtype='object') .\n",
            "Accuracy (Polynomial Kernel):  12.50\n",
            "F1 (Polynomial Kernel):  16.67\n",
            "Accuracy (RBF Kernel):  12.50\n",
            "F1 (RBF Kernel):  2.78\n",
            "Moody's Investors Service\n",
            "Accuracy (Polynomial Kernel):  11.61\n",
            "F1 (Polynomial Kernel):  2.75\n",
            "Accuracy (RBF Kernel):  11.41\n",
            "F1 (RBF Kernel):  2.34\n",
            "Features with greatest importances are  Index(['Current Ratio', 'Long-term Debt / Capital', 'EBITDA Margin',\n",
            "       'Pre-Tax Profit Margin', 'Net Profit Margin',\n",
            "       'ROI - Return On Investment'],\n",
            "      dtype='object') .\n",
            "Accuracy (Polynomial Kernel):  13.03\n",
            "F1 (Polynomial Kernel):  6.13\n",
            "Accuracy (RBF Kernel):  10.79\n",
            "F1 (RBF Kernel):  2.10\n",
            "Fitch Ratings\n",
            "Accuracy (Polynomial Kernel):  16.67\n",
            "F1 (Polynomial Kernel):  5.73\n",
            "Accuracy (RBF Kernel):  15.97\n",
            "F1 (RBF Kernel):  4.40\n",
            "Features with greatest importances are  Index(['Current Ratio', 'Long-term Debt / Capital', 'Gross Margin',\n",
            "       'EBITDA Margin', 'Pre-Tax Profit Margin', 'ROE - Return On Equity',\n",
            "       'ROI - Return On Investment'],\n",
            "      dtype='object') .\n",
            "Accuracy (Polynomial Kernel):  18.75\n",
            "F1 (Polynomial Kernel):  5.96\n",
            "Accuracy (RBF Kernel):  18.75\n",
            "F1 (RBF Kernel):  5.92\n",
            "Japan Credit Rating Agency Ltd.\n",
            "Accuracy (Polynomial Kernel):  14.29\n",
            "F1 (Polynomial Kernel):  3.57\n",
            "Accuracy (RBF Kernel):  14.29\n",
            "F1 (RBF Kernel):  3.57\n",
            "Features with greatest importances are  Index(['Current Ratio', 'Debt/Equity Ratio', 'Free Cash Flow Per Share'], dtype='object') .\n",
            "Accuracy (Polynomial Kernel):  57.14\n",
            "F1 (Polynomial Kernel):  41.56\n",
            "Accuracy (RBF Kernel):  14.29\n",
            "F1 (RBF Kernel):  3.57\n",
            "HR Ratings de Mexico S.A. de C.V.\n",
            "Accuracy (Polynomial Kernel):  50.00\n",
            "F1 (Polynomial Kernel):  33.33\n",
            "Accuracy (RBF Kernel):  50.00\n",
            "F1 (RBF Kernel):  33.33\n",
            "Features with greatest importances are  Index(['Current Ratio', 'Long-term Debt / Capital', 'Debt/Equity Ratio',\n",
            "       'Gross Margin', 'Operating Margin', 'EBIT Margin', 'EBITDA Margin',\n",
            "       'Pre-Tax Profit Margin', 'Net Profit Margin', 'Asset Turnover',\n",
            "       'ROE - Return On Equity', 'Return On Tangible Equity',\n",
            "       'ROA - Return On Assets', 'ROI - Return On Investment',\n",
            "       'Operating Cash Flow Per Share', 'Free Cash Flow Per Share'],\n",
            "      dtype='object') .\n",
            "Accuracy (Polynomial Kernel):  50.00\n",
            "F1 (Polynomial Kernel):  33.33\n",
            "Accuracy (RBF Kernel):  50.00\n",
            "F1 (RBF Kernel):  33.33\n",
            "Egan-Jones Ratings Company\n",
            "Accuracy (Polynomial Kernel):  15.21\n",
            "F1 (Polynomial Kernel):  5.89\n",
            "Accuracy (RBF Kernel):  14.03\n",
            "F1 (RBF Kernel):  3.45\n",
            "Features with greatest importances are  Index(['Current Ratio', 'Long-term Debt / Capital', 'ROE - Return On Equity',\n",
            "       'ROA - Return On Assets', 'ROI - Return On Investment'],\n",
            "      dtype='object') .\n",
            "Accuracy (Polynomial Kernel):  14.86\n",
            "F1 (Polynomial Kernel):  5.06\n",
            "Accuracy (RBF Kernel):  15.21\n",
            "F1 (RBF Kernel):  6.48\n"
          ]
        },
        {
          "output_type": "display_data",
          "data": {
            "text/plain": [
              "<Figure size 640x480 with 1 Axes>"
            ],
            "image/png": "[encoded data removed]"
          },
          "metadata": {}
        }
      ]
    },
    {
      "cell_type": "code",
      "source": [
        "# Print result into Excel\n",
        "'''\n",
        "col = [\"Accuracy (Polynomial Kernel)\", \"F1 (Polynomial Kernel)\",\n",
        "       \"Accuracy (RBF Kernel)\", \"F1 (RBF Kernel)\",\n",
        "       \"RF: Accuracy (Polynomial Kernel)\", \"RF: F1 (Polynomial Kernel)\",\n",
        "       \"RF: Accuracy (RBF Kernel)\", \"RF: F1 (RBF Kernel)\",\n",
        "       \"Selected Feature\"]\n",
        "df_result = pd.DataFrame(columns=col)\n",
        "'''\n",
        "df_result = pd.DataFrame()\n",
        "\n",
        "df_result[\"Agency\"] = rateAge_list\n",
        "df_result[\"No. of Samples\"] = data_list\n",
        "df_result[\"Accuracy (Polynomial Kernel)\"] = accuracyPoly_list\n",
        "df_result[\"F1 (Polynomial Kernel)\"] = F1Poly_list\n",
        "df_result[\"Accuracy (RBF Kernel)\"] = accuracyRBF_list\n",
        "df_result[\"F1 (RBF Kernel)\"] = F1RBF_list\n",
        "df_result[\"RF: Accuracy (Polynomial Kernel)\"] = r_accuracyPoly_list\n",
        "df_result[\"RF: F1 (Polynomial Kernel)\"] = r_F1Poly_list\n",
        "df_result[\"RF: Accuracy (RBF Kernel)\"] = r_accuracyRBF_list\n",
        "df_result[\"RF: F1 (RBF Kernel)\"] = r_F1RBF_list\n",
        "df_result[\"Selected Feature\"] = selectFeat_list"
      ],
      "metadata": {
        "id": "iT5rB_AR7L5-"
      },
      "execution_count": 18,
      "outputs": []
    },
    {
      "cell_type": "code",
      "source": [
        "import openpyxl\n",
        "df_result.to_excel('result.xlsx', index=False)"
      ],
      "metadata": {
        "id": "9rzhMC5r7NjD"
      },
      "execution_count": 19,
      "outputs": []
    },
    {
      "cell_type": "markdown",
      "source": [
        "# **Neural Network**"
      ],
      "metadata": {
        "id": "ZH5IaAIX7Rhw"
      }
    },
    {
      "cell_type": "code",
      "source": [
        "from sklearn.preprocessing import LabelEncoder\n",
        "from scikeras.wrappers import KerasClassifier\n",
        "#from keras.utils import np_utils\n",
        "from keras.utils import to_categorical\n",
        "\n",
        "# for modeling\n",
        "from keras.models import Sequential\n",
        "from keras.layers import Dense, Dropout\n",
        "from keras.callbacks import EarlyStopping\n"
      ],
      "metadata": {
        "id": "rpATswA47arM"
      },
      "execution_count": 28,
      "outputs": []
    },
    {
      "cell_type": "code",
      "source": [
        "X = df.drop([\"Rating\", \"Rating Agency\", \"Corporation\", \"CIK\", \"SIC Code\",\n",
        "              \"Rating Date\", \"Binary Rating\", \"Sector\", \"Ticker\"], axis=1)\n",
        "Y = df[\"Rating\"]\n",
        "X = np.asarray(X)\n",
        "\n",
        "# encode class values as integers\n",
        "encoder = LabelEncoder()\n",
        "encoder.fit(Y)\n",
        "encoded_Y = encoder.transform(Y)\n",
        "#dummy_y = np_utils.to_categorical(encoded_Y)\n",
        "dummy_y = to_categorical(encoded_Y)\n",
        "\n",
        "model = Sequential()\n",
        "model.add(Dense(16, input_shape=(X.shape[1],), activation='relu')) # input shape is (features,)\n",
        "model.add(Dense(23, activation='softmax'))\n",
        "model.summary()\n",
        "\n",
        "model.compile(optimizer='rmsprop',\n",
        "              loss='categorical_crossentropy', # this is different instead of binary_crossentropy (for regular classification)\n",
        "              metrics=['accuracy'])\n"
      ],
      "metadata": {
        "colab": {
          "base_uri": "https://localhost:8080/"
        },
        "id": "1TeowR8f7dXB",
        "outputId": "3c077df6-a5e9-4b0c-9409-0bd666eeff46"
      },
      "execution_count": 29,
      "outputs": [
        {
          "output_type": "stream",
          "name": "stdout",
          "text": [
            "Model: \"sequential\"\n",
            "_________________________________________________________________\n",
            " Layer (type)                Output Shape              Param #   \n",
            "=================================================================\n",
            " dense (Dense)               (None, 16)                288       \n",
            "                                                                 \n",
            " dense_1 (Dense)             (None, 23)                391       \n",
            "                                                                 \n",
            "=================================================================\n",
            "Total params: 679 (2.65 KB)\n",
            "Trainable params: 679 (2.65 KB)\n",
            "Non-trainable params: 0 (0.00 Byte)\n",
            "_________________________________________________________________\n"
          ]
        }
      ]
    },
    {
      "cell_type": "code",
      "source": [
        "# early stopping callback\n",
        "es = keras.callbacks.EarlyStopping(monitor='val_loss',\n",
        "                                   mode='min',\n",
        "                                   patience=10,\n",
        "                                   restore_best_weights=True)\n",
        "\n",
        "history = model.fit(X,\n",
        "                    dummy_y,\n",
        "                    callbacks=[es],\n",
        "                    epochs=8000,\n",
        "                    batch_size=10,\n",
        "                    shuffle=True,\n",
        "                    validation_split=0.2,\n",
        "                    verbose=1)\n",
        "\n",
        "history_dict = history.history"
      ],
      "metadata": {
        "colab": {
          "base_uri": "https://localhost:8080/"
        },
        "id": "nT47N2YZ7skJ",
        "outputId": "f3551272-2cff-4c59-9671-bb22ece1b15a"
      },
      "execution_count": 30,
      "outputs": [
        {
          "output_type": "stream",
          "name": "stdout",
          "text": [
            "Epoch 1/8000\n",
            "625/625 [==============================] - 2s 2ms/step - loss: 14.8425 - accuracy: 0.0922 - val_loss: 11.1412 - val_accuracy: 0.0871\n",
            "Epoch 2/8000\n",
            "625/625 [==============================] - 1s 2ms/step - loss: 6.2764 - accuracy: 0.1036 - val_loss: 8.6629 - val_accuracy: 0.0756\n",
            "Epoch 3/8000\n",
            "625/625 [==============================] - 3s 5ms/step - loss: 5.0465 - accuracy: 0.1103 - val_loss: 7.9037 - val_accuracy: 0.0910\n",
            "Epoch 4/8000\n",
            "625/625 [==============================] - 3s 5ms/step - loss: 4.5981 - accuracy: 0.1409 - val_loss: 7.7655 - val_accuracy: 0.1224\n",
            "Epoch 5/8000\n",
            "625/625 [==============================] - 3s 4ms/step - loss: 4.2339 - accuracy: 0.1658 - val_loss: 6.9447 - val_accuracy: 0.1403\n",
            "Epoch 6/8000\n",
            "625/625 [==============================] - 2s 2ms/step - loss: 3.9874 - accuracy: 0.1800 - val_loss: 6.3837 - val_accuracy: 0.1224\n",
            "Epoch 7/8000\n",
            "625/625 [==============================] - 1s 2ms/step - loss: 3.7956 - accuracy: 0.1890 - val_loss: 6.3074 - val_accuracy: 0.1512\n",
            "Epoch 8/8000\n",
            "625/625 [==============================] - 1s 2ms/step - loss: 3.7048 - accuracy: 0.2048 - val_loss: 5.7560 - val_accuracy: 0.1544\n",
            "Epoch 9/8000\n",
            "625/625 [==============================] - 2s 2ms/step - loss: 3.5891 - accuracy: 0.2136 - val_loss: 5.6399 - val_accuracy: 0.1723\n",
            "Epoch 10/8000\n",
            "625/625 [==============================] - 2s 3ms/step - loss: 3.3077 - accuracy: 0.2255 - val_loss: 5.7286 - val_accuracy: 0.2012\n",
            "Epoch 11/8000\n",
            "625/625 [==============================] - 1s 2ms/step - loss: 3.1814 - accuracy: 0.2325 - val_loss: 5.3251 - val_accuracy: 0.1947\n",
            "Epoch 12/8000\n",
            "625/625 [==============================] - 1s 2ms/step - loss: 3.0682 - accuracy: 0.2471 - val_loss: 5.0117 - val_accuracy: 0.2018\n",
            "Epoch 13/8000\n",
            "625/625 [==============================] - 1s 2ms/step - loss: 2.9953 - accuracy: 0.2572 - val_loss: 4.6479 - val_accuracy: 0.2287\n",
            "Epoch 14/8000\n",
            "625/625 [==============================] - 2s 4ms/step - loss: 2.8807 - accuracy: 0.2655 - val_loss: 4.4665 - val_accuracy: 0.2300\n",
            "Epoch 15/8000\n",
            "625/625 [==============================] - 3s 5ms/step - loss: 2.7342 - accuracy: 0.2748 - val_loss: 4.5022 - val_accuracy: 0.2422\n",
            "Epoch 16/8000\n",
            "625/625 [==============================] - 5s 8ms/step - loss: 2.7029 - accuracy: 0.2856 - val_loss: 4.5623 - val_accuracy: 0.2306\n",
            "Epoch 17/8000\n",
            "625/625 [==============================] - 1s 2ms/step - loss: 2.7053 - accuracy: 0.2868 - val_loss: 4.4163 - val_accuracy: 0.2537\n",
            "Epoch 18/8000\n",
            "625/625 [==============================] - 1s 2ms/step - loss: 2.6622 - accuracy: 0.3057 - val_loss: 4.3418 - val_accuracy: 0.2492\n",
            "Epoch 19/8000\n",
            "625/625 [==============================] - 1s 2ms/step - loss: 2.5397 - accuracy: 0.3109 - val_loss: 4.3212 - val_accuracy: 0.2755\n",
            "Epoch 20/8000\n",
            "625/625 [==============================] - 1s 2ms/step - loss: 2.5251 - accuracy: 0.3205 - val_loss: 4.2251 - val_accuracy: 0.2607\n",
            "Epoch 21/8000\n",
            "625/625 [==============================] - 1s 2ms/step - loss: 2.5380 - accuracy: 0.3286 - val_loss: 4.1882 - val_accuracy: 0.2934\n",
            "Epoch 22/8000\n",
            "625/625 [==============================] - 2s 3ms/step - loss: 2.4255 - accuracy: 0.3392 - val_loss: 4.2773 - val_accuracy: 0.3069\n",
            "Epoch 23/8000\n",
            "625/625 [==============================] - 1s 2ms/step - loss: 2.3567 - accuracy: 0.3445 - val_loss: 4.1562 - val_accuracy: 0.2966\n",
            "Epoch 24/8000\n",
            "625/625 [==============================] - 2s 3ms/step - loss: 2.3369 - accuracy: 0.3538 - val_loss: 3.9877 - val_accuracy: 0.2953\n",
            "Epoch 25/8000\n",
            "625/625 [==============================] - 2s 3ms/step - loss: 2.2858 - accuracy: 0.3608 - val_loss: 4.0472 - val_accuracy: 0.2966\n",
            "Epoch 26/8000\n",
            "625/625 [==============================] - 1s 2ms/step - loss: 2.3125 - accuracy: 0.3679 - val_loss: 3.9689 - val_accuracy: 0.3402\n",
            "Epoch 27/8000\n",
            "625/625 [==============================] - 1s 2ms/step - loss: 2.1906 - accuracy: 0.3792 - val_loss: 4.0009 - val_accuracy: 0.3511\n",
            "Epoch 28/8000\n",
            "625/625 [==============================] - 1s 2ms/step - loss: 2.1126 - accuracy: 0.3868 - val_loss: 4.0867 - val_accuracy: 0.3677\n",
            "Epoch 29/8000\n",
            "625/625 [==============================] - 1s 2ms/step - loss: 2.1660 - accuracy: 0.3964 - val_loss: 3.8798 - val_accuracy: 0.3728\n",
            "Epoch 30/8000\n",
            "625/625 [==============================] - 1s 2ms/step - loss: 2.1590 - accuracy: 0.4122 - val_loss: 3.9782 - val_accuracy: 0.3882\n",
            "Epoch 31/8000\n",
            "625/625 [==============================] - 1s 2ms/step - loss: 2.0672 - accuracy: 0.4234 - val_loss: 4.0030 - val_accuracy: 0.3517\n",
            "Epoch 32/8000\n",
            "625/625 [==============================] - 1s 2ms/step - loss: 2.1002 - accuracy: 0.4291 - val_loss: 3.8694 - val_accuracy: 0.3748\n",
            "Epoch 33/8000\n",
            "625/625 [==============================] - 2s 3ms/step - loss: 2.0290 - accuracy: 0.4375 - val_loss: 3.6253 - val_accuracy: 0.3748\n",
            "Epoch 34/8000\n",
            "625/625 [==============================] - 2s 3ms/step - loss: 2.0094 - accuracy: 0.4363 - val_loss: 3.6990 - val_accuracy: 0.4132\n",
            "Epoch 35/8000\n",
            "625/625 [==============================] - 1s 2ms/step - loss: 1.9626 - accuracy: 0.4497 - val_loss: 3.8613 - val_accuracy: 0.3805\n",
            "Epoch 36/8000\n",
            "625/625 [==============================] - 1s 2ms/step - loss: 1.9649 - accuracy: 0.4590 - val_loss: 3.7967 - val_accuracy: 0.4183\n",
            "Epoch 37/8000\n",
            "625/625 [==============================] - 1s 2ms/step - loss: 1.9246 - accuracy: 0.4670 - val_loss: 4.0221 - val_accuracy: 0.4305\n",
            "Epoch 38/8000\n",
            "625/625 [==============================] - 2s 3ms/step - loss: 1.9701 - accuracy: 0.4776 - val_loss: 4.0740 - val_accuracy: 0.4452\n",
            "Epoch 39/8000\n",
            "625/625 [==============================] - 1s 2ms/step - loss: 2.0099 - accuracy: 0.4795 - val_loss: 3.9595 - val_accuracy: 0.3703\n",
            "Epoch 40/8000\n",
            "625/625 [==============================] - 1s 2ms/step - loss: 1.9186 - accuracy: 0.4768 - val_loss: 3.9013 - val_accuracy: 0.4568\n",
            "Epoch 41/8000\n",
            "625/625 [==============================] - 1s 2ms/step - loss: 1.9030 - accuracy: 0.4989 - val_loss: 3.9632 - val_accuracy: 0.4978\n",
            "Epoch 42/8000\n",
            "625/625 [==============================] - 2s 3ms/step - loss: 1.9544 - accuracy: 0.5077 - val_loss: 3.8297 - val_accuracy: 0.4696\n",
            "Epoch 43/8000\n",
            "625/625 [==============================] - 1s 2ms/step - loss: 1.8675 - accuracy: 0.5104 - val_loss: 3.7143 - val_accuracy: 0.4728\n"
          ]
        }
      ]
    },
    {
      "cell_type": "code",
      "source": [
        "# accuracy\n",
        "acc = history_dict['accuracy']\n",
        "val_acc = history_dict['val_accuracy']\n",
        "\n",
        "# loss\n",
        "loss = history_dict['loss']\n",
        "val_loss = history_dict['val_loss']\n",
        "\n",
        "# range of X (no. of epochs)\n",
        "epochs = range(1, len(acc) + 1)\n"
      ],
      "metadata": {
        "id": "T0ER-O0R7vN8"
      },
      "execution_count": 31,
      "outputs": []
    },
    {
      "cell_type": "code",
      "source": [
        "# plot\n",
        "plt.plot(epochs, acc, 'r', label='Training accuracy')\n",
        "plt.plot(epochs, val_acc, 'b', label='Validation accuracy')\n",
        "plt.title('Training and validation accuracy')\n",
        "plt.xlabel('Epochs')\n",
        "plt.ylabel('Accuracy')\n",
        "plt.legend()\n",
        "plt.show()"
      ],
      "metadata": {
        "colab": {
          "base_uri": "https://localhost:8080/",
          "height": 472
        },
        "id": "m63rMFgC7x2-",
        "outputId": "0ed57ba8-bdda-45b7-a70c-2f2d11973cbd"
      },
      "execution_count": 32,
      "outputs": [
        {
          "output_type": "display_data",
          "data": {
            "text/plain": [
              "<Figure size 640x480 with 1 Axes>"
            ],
            "image/png": "[encoded data removed]"
          },
          "metadata": {}
        }
      ]
    },
    {
      "cell_type": "code",
      "source": [
        "from sklearn.metrics import confusion_matrix\n",
        "from sklearn.metrics import classification_report\n",
        "\n",
        "preds = model.predict(X)\n",
        "#print(preds[0])\n",
        "#print(np.sum(preds[0]))\n",
        "\n",
        "matrix = confusion_matrix(dummy_y.argmax(axis=1), preds.argmax(axis=1))\n",
        "\n",
        "print(classification_report(dummy_y.argmax(axis=1), preds.argmax(axis=1), zero_division=0))\n"
      ],
      "metadata": {
        "colab": {
          "base_uri": "https://localhost:8080/"
        },
        "id": "jVSuS7wB70Cu",
        "outputId": "5b663bf7-9c04-4a98-b114-af7524fc1e5a"
      },
      "execution_count": 39,
      "outputs": [
        {
          "output_type": "stream",
          "name": "stdout",
          "text": [
            "\r  1/244 [..............................] - ETA: 9s"
          ]
        },
        {
          "output_type": "stream",
          "name": "stderr",
          "text": [
            "/usr/local/lib/python3.10/dist-packages/ipykernel/ipkernel.py:283: DeprecationWarning: `should_run_async` will not call `transform_cell` automatically in the future. Please pass the result to `transformed_cell` argument and any exception that happen during thetransform in `preprocessing_exc_tuple` in IPython 7.17 and above.\n",
            "  and should_run_async(code)\n"
          ]
        },
        {
          "output_type": "stream",
          "name": "stdout",
          "text": [
            "244/244 [==============================] - 1s 3ms/step\n",
            "              precision    recall  f1-score   support\n",
            "\n",
            "           0       0.51      0.90      0.65       836\n",
            "           1       0.55      0.30      0.39       478\n",
            "           2       0.53      0.03      0.05       722\n",
            "           3       0.81      0.46      0.59       185\n",
            "           4       0.00      0.00      0.00        73\n",
            "           5       0.63      0.68      0.65       254\n",
            "           6       0.57      0.98      0.72        90\n",
            "           7       0.29      0.01      0.01       310\n",
            "           8       0.23      0.66      0.34       422\n",
            "           9       0.37      0.31      0.34       288\n",
            "          10       0.16      0.03      0.05       453\n",
            "          11       0.35      0.51      0.41       545\n",
            "          12       0.18      0.12      0.14       427\n",
            "          13       0.44      0.63      0.52       910\n",
            "          14       0.43      0.72      0.54       846\n",
            "          15       0.22      0.03      0.05       705\n",
            "          16       0.00      0.00      0.00        11\n",
            "          17       0.75      0.17      0.27        18\n",
            "          18       0.00      0.00      0.00         1\n",
            "          19       0.29      0.08      0.12        65\n",
            "          20       0.10      0.03      0.04       151\n",
            "          21       0.00      0.00      0.00        10\n",
            "          22       0.00      0.00      0.00         5\n",
            "\n",
            "    accuracy                           0.41      7805\n",
            "   macro avg       0.32      0.29      0.26      7805\n",
            "weighted avg       0.39      0.41      0.34      7805\n",
            "\n"
          ]
        }
      ]
    }
  ]
}